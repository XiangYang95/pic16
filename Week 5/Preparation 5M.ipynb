{
 "cells": [
  {
   "cell_type": "code",
   "execution_count": 18,
   "metadata": {
    "scrolled": false
   },
   "outputs": [
    {
     "ename": "SystemExit",
     "evalue": "-1",
     "output_type": "error",
     "traceback": [
      "An exception has occurred, use %tb to see the full traceback.\n",
      "\u001b[1;31mSystemExit\u001b[0m\u001b[1;31m:\u001b[0m -1\n"
     ]
    }
   ],
   "source": [
    "import sys\n",
    "from PyQt5.QtCore import QTimer\n",
    "from PyQt5.QtWidgets import QApplication\n",
    "timer = QTimer()\n",
    "\n",
    "\n",
    "app = QApplication(sys.argv)\n",
    "\n",
    "\n",
    "def g():\n",
    "    g.k += 1   \n",
    "    print \"Hello {}!\".format(g.k)\n",
    "g.k = 0\n",
    "\n",
    "timer.timeout.connect(g)\n",
    "\n",
    "timer.start(1000)\n",
    "\n",
    "sys.exit(app.exec_())"
   ]
  }
 ],
 "metadata": {
  "kernelspec": {
   "display_name": "Python 2",
   "language": "python",
   "name": "python2"
  },
  "language_info": {
   "codemirror_mode": {
    "name": "ipython",
    "version": 2
   },
   "file_extension": ".py",
   "mimetype": "text/x-python",
   "name": "python",
   "nbconvert_exporter": "python",
   "pygments_lexer": "ipython2",
   "version": "2.7.14"
  }
 },
 "nbformat": 4,
 "nbformat_minor": 2
}
