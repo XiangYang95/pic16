{
 "cells": [
  {
   "cell_type": "code",
   "execution_count": 1,
   "metadata": {},
   "outputs": [
    {
     "name": "stdout",
     "output_type": "stream",
     "text": [
      "5306.59541029\n"
     ]
    }
   ],
   "source": [
    "def A(P, r, n, t):\n",
    "    return P*(1+r/n)**(n*t)\n",
    "\n",
    "print A(2000, 0.1, 2, 10)"
   ]
  },
  {
   "cell_type": "code",
   "execution_count": 2,
   "metadata": {
    "scrolled": true
   },
   "outputs": [
    {
     "name": "stdout",
     "output_type": "stream",
     "text": [
      "23490134 11745067\n",
      "11745067 5872533\n",
      "5872533 2936266\n",
      "2936266 1468133\n",
      "1468133 734066\n",
      "734066 367033\n",
      "367033 183516\n",
      "183516 91758\n",
      "91758 45879\n",
      "45879 22939\n",
      "22939 11469\n",
      "11469 5734\n",
      "5734 2867\n",
      "2867 1433\n",
      "1433 716\n",
      "716 358\n",
      "358 179\n",
      "179 89\n",
      "89 44\n",
      "44 22\n",
      "22 11\n",
      "11 5\n",
      "5 2\n",
      "2 1\n",
      "1 0\n"
     ]
    },
    {
     "data": {
      "text/plain": [
       "25"
      ]
     },
     "execution_count": 2,
     "metadata": {},
     "output_type": "execute_result"
    }
   ],
   "source": [
    "def f(x):\n",
    "    k = []\n",
    "    while x > 0:\n",
    "        j = x\n",
    "        k.append(j%2)\n",
    "        x = x/2\n",
    "        print j,x\n",
    "        \n",
    "    return len(k)\n",
    "\n",
    "f(23490134)\n",
    "        "
   ]
  },
  {
   "cell_type": "code",
   "execution_count": 4,
   "metadata": {
    "scrolled": true
   },
   "outputs": [
    {
     "data": {
      "text/plain": [
       "[9587,\n",
       " 9585,\n",
       " 9583,\n",
       " 9581,\n",
       " 9579,\n",
       " 9577,\n",
       " 9575,\n",
       " 9573,\n",
       " 9571,\n",
       " 9569,\n",
       " 9567,\n",
       " 9565,\n",
       " 9563,\n",
       " 9561,\n",
       " 9559,\n",
       " 9557,\n",
       " 9555,\n",
       " 9553,\n",
       " 9551]"
      ]
     },
     "execution_count": 4,
     "metadata": {},
     "output_type": "execute_result"
    }
   ],
   "source": [
    "range(9587, 9550, -2)"
   ]
  },
  {
   "cell_type": "code",
   "execution_count": 6,
   "metadata": {},
   "outputs": [
    {
     "data": {
      "text/plain": [
       "0.14676266317373993"
      ]
     },
     "execution_count": 6,
     "metadata": {},
     "output_type": "execute_result"
    }
   ],
   "source": [
    "import math\n",
    "f = lambda x, m, s: 1/(s*(math.sqrt(2*math.pi)))*math.exp(-(x-m)**2/(2*s**2)) \n",
    "f(2,1,1)"
   ]
  },
  {
   "cell_type": "code",
   "execution_count": 16,
   "metadata": {},
   "outputs": [
    {
     "data": {
      "text/plain": [
       "[2, 1]"
      ]
     },
     "execution_count": 16,
     "metadata": {},
     "output_type": "execute_result"
    }
   ],
   "source": [
    "strAndInt = (\"one\", 2, 1, \"three\")\n",
    "list(filter(lambda x: type(x) == int, strAndInt ))\n"
   ]
  },
  {
   "cell_type": "code",
   "execution_count": 19,
   "metadata": {},
   "outputs": [
    {
     "data": {
      "text/plain": [
       "[2, 'three']"
      ]
     },
     "execution_count": 19,
     "metadata": {},
     "output_type": "execute_result"
    }
   ],
   "source": [
    "list(filter(lambda x: (type(x) == int and x%2 == 0) or (type(x) == str and len(x) >= 4), strAndInt))"
   ]
  },
  {
   "cell_type": "code",
   "execution_count": 24,
   "metadata": {
    "scrolled": true
   },
   "outputs": [
    {
     "name": "stdout",
     "output_type": "stream",
     "text": [
      "Enter Positive Integer n: 6\n",
      "[3, 6, 9, 12, 15, 18]\n"
     ]
    }
   ],
   "source": [
    "number = input(\"Enter Positive Integer n: \")\n",
    "if number < 0:\n",
    "    print \"That was not a positive integer.\"\n",
    "else:\n",
    "    end = 3*number +1\n",
    "    numList = range(3, end ,3)\n",
    "    print numList\n",
    "    "
   ]
  },
  {
   "cell_type": "code",
   "execution_count": 40,
   "metadata": {},
   "outputs": [
    {
     "name": "stdout",
     "output_type": "stream",
     "text": [
      "285\n"
     ]
    }
   ],
   "source": [
    "with open(\"words.txt\", 'r') as openfile:\n",
    "    k = \"\"\n",
    "    j = []\n",
    "    for i in openfile.read():\n",
    "        \n",
    "        \n",
    "        if i != \" \" and i != \"\\n\":\n",
    "            k += i\n",
    "        \n",
    "        else:\n",
    "            j.append(k)\n",
    "            k = \"\"\n",
    "            \n",
    "    print len(set(j))\n",
    "        "
   ]
  },
  {
   "cell_type": "code",
   "execution_count": 52,
   "metadata": {},
   "outputs": [
    {
     "name": "stdout",
     "output_type": "stream",
     "text": [
      "193.41495940571\n"
     ]
    }
   ],
   "source": [
    "import csv\n",
    "\n",
    "with open(\"heights.csv\", \"r\") as csvfile:\n",
    "    csv = csv.reader(csvfile, delimiter=',', quotechar='|')\n",
    "    csv.next()\n",
    "    wordDict = {}\n",
    "    for i in csv:\n",
    "        wordDict[i[0]] = i[1]\n",
    "        \n",
    "    print wordDict[\"Henry\"]\n",
    "    \n",
    "    "
   ]
  },
  {
   "cell_type": "code",
   "execution_count": 69,
   "metadata": {},
   "outputs": [
    {
     "name": "stdout",
     "output_type": "stream",
     "text": [
      "15629.7062774\n",
      "177.610298606\n"
     ]
    }
   ],
   "source": [
    "heightGen = (h for h in wordDict.values())\n",
    "k = 0\n",
    "\n",
    "j = reduce(lambda x, y: float(x)+ float(y), heightGen)\n",
    "print j\n",
    "print j/len(wordDict)"
   ]
  },
  {
   "cell_type": "code",
   "execution_count": 88,
   "metadata": {
    "scrolled": true
   },
   "outputs": [
    {
     "name": "stdout",
     "output_type": "stream",
     "text": [
      "[1, 2, 3, 20]\n",
      "1\n",
      "2\n",
      "3\n",
      "20\n"
     ]
    }
   ],
   "source": [
    "class MyList:\n",
    "    def __init__(self, numList):\n",
    "        self.list = numList\n",
    "        self.index = 0\n",
    "    \n",
    "    def __iter__(self):\n",
    "        return iter(self.list)\n",
    "    \n",
    "    def next(self):\n",
    "        if self.index != len(numList):\n",
    "            raise StopIteration\n",
    "        self.index += 1\n",
    "        return self.list[index - 1]\n",
    "    \n",
    "    def __getitem__(self, x):\n",
    "        return self.list[x]\n",
    "    \n",
    "    def __str__(self):\n",
    "        return str(list(set(self.list)))\n",
    "    \n",
    "    def __setitem__(self, x, k):\n",
    "        return self.list.append(k)\n",
    "    \n",
    "x = MyList([1,2,3])\n",
    "x[2] = 20\n",
    "print x\n",
    "for i in x:\n",
    "    print i\n"
   ]
  },
  {
   "cell_type": "code",
   "execution_count": 77,
   "metadata": {},
   "outputs": [
    {
     "name": "stdout",
     "output_type": "stream",
     "text": [
      "[('keep', 'google', 'com'), ('giving', 'gpc', 'edu'), ('host', 'subdomain', 'topdomain'), ('www', 'giving', 'gpc'), ('', 'giving', 'gpc'), ('', 'giving', 'gpc')]\n"
     ]
    }
   ],
   "source": [
    "import re\n",
    "regexWWW = r\"(w+)\\.([a-zA-Z]+)\\.([a-zA-Z]+)\"\n",
    "regexWWW2 = r\"[a-zA-Z]+\\.([a-zA-Z]+)\\.([a-zA-Z]+)\"\n",
    "regexURL = r\"([a-zA-Z]+)\\.([a-zA-Z]+)\\.([a-zA-Z]+)\"\n",
    "regex = regexWWW or regexURL\n",
    "with open(\"urls.txt\", \"r\") as urlText:\n",
    "    k = re.findall(regexURL, urlText.read())\n",
    "\n",
    "    for i in k:\n",
    "        if i[0] == \"host\":\n",
    "            del k[k.index(i)]\n",
    "        if i[0] == \"www\":\n",
    "            o = ('', 'giving', 'gpc')\n",
    "            del k[k.index(i)]\n",
    "            k.append(o)\n",
    "    \n",
    "        \n",
    "    print k"
   ]
  }
 ],
 "metadata": {
  "kernelspec": {
   "display_name": "Python 2",
   "language": "python",
   "name": "python2"
  },
  "language_info": {
   "codemirror_mode": {
    "name": "ipython",
    "version": 2
   },
   "file_extension": ".py",
   "mimetype": "text/x-python",
   "name": "python",
   "nbconvert_exporter": "python",
   "pygments_lexer": "ipython2",
   "version": "2.7.14"
  }
 },
 "nbformat": 4,
 "nbformat_minor": 2
}
