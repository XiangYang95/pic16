{
 "cells": [
  {
   "cell_type": "markdown",
   "metadata": {},
   "source": [
    "In this exam option you will use <tt>scipy.integrate.odeint</tt> to simulate the motion of a ballistic projectile, that is, an object that moves under the influence of gravity alone. Then you will use your simulation in conjunction with <tt>scipy.optimize.minimize</tt> in order to find the initial velocity (speed and direction) that will cause your projectile to hit a desired target with minimum initial kinetic energy (speed).\n",
    "\n",
    "The equations of motion of a ballistic projectile are: <br>\n",
    "$\\frac{d^2x}{dt} = 0$ <br>\n",
    "$\\frac{d^2y}{dt} = -g$ <br>\n",
    "where $x$ is the horizontal position, $y$ is the vertical position, and $g = 9.81$ m/s is the acceleration due to gravity.\n",
    "\n",
    "Your simulation is subject to the initial conditions: <br>\n",
    "$x(t=0) = 0$ <br>\n",
    "$y(t=0) = 0$ <br>\n",
    "$\\frac{dx}{dt}(t=0) = v_x $ <br>\n",
    "$\\frac{dy}{dt}(t=0) = v_y $ <br>\n",
    "where $v_x$ and $v_y$ are the horizontal and vertical (respectively) components of the initial velocity.\n"
   ]
  },
  {
   "cell_type": "markdown",
   "metadata": {},
   "source": [
    "1) The first step is the convert this system of two second-order (involving second time derivatives) equations into a system of four first-order (involving only first time derivatives) equations. I'll even suggest what this system should look like: you want equations of the form $\\frac{dz_i}{dt} = f(z)$, where $z = [x,\\dot{x},y,\\dot{y}]$. While I suggest you write this out on paper, you don't have to turn it in. If you choose this exam option, I'm hoping you get beyond this first part, and I'll know you did it based on the rest of the assignment. "
   ]
  },
  {
   "cell_type": "markdown",
   "metadata": {},
   "source": [
    "2) Write a Python function <tt>f(z,t)</tt> that represents your system of first-order ordinary differential equations."
   ]
  },
  {
   "cell_type": "code",
   "execution_count": 50,
   "metadata": {
    "collapsed": true
   },
   "outputs": [],
   "source": [
    "import numpy as np\n",
    "def f(z,t):\n",
    "    dz = np.zeros(len(z))\n",
    "    dz[0] = z[1]\n",
    "    dz[1] = 0\n",
    "    dz[2] = z[3]\n",
    "    dz[3] = -9.81\n",
    "    return dz\n"
   ]
  },
  {
   "cell_type": "markdown",
   "metadata": {},
   "source": [
    "3) Solve this equation from $t = 0$s to $t = 2$s using <tt>odeint</tt> assuming $v_x = v_y = 10$m/s. Plot the solution $y(t)$ (vertical axis) against $x(t)$ (horizontal axis) using <tt>matplotlib</tt>.  Use a fine enough array of time points in the simulation to get a smooth plot."
   ]
  },
  {
   "cell_type": "code",
   "execution_count": 51,
   "metadata": {},
   "outputs": [
    {
     "name": "stdout",
     "output_type": "stream",
     "text": [
      "[[  0.          10.           0.          10.        ]\n",
      " [  0.04008016  10.           0.04000137   9.96068136]\n",
      " [  0.08016032  10.           0.07984514   9.92136273]\n",
      " ..., \n",
      " [ 19.91983968  10.           0.45679905  -9.54136273]\n",
      " [ 19.95991984  10.           0.41847832  -9.58068136]\n",
      " [ 20.          10.           0.38        -9.62      ]]\n"
     ]
    }
   ],
   "source": [
    "import scipy.integrate as sci\n",
    "import numpy as np\n",
    "t = np.linspace(0,2,500)\n",
    "z = sci.odeint(f, y0 = [0,10,0,10], t=t)\n",
    "print z"
   ]
  },
  {
   "cell_type": "code",
   "execution_count": 52,
   "metadata": {},
   "outputs": [
    {
     "data": {
      "text/plain": [
       "[<matplotlib.lines.Line2D at 0xd8d52e8>]"
      ]
     },
     "execution_count": 52,
     "metadata": {},
     "output_type": "execute_result"
    },
    {
     "data": {
      "image/png": "[encoded data removed]",
      "text/plain": [
       "<matplotlib.figure.Figure at 0xd4b2ac8>"
      ]
     },
     "metadata": {},
     "output_type": "display_data"
    }
   ],
   "source": [
    "import matplotlib.pyplot as plt\n",
    "%matplotlib inline\n",
    "plt.plot(z[:,0], z[:,2])"
   ]
  },
  {
   "cell_type": "code",
   "execution_count": null,
   "metadata": {},
   "outputs": [],
   "source": []
  },
  {
   "cell_type": "markdown",
   "metadata": {},
   "source": [
    "This is a plot of the trajectory of the ballistic projectile, as though it left a trail of smoke behind it as it flew. You should see an upside-down parabola rising from (0,0) to about (10,5) and then falling back to (20,0)."
   ]
  },
  {
   "cell_type": "markdown",
   "metadata": {},
   "source": [
    "4) Write a function <tt>ballisticSim(z0, tf)</tt> that accepts an initial condition <tt>z0</tt> and final time <tt>tf</tt> and returns the horizontal and vertical components of the trajectory $x(t)$ and $y(t)$ (as separate 1D arrays). Use the same number of time points as in the last part. Call this function to run the same simulation as before, then plot the resulting trajectory. (All you're doing is converting some of your last cell into a function.) "
   ]
  },
  {
   "cell_type": "code",
   "execution_count": 53,
   "metadata": {},
   "outputs": [
    {
     "data": {
      "text/plain": [
       "[<matplotlib.lines.Line2D at 0xdb19048>]"
      ]
     },
     "execution_count": 53,
     "metadata": {},
     "output_type": "execute_result"
    },
    {
     "data": {
      "image/png": "[encoded data removed]",
      "text/plain": [
       "<matplotlib.figure.Figure at 0xd671630>"
      ]
     },
     "metadata": {},
     "output_type": "display_data"
    }
   ],
   "source": [
    "def ballisticSim(z0, tf):\n",
    "    t = np.linspace(0,tf,500)\n",
    "    z = sci.odeint(f, y0 = z0, t=t) \n",
    "    return z[:,0], z[:,2]\n",
    "x,y = ballisticSim([0,10,0,10], 2)\n",
    "plt.plot(x, y)"
   ]
  },
  {
   "cell_type": "code",
   "execution_count": null,
   "metadata": {},
   "outputs": [],
   "source": []
  },
  {
   "cell_type": "markdown",
   "metadata": {},
   "source": [
    "Your plot should look the same as before; all you've done is written a function that will make your code a little more readable. (You should probably also try changing the inputs to make sure that this causes the plot to change! Use your intuitiion to determine whether the result seems right: if <tt>tf</tt> increases, the final $x$ coordinate should be higher, etc...)"
   ]
  },
  {
   "cell_type": "markdown",
   "metadata": {},
   "source": [
    "5) Copy and past, then tweak your function <tt>ballisticSim</tt> to accept three arguments instead of two:\n",
    "<ol>\n",
    "<li><tt>th</tt> (representing $\\theta$), the initial angle of the projectile's velocity with respect to horizontal, specified in radians;</li>\n",
    "<li><tt>v0</tt> (representing $v_0$), the initial speed of the projectile; and</li>\n",
    "<li><tt>tf</tt>, the final time of simulation (as before).\n",
    "</ol><br>\n",
    "The only change you need to make inside the function, besides the argument list, is to determine the initial condition (<tt>z0</tt>) based on the initial angle and initial speed. This is just a bit of trigonometry: $v_x = v_0 \\cos(\\theta)$ and $v_y = v_0 \\sin(\\theta)$. The initial position is still $x = 0$, $y= 0$.\n",
    "\n",
    "Test your function and plot the result of the simulation for $v_0 = 10 \\sqrt(2)$ and $\\theta = \\pi/4$. This plot should still look the same as before.  (Again try changing the inputs to make sure that this causes the plot to change appropriately. If you increase the initial speed, the projectile should go further, etc....)"
   ]
  },
  {
   "cell_type": "code",
   "execution_count": 54,
   "metadata": {},
   "outputs": [
    {
     "data": {
      "text/plain": [
       "[<matplotlib.lines.Line2D at 0xddf3828>]"
      ]
     },
     "execution_count": 54,
     "metadata": {},
     "output_type": "execute_result"
    },
    {
     "data": {
      "image/png": "[encoded data removed]",
      "text/plain": [
       "<matplotlib.figure.Figure at 0xdc85be0>"
      ]
     },
     "metadata": {},
     "output_type": "display_data"
    }
   ],
   "source": [
    "def ballisticSim(th, v0, tf):\n",
    "    t = np.linspace(0,tf,500)\n",
    "    Vx = v0*np.cos(th)\n",
    "    Vy = v0*np.sin(th)\n",
    "    z0 = [0,Vx,0,Vy]\n",
    "    z = sci.odeint(f, y0 = z0, t=t) \n",
    "    return z[:,0], z[:,2]\n",
    "x,y = ballisticSim(np.pi/4.0, 10*np.sqrt(2), 2)\n",
    "plt.plot(x,y)"
   ]
  },
  {
   "cell_type": "code",
   "execution_count": null,
   "metadata": {},
   "outputs": [],
   "source": []
  },
  {
   "cell_type": "markdown",
   "metadata": {},
   "source": [
    "6) Write a function <tt>ballisticError(w, target)</tt> that accepts:\n",
    "<ol>\n",
    "<li>a list-like object (list, 1D Numpy array, etc...) <tt>w</tt> containing your three decision variables (<tt>th</tt>, <tt>v0</tt>, and <tt>tf</tt>) and</li>\n",
    "<li>a list-like object <tt>target</tt> containing the x and y coordinates of the point you want to hit</li>\n",
    "</ol>\n",
    "and returns <tt>err</tt>, a list-like object composed of <tt>dx</tt> and <tt>dy</tt>, the horizontal and vertical distances between the projectile at time <tt>tf</tt> and the point you wanted to hit <tt>target</tt>. \n",
    "\n",
    "Since you already have <tt>ballisticSim</tt>, this doesn't take much code to write. You just need to unpack the input <tt>w</tt>, use the values it contains to run <tt>ballisticSim</tt>, and return the differences between the last of the resulting <tt>x</tt> and <tt>y</tt> coordinates and your target coordinates.\n",
    "\n",
    "The reason we're writing this function is that we will use it to find the values of decision variables <tt>th</tt>, <tt>v0</tt>, and <tt>tf</tt> that cause the projectile to hit the target. In future parts, <tt>minimize</tt> is going to start with your initial guess of the decision variables, evaluate <tt>ballisticError(w, target)</tt> with them, and iteratively tweak the values of the decision variables until the components of the <tt>err</tt> are both zero, indicating that the target is hit.  It will then include these values in the object it returns.\n",
    "\n",
    "<i>Technical note: you might argue that $t_f$ should not be needed in order to determine whether the projectile will hit the target. This is true, but it is much easier to write a constraint function that requires the projectile to be at the target location at the </i>end<i> of simulation than at some undetermined time of a simulation of some unspecified duration. You're welcome to try your luck without $t_f$ as a decision variable, but I don't recommend it.</i>\n",
    "\n",
    "Test <tt>ballisticError</tt> with <tt>w</tt> containing the values of the decision variables you've used in previous simulations and make the target the point (20,0). <tt>ballisticError</tt> should tell you that there is zero (or very, very small) error in the horizontal direction and about $0.38$m error in the vertical direction."
   ]
  },
  {
   "cell_type": "code",
   "execution_count": 55,
   "metadata": {},
   "outputs": [
    {
     "data": {
      "text/plain": [
       "(0.0, 0.37999999999763645)"
      ]
     },
     "execution_count": 55,
     "metadata": {},
     "output_type": "execute_result"
    }
   ],
   "source": [
    "def ballisticsError(w, target):\n",
    "    x, y = ballisticSim(*w)\n",
    "    dx = x[-1] - target[0]\n",
    "    dy = y[-1] - target[1]\n",
    "    return dx,dy\n",
    "\n",
    "ballisticsError([np.pi/4.0, 10*np.sqrt(2), 2], (20,0))"
   ]
  },
  {
   "cell_type": "code",
   "execution_count": null,
   "metadata": {},
   "outputs": [],
   "source": []
  },
  {
   "cell_type": "markdown",
   "metadata": {},
   "source": [
    "7) (Optional) Write a lambda function <tt>constraint(w)</tt> that executes <tt>ballisticError(w,target)</tt> and returns whatever <tt>ballisticError</tt> returns. This is basically just a wrapper function that eliminates the need for <tt>minimize</tt> to pass an additional argument <tt>target</tt> to <tt>ballisticError</tt>. (If it doesn't make sense now, perhaps it will in two more steps. If you prefer, you can get around this step if you use the optional argument to <tt>minimize</tt> called <tt>args</tt>.)"
   ]
  },
  {
   "cell_type": "code",
   "execution_count": 60,
   "metadata": {},
   "outputs": [
    {
     "data": {
      "text/plain": [
       "(0.0, 0.37999999999763645)"
      ]
     },
     "execution_count": 60,
     "metadata": {},
     "output_type": "execute_result"
    }
   ],
   "source": [
    "target = (20,0)\n",
    "constraint = lambda w: ballisticsError(w, target)\n",
    "constraint([np.pi/4.0, 10*np.sqrt(2), 2])"
   ]
  },
  {
   "cell_type": "markdown",
   "metadata": {},
   "source": [
    "8) Considering we are trying to minimize the initial speed required to hit the target, write an appropriate objective function <tt>objective(w)</tt>. It's a one-liner."
   ]
  },
  {
   "cell_type": "code",
   "execution_count": 57,
   "metadata": {
    "collapsed": true
   },
   "outputs": [],
   "source": [
    "def objective(w):\n",
    "    return w[1]"
   ]
  },
  {
   "cell_type": "markdown",
   "metadata": {},
   "source": [
    "9) Using guess for the decision variables <tt>w0 = [0.1,1,1]</tt>, use <tt>minimize</tt> to find the solution to our problem. Again, <tt>minimize</tt> will take your guess <tt>w0</tt> as the initial value of <tt>w</tt> and iteratively refine the values inside in order to minimize <tt>objective</tt> while satisifying <tt>constraint</tt>. Print the results returned by <tt>minimize</tt>. The optimization should have terminated successfully."
   ]
  },
  {
   "cell_type": "code",
   "execution_count": 63,
   "metadata": {},
   "outputs": [
    {
     "name": "stdout",
     "output_type": "stream",
     "text": [
      "     fun: 14.00714089451097\n",
      "     jac: array([ 0.,  1.,  0.])\n",
      " message: 'Optimization terminated successfully.'\n",
      "    nfev: 60\n",
      "     nit: 12\n",
      "    njev: 12\n",
      "  status: 0\n",
      " success: True\n",
      "       x: array([  0.78538144,  14.00714089,   2.01924134])\n"
     ]
    }
   ],
   "source": [
    "import scipy.optimize as sciop\n",
    "res = sciop.minimize(objective, x0 = [0.1,1,1], constraints = {\"type\":\"eq\", \"fun\" :constraint})\n",
    "print res"
   ]
  },
  {
   "cell_type": "code",
   "execution_count": 11,
   "metadata": {},
   "outputs": [
    {
     "name": "stdout",
     "output_type": "stream",
     "text": [
      "  status: 0\n",
      " success: True\n",
      "    njev: 12\n",
      "    nfev: 60\n",
      "     fun: 14.007140894258344\n",
      "       x: array([  0.78538146,  14.00714089,   2.01924136])\n",
      " message: 'Optimization terminated successfully.'\n",
      "     jac: array([ 0.,  1.,  0.,  0.])\n",
      "     nit: 12\n"
     ]
    }
   ],
   "source": []
  },
  {
   "cell_type": "markdown",
   "metadata": {},
   "source": [
    "10) Unpack the result returned by <tt>minimize</tt> and run <tt>ballisticSim</tt> with the values of the decision variables that cause the projectile to hit the target (with minimimum initial speed). Show a plot. It should look similar to the previous plots, except that now the projectile actually ends at (20, 0) rather than above it."
   ]
  },
  {
   "cell_type": "code",
   "execution_count": 64,
   "metadata": {},
   "outputs": [
    {
     "data": {
      "text/plain": [
       "[<matplotlib.lines.Line2D at 0xdfbcb38>]"
      ]
     },
     "execution_count": 64,
     "metadata": {},
     "output_type": "execute_result"
    },
    {
     "data": {
      "image/png": "[encoded data removed]",
      "text/plain": [
       "<matplotlib.figure.Figure at 0xd8f1898>"
      ]
     },
     "metadata": {},
     "output_type": "display_data"
    }
   ],
   "source": [
    "x,y = ballisticSim(*res.x)\n",
    "plt.plot(x,y)"
   ]
  },
  {
   "cell_type": "code",
   "execution_count": 12,
   "metadata": {},
   "outputs": [
    {
     "data": {
      "text/plain": [
       "[<matplotlib.lines.Line2D at 0x14740b00>]"
      ]
     },
     "execution_count": 12,
     "metadata": {},
     "output_type": "execute_result"
    },
    {
     "data": {
      "image/png": "[encoded data removed]",
      "text/plain": [
       "<matplotlib.figure.Figure at 0x140bf9e8>"
      ]
     },
     "metadata": {},
     "output_type": "display_data"
    }
   ],
   "source": []
  },
  {
   "cell_type": "markdown",
   "metadata": {},
   "source": [
    "11) Show me that you really understand what's going on by adding a constraint that prevents the vertical position of the projectile from exeeding 4m. Show that the minimizer (usually) converges to the solution when the guess consists of random variables between 0 and 1. You might need to (determine) and add bounds for the decision variables to make this possible."
   ]
  },
  {
   "cell_type": "code",
   "execution_count": 80,
   "metadata": {},
   "outputs": [
    {
     "name": "stdout",
     "output_type": "stream",
     "text": [
      "     fun: 0.9999999999999977\n",
      "     jac: array([ 0.        ,  1.00000001,  0.        ])\n",
      " message: 'Iteration limit exceeded'\n",
      "    nfev: 1477\n",
      "     nit: 101\n",
      "    njev: 101\n",
      "  status: 9\n",
      " success: False\n",
      "       x: array([ 0.1,  1. ,  1. ])\n"
     ]
    }
   ],
   "source": [
    "new_constr = lambda w: -1.0*(ballisticSim(*w)[1] - 4)\n",
    "cons = ({\"type\":\"eq\", \"fun\" :constraint}, {\"type\": \"ineq\", \"fun\": new_constr})\n",
    "res = sciop.minimize(objective, x0 = [0.1,1,1], bounds = [(0,1), (0,1), (0,1)], constraints = cons)\n",
    "print res"
   ]
  },
  {
   "cell_type": "code",
   "execution_count": 13,
   "metadata": {},
   "outputs": [
    {
     "name": "stdout",
     "output_type": "stream",
     "text": [
      "  status: 0\n",
      " success: True\n",
      "    njev: 43\n",
      "    nfev: 243\n",
      "     fun: 14.181145559719967\n",
      "       x: array([  0.67474156,  14.18114556,   1.80609576])\n",
      " message: 'Optimization terminated successfully.'\n",
      "     jac: array([ 0.,  1.,  0.,  0.])\n",
      "     nit: 43\n"
     ]
    }
   ],
   "source": []
  },
  {
   "cell_type": "code",
   "execution_count": 14,
   "metadata": {},
   "outputs": [
    {
     "data": {
      "text/plain": [
       "[<matplotlib.lines.Line2D at 0x149222b0>]"
      ]
     },
     "execution_count": 14,
     "metadata": {},
     "output_type": "execute_result"
    },
    {
     "data": {
      "image/png": "[encoded data removed]",
      "text/plain": [
       "<matplotlib.figure.Figure at 0x1466bac8>"
      ]
     },
     "metadata": {},
     "output_type": "display_data"
    }
   ],
   "source": []
  }
 ],
 "metadata": {
  "kernelspec": {
   "display_name": "Python 2",
   "language": "python",
   "name": "python2"
  },
  "language_info": {
   "codemirror_mode": {
    "name": "ipython",
    "version": 2
   },
   "file_extension": ".py",
   "mimetype": "text/x-python",
   "name": "python",
   "nbconvert_exporter": "python",
   "pygments_lexer": "ipython2",
   "version": "2.7.14"
  }
 },
 "nbformat": 4,
 "nbformat_minor": 1
}
