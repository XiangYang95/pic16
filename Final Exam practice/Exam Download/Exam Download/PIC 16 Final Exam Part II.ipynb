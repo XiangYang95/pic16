{
 "cells": [
  {
   "cell_type": "markdown",
   "metadata": {},
   "source": [
    "<h1>PIC 16 Final Exam, Part II</h1>\n",
    "This part of the exam is optional*. If you are not satisfied with your ability to complete Part I, you may complete <i>one or more</i> of the three options below. If you do so, your score for the options you complete will be factored into your total score for the exam. The weights are: 20% for Option 1, 20% for Option 2, and 30% for Option 3.\n",
    "\n",
    "For instance, let’s say you were to score 70 points out of 100 on Part I. <br>\n",
    "You also attempted Part II, Option 1, scoring 35 out of the 40 points available for that option. <br>\n",
    "Finally, you somehow had time to complete Option 3, scoring 18 out of the 18 points available for that option. <br>\n",
    "Then your grade for the exam would be:  70/100 x 50% + 35/40 x 20% + 20/20 x 30% = 82.5%. \n",
    "\n",
    "Regarding time: I wrote these questions over a week ago and attempted them again recently, so I remembered some of the concepts but definitely didn't have the solution code memorized. On this attempt, I even messed up a bit on Option 1 Problem 5 and crashed Jupyter during Option 2 Problem 1, so it wasn't perfectly smooth sailing. Still, each option took me about 20 minutes. I usually estimate that it will take most students about 3x as long as I do in these circumstances. So if you are fluent in the material from the first half of the course but didn't learn anything in the second part of the course, you could probably complete all three of these options during the exam and get a score of up to 70% for the exam. However, if you struggle through Part I and realize with only an hour left that it's not going well, you might only have time for one.\n",
    "\n",
    "\\* (unless you chose Part I Track B Option 3, in which case you must complete at least one of the options below)"
   ]
  },
  {
   "cell_type": "markdown",
   "metadata": {},
   "source": [
    "<h2>Option 1</h2>\n",
    "This option consists of 10 separate, rather short questions on material from the first few weeks of the course. If you appear to have made an attempt to complete it, your score (out of 40 points) will account for 20% of your grade for the exam. (The weight of Part I will be reduced accordingly.) If you do not intend for it to be included in your exam grade, please remove all Option 1 cells from this notebook before submitting.\n",
    "\n",
    "<i>If code (such as a function) is provided in a separate cell, you should execute that cell before executing your solution cell.</i>"
   ]
  },
  {
   "cell_type": "markdown",
   "metadata": {},
   "source": [
    "<b>1a. (4 pts)</b><br>\n",
    "Write a function <tt>f</tt> that accepts arguments <tt>x</tt> and <tt>y</tt> and returns <br> $f(x,y) = \\sin(x) e^{-xy} + 2\\cos(10y)$. <br>\n",
    "For full credit, avoid the use of <tt>pow</tt> and <tt>**</tt>."
   ]
  },
  {
   "cell_type": "code",
   "execution_count": 1,
   "metadata": {},
   "outputs": [
    {
     "data": {
      "text/plain": [
       "-1.3685831824997927"
      ]
     },
     "execution_count": 1,
     "metadata": {},
     "output_type": "execute_result"
    }
   ],
   "source": [
    "from math import *\n",
    "def f(x,y):\n",
    "    return sin(x)*exp(-x*y) + 2*cos(10*y)\n",
    "\n",
    "f(1,1)"
   ]
  },
  {
   "cell_type": "markdown",
   "metadata": {},
   "source": [
    "<b>1b. (1 pt)</b><br>\n",
    "Test <tt>f</tt> by evaluating it at $x = \\pi$, $y = 1$ and printing the result, which should be <tt>-1.6781430581529049</tt>."
   ]
  },
  {
   "cell_type": "code",
   "execution_count": 2,
   "metadata": {},
   "outputs": [
    {
     "data": {
      "text/plain": [
       "-1.6781430581529049"
      ]
     },
     "execution_count": 2,
     "metadata": {},
     "output_type": "execute_result"
    }
   ],
   "source": [
    "f(pi,1)"
   ]
  },
  {
   "cell_type": "code",
   "execution_count": 3,
   "metadata": {},
   "outputs": [
    {
     "data": {
      "text/plain": [
       "-1.6781430581529049"
      ]
     },
     "execution_count": 3,
     "metadata": {},
     "output_type": "execute_result"
    }
   ],
   "source": []
  },
  {
   "cell_type": "markdown",
   "metadata": {},
   "source": [
    "<b>2a. (3 pts)</b><br>\n",
    "Write a function <tt>g</tt> that accepts a tuple <tt>z</tt> consisting of elements <tt>x</tt> and <tt>y</tt> (in that order) and returns both $f(x,y)$ and $2f(x,y)$ (in that order)."
   ]
  },
  {
   "cell_type": "code",
   "execution_count": 10,
   "metadata": {},
   "outputs": [
    {
     "name": "stdout",
     "output_type": "stream",
     "text": [
      "1 2\n"
     ]
    },
    {
     "data": {
      "text/plain": [
       "(0.9300448376911521, 1.8600896753823042)"
      ]
     },
     "execution_count": 10,
     "metadata": {},
     "output_type": "execute_result"
    }
   ],
   "source": [
    "def g(z):\n",
    "    print z[0], z[1]\n",
    "    return f(z[0],z[1]), 2*f(z[0], z[1])\n",
    "g((1,2))"
   ]
  },
  {
   "cell_type": "markdown",
   "metadata": {},
   "source": [
    "<b>2b. (2 pts)</b><br>\n",
    "Test <tt>g</tt> by evaluating it with a tuple consisting of the values <tt>1</tt> and <tt>2</tt> (in that order) and assigning the results to variables <tt>a</tt> and <tt>b</tt>. Print <tt>a</tt> (0.930044837691) and <tt>b</tt> (1.86008967538)."
   ]
  },
  {
   "cell_type": "code",
   "execution_count": 11,
   "metadata": {},
   "outputs": [
    {
     "name": "stdout",
     "output_type": "stream",
     "text": [
      "1.0 2.0\n",
      "0.930044837691 1.86008967538\n"
     ]
    }
   ],
   "source": [
    "a,b = g((1.0,2.0))\n",
    "print a,b"
   ]
  },
  {
   "cell_type": "markdown",
   "metadata": {},
   "source": [
    "<b>3. (4 pts)</b><br>\n",
    "Write a <i>lambda</i> function <tt>h</tt> that computes the sum of its arguments (assuming they are numeric), regardless of how many there are. "
   ]
  },
  {
   "cell_type": "code",
   "execution_count": 22,
   "metadata": {
    "collapsed": true
   },
   "outputs": [],
   "source": [
    "h = lambda *k: reduce(lambda x,y: x+y, list(k))"
   ]
  },
  {
   "cell_type": "markdown",
   "metadata": {},
   "source": [
    "Test it by running the cell below. The result should be 15."
   ]
  },
  {
   "cell_type": "code",
   "execution_count": 24,
   "metadata": {},
   "outputs": [
    {
     "data": {
      "text/plain": [
       "21"
      ]
     },
     "execution_count": 24,
     "metadata": {},
     "output_type": "execute_result"
    }
   ],
   "source": [
    "# DO NOT DELETE\n",
    "h(1,2,3,4,5,6)"
   ]
  },
  {
   "cell_type": "markdown",
   "metadata": {},
   "source": [
    "<b>4. (2 pts)</b><br>\n",
    "Write a function or lambda function <tt>numUnique</tt> that returns the number of <i>unique</i> elements in its argument, which you can assume is a list. For maximum credit, the function should contain only one line of code."
   ]
  },
  {
   "cell_type": "code",
   "execution_count": 25,
   "metadata": {
    "collapsed": true
   },
   "outputs": [],
   "source": [
    "numUnique = lambda x: len(set(x))"
   ]
  },
  {
   "cell_type": "markdown",
   "metadata": {},
   "source": [
    "Test it by running the cell below. The result should be <tt>4</tt>."
   ]
  },
  {
   "cell_type": "code",
   "execution_count": 26,
   "metadata": {},
   "outputs": [
    {
     "data": {
      "text/plain": [
       "4"
      ]
     },
     "execution_count": 26,
     "metadata": {},
     "output_type": "execute_result"
    }
   ],
   "source": [
    "# DO NOT DELETE\n",
    "numUnique([1,2,1,2,3,2,4])"
   ]
  },
  {
   "cell_type": "markdown",
   "metadata": {},
   "source": [
    "<b>5. (3 pts)</b><br>\n",
    "Write a function or <i>lambda</i> function <tt>lists2dict</tt> that accepts two arguments, lists <tt>a</tt> and <tt>b</tt>, and returns a dictionary <tt>c</tt> composed of keys from <tt>a</tt> and corresponding values from <tt>b</tt>. For full credit, the function should contain only one line of code and avoid the use of <tt>range</tt>."
   ]
  },
  {
   "cell_type": "code",
   "execution_count": 28,
   "metadata": {
    "collapsed": true
   },
   "outputs": [],
   "source": [
    "lists2dict = lambda a,b: {i:j for i,j in zip(a,b) }"
   ]
  },
  {
   "cell_type": "markdown",
   "metadata": {},
   "source": [
    "Test it by running the cell below. The result should be <tt>{'a': 1, 'b': 2, 'c': 3}</tt>."
   ]
  },
  {
   "cell_type": "code",
   "execution_count": 29,
   "metadata": {},
   "outputs": [
    {
     "data": {
      "text/plain": [
       "{'a': 1, 'b': 2, 'c': 3}"
      ]
     },
     "execution_count": 29,
     "metadata": {},
     "output_type": "execute_result"
    }
   ],
   "source": [
    "# DO NOT DELETE\n",
    "a = [\"a\",\"b\",\"c\"]\n",
    "b = [1,2,3]\n",
    "lists2dict(a,b)"
   ]
  },
  {
   "cell_type": "markdown",
   "metadata": {},
   "source": [
    "<b>6. (3 pts)</b><br>\n",
    "Write a <i>lambda</i> function <tt>trimReduceReverse</tt> that accepts a list argument and performs the following:\n",
    "<ul>\n",
    "<li>eliminates the first and last elements,</li>\n",
    "<li>removes any entries that are <tt>None</tt>, and</li>\n",
    "<li>returns the remaining list in reverse order.</li>\n",
    "</ul> <br>\n",
    "For full credit, avoid the use of the <tt>reverse</tt> method, and the <tt>len</tt>, <tt>range</tt>, and <tt>reversed</tt> functions."
   ]
  },
  {
   "cell_type": "code",
   "execution_count": 52,
   "metadata": {
    "collapsed": true
   },
   "outputs": [],
   "source": [
    "trimReduceReverse = lambda x: [i for i in x[-2:0:-1] if i!=None]"
   ]
  },
  {
   "cell_type": "markdown",
   "metadata": {},
   "source": [
    "Test it by running the cell below. The result should be <tt>[5, 4, 3, 2]</tt>."
   ]
  },
  {
   "cell_type": "code",
   "execution_count": 53,
   "metadata": {},
   "outputs": [
    {
     "name": "stdout",
     "output_type": "stream",
     "text": [
      "[5, 4, 3, 2]\n"
     ]
    }
   ],
   "source": [
    "# DO NOT DELETE\n",
    "a = [1,2,None,3,4,None,5,6]\n",
    "print trimReduceReverse(a)"
   ]
  },
  {
   "cell_type": "markdown",
   "metadata": {},
   "source": [
    "<b>7. (2 pts)</b><br>\n",
    "Without a <tt>for</tt> loop or any sort of Python comprehension, apply the function:"
   ]
  },
  {
   "cell_type": "code",
   "execution_count": 56,
   "metadata": {
    "collapsed": true
   },
   "outputs": [],
   "source": [
    "# Remember to run this cell\n",
    "def f(x):\n",
    "    return x**2"
   ]
  },
  {
   "cell_type": "markdown",
   "metadata": {},
   "source": [
    "to all elements in a list"
   ]
  },
  {
   "cell_type": "code",
   "execution_count": 57,
   "metadata": {
    "collapsed": true
   },
   "outputs": [],
   "source": [
    "# This one, too\n",
    "l = range(10)"
   ]
  },
  {
   "cell_type": "markdown",
   "metadata": {},
   "source": [
    "and print the result, which should be <tt>[0, 1, 4, 9, 16, 25, 36, 49, 64, 81]</tt>."
   ]
  },
  {
   "cell_type": "code",
   "execution_count": 61,
   "metadata": {},
   "outputs": [
    {
     "data": {
      "text/plain": [
       "array([ 0,  1,  4,  9, 16, 25, 36, 49, 64, 81])"
      ]
     },
     "execution_count": 61,
     "metadata": {},
     "output_type": "execute_result"
    }
   ],
   "source": [
    "import numpy as np\n",
    "k = np.array(l)\n",
    "f(k)"
   ]
  },
  {
   "cell_type": "markdown",
   "metadata": {},
   "source": [
    "<b>8. (2 pts)</b><br>\n",
    "Why do the following two examples seem to behave differently? A complete explanation involves the words \"stack\", \"heap\", \"mutable\", and \"immutable\", integer, list, object. Answer by editing the text beneath the examples."
   ]
  },
  {
   "cell_type": "code",
   "execution_count": 62,
   "metadata": {},
   "outputs": [
    {
     "name": "stdout",
     "output_type": "stream",
     "text": [
      "1\n",
      "2\n"
     ]
    }
   ],
   "source": [
    "x = 1\n",
    "y = x\n",
    "y += 1\n",
    "print x\n",
    "print y"
   ]
  },
  {
   "cell_type": "code",
   "execution_count": 17,
   "metadata": {},
   "outputs": [
    {
     "name": "stdout",
     "output_type": "stream",
     "text": [
      "[1, 1]\n",
      "[1, 1]\n"
     ]
    }
   ],
   "source": [
    "x = [1]\n",
    "y = x\n",
    "y += [1]\n",
    "print x\n",
    "print y"
   ]
  },
  {
   "cell_type": "markdown",
   "metadata": {},
   "source": [
    "<b>Response to 8</b> (Double click to edit)\n",
    "\n",
    "In the first example, x is a variable on the (heap) that (refers to) an integer object on the (stack) and y is a variable on the (heap) that refers to (a different) integer object. Integer objects are (immutable), so when we try to increment y, y is incremented and x stays the same since y copies x (fill in the rest yourself)\n",
    "\n",
    "In the second example, x is a variable on the (heap) that (refers to) a list object on the (stack) and y is a variable on the (heap) that refers to (the same) list object. Integer objects are (immutable), so when we try to append to y, the element is appended to the list on the stack which x also refers to (fill in the rest yourself)"
   ]
  },
  {
   "cell_type": "markdown",
   "metadata": {},
   "source": [
    "<b>9. (4 pts)</b><br>\n",
    "Consider the function:"
   ]
  },
  {
   "cell_type": "code",
   "execution_count": 63,
   "metadata": {
    "collapsed": true
   },
   "outputs": [],
   "source": [
    "# Remember to run this cell before running your solution cell\n",
    "import random\n",
    "def f():\n",
    "    x = random.random()\n",
    "    if x < 0.5:\n",
    "        return x\n",
    "    else:\n",
    "        raise ValueError(\"Value was greater than 0.5\")"
   ]
  },
  {
   "cell_type": "markdown",
   "metadata": {},
   "source": [
    "Write code that executes <tt>f</tt>. If <tt>f</tt> returns a value, print it. Otherwise, if it raises a <tt>ValueError</tt>, do nothing (nothing should be printed, either)."
   ]
  },
  {
   "cell_type": "code",
   "execution_count": 88,
   "metadata": {
    "collapsed": true
   },
   "outputs": [],
   "source": [
    "try:\n",
    "    print f()\n",
    "except:\n",
    "    pass"
   ]
  },
  {
   "cell_type": "code",
   "execution_count": 5,
   "metadata": {},
   "outputs": [
    {
     "name": "stdout",
     "output_type": "stream",
     "text": [
      "0.374109374332\n"
     ]
    }
   ],
   "source": []
  },
  {
   "cell_type": "markdown",
   "metadata": {},
   "source": [
    "<b>10. (10 pts)</b><br>\n",
    "Write a class <tt>MutableInt</tt> such that the code:\n",
    "<pre>\n",
    "x = MutableInt(1)\n",
    "y = x\n",
    "print x, y\n",
    "y += 1\n",
    "print x, y\n",
    "</pre>\n",
    "produces:\n",
    "<pre>\n",
    "1 1\n",
    "2 2\n",
    "</pre>\n",
    "In other words, instances of <tt>MutableInt</tt> are supposed to behave like integers except that they are <i>mutable</i> objects on the heap."
   ]
  },
  {
   "cell_type": "code",
   "execution_count": 42,
   "metadata": {},
   "outputs": [],
   "source": [
    "class MutableInt:\n",
    "    MutableInt.num = 0\n",
    "    def __init__(self, x):\n",
    "        print \"init\"\n",
    "        MutableInt.num = x\n",
    "\n",
    "    \n",
    "    def __add__(self, x):\n",
    "        print \"add\"\n",
    "        MutableInt.num  = MutableInt.num  + x\n",
    "    \n",
    "#     def __getitem__(self):\n",
    "#         print \"getitem\"\n",
    "#         return self.x\n",
    "    \n",
    "#     def __setitem__(self, k):\n",
    "#         print \"setitem\"\n",
    "#         self.x += k\n",
    "#         return self.x\n",
    "    \n",
    "    def __str__(self):\n",
    "        #print \"str\"\n",
    "        return str(MutableInt.num)"
   ]
  },
  {
   "cell_type": "markdown",
   "metadata": {},
   "source": [
    "Test your class by running the code below."
   ]
  },
  {
   "cell_type": "code",
   "execution_count": 43,
   "metadata": {},
   "outputs": [
    {
     "name": "stdout",
     "output_type": "stream",
     "text": [
      "init\n",
      "1 1\n",
      "add\n",
      "2 None\n"
     ]
    }
   ],
   "source": [
    "# DO NOT DELETE\n",
    "x = MutableInt(1)\n",
    "y = x\n",
    "print x, y\n",
    "y += 1\n",
    "print x, y"
   ]
  },
  {
   "cell_type": "markdown",
   "metadata": {},
   "source": [
    "<h2>Option 2</h2>\n",
    "This option consists of 2 medium-length questions on material from the first few weeks of the course. If you appear to have made an attempt to complete it, your score (out of 45 points) will account for 20% of your grade for the exam. (The weight of Part I will be reduced accordingly.) If you do not intend for it to be included in your exam grade, please remove all Option 2 cells from this notebook before submitting."
   ]
  },
  {
   "cell_type": "markdown",
   "metadata": {},
   "source": [
    "<b>11. Pokemon Three Ways:</b><br>\n",
    "Consider the class <tt>Pokemon</tt>. "
   ]
  },
  {
   "cell_type": "code",
   "execution_count": 99,
   "metadata": {
    "collapsed": true
   },
   "outputs": [],
   "source": [
    "# Remember to run this cell\n",
    "import math\n",
    "class Pokemon(object):\n",
    "    def __init__(self,species, level, favNo):\n",
    "        self.species = species\n",
    "        self.level = level\n",
    "        self.favNo = favNo\n",
    "        self.i = 0"
   ]
  },
  {
   "cell_type": "markdown",
   "metadata": {
    "collapsed": true
   },
   "source": [
    "<b>11a. (10 points)</b><br>\n",
    "<b>I recommend saving your work frequently while working on this problem! \"My code crashed Jupyter\" is not a good excuse for lost work.</b> \n",
    "\n",
    "Write a subclass, <tt>Itermon</tt>, that can be iterated over using a <tt>for</tt> loop like:\n",
    "<pre>\n",
    "p = Itermon(\"Pikachu\", 10, math.pi)\n",
    "for field in p:\n",
    "    print field\n",
    "</pre>\n",
    "to print the values of all three fields:\n",
    "<pre>\n",
    "Pikachu\n",
    "10\n",
    "3.14159265359\n",
    "</pre>\n",
    "For full credit, your subclass should <i>not</i> contain <tt>species</tt>, <tt>level</tt>, or <tt>favNo</tt> attributes/fields of its own; it should rely on those in the superclass."
   ]
  },
  {
   "cell_type": "code",
   "execution_count": 104,
   "metadata": {
    "collapsed": true
   },
   "outputs": [],
   "source": [
    "class Itermon(Pokemon):\n",
    "    def __init__(self, *x):\n",
    "        super(Itermon, self).__init__(self, *x)\n",
    "        \n",
    "    def __iter__(self):\n",
    "        self.iter =  tuple(self.species, self.level, self.favNo)\n",
    "        return self.iter\n",
    "    \n",
    "    def next(self):\n",
    "        if self.i == len(self.iter):\n",
    "            raise StopIteration\n",
    "        else:\n",
    "            self.i+=1\n",
    "            return self.iter[self.i-1]\n",
    "        \n",
    "            "
   ]
  },
  {
   "cell_type": "markdown",
   "metadata": {},
   "source": [
    "Test your class using the code below. It should print the values in all three fields twice."
   ]
  },
  {
   "cell_type": "code",
   "execution_count": 105,
   "metadata": {},
   "outputs": [
    {
     "ename": "TypeError",
     "evalue": "__init__() takes exactly 4 arguments (5 given)",
     "output_type": "error",
     "traceback": [
      "\u001b[1;31m---------------------------------------------------------------------------\u001b[0m",
      "\u001b[1;31mTypeError\u001b[0m                                 Traceback (most recent call last)",
      "\u001b[1;32m<ipython-input-105-f4cfe3efb5d8>\u001b[0m in \u001b[0;36m<module>\u001b[1;34m()\u001b[0m\n\u001b[0;32m      1\u001b[0m \u001b[1;31m# DO NOT DELETE\u001b[0m\u001b[1;33m\u001b[0m\u001b[1;33m\u001b[0m\u001b[0m\n\u001b[1;32m----> 2\u001b[1;33m \u001b[0mp\u001b[0m \u001b[1;33m=\u001b[0m \u001b[0mItermon\u001b[0m\u001b[1;33m(\u001b[0m\u001b[1;34m\"Pikachu\"\u001b[0m\u001b[1;33m,\u001b[0m \u001b[1;36m10\u001b[0m\u001b[1;33m,\u001b[0m \u001b[0mmath\u001b[0m\u001b[1;33m.\u001b[0m\u001b[0mpi\u001b[0m\u001b[1;33m)\u001b[0m\u001b[1;33m\u001b[0m\u001b[0m\n\u001b[0m\u001b[0;32m      3\u001b[0m \u001b[1;32mfor\u001b[0m \u001b[0mfield\u001b[0m \u001b[1;32min\u001b[0m \u001b[0mp\u001b[0m\u001b[1;33m:\u001b[0m\u001b[1;33m\u001b[0m\u001b[0m\n\u001b[0;32m      4\u001b[0m     \u001b[1;32mprint\u001b[0m \u001b[0mfield\u001b[0m\u001b[1;33m\u001b[0m\u001b[0m\n\u001b[0;32m      5\u001b[0m \u001b[1;32mfor\u001b[0m \u001b[0mfield\u001b[0m \u001b[1;32min\u001b[0m \u001b[0mp\u001b[0m\u001b[1;33m:\u001b[0m\u001b[1;33m\u001b[0m\u001b[0m\n",
      "\u001b[1;32m<ipython-input-104-eeb32e20a6c9>\u001b[0m in \u001b[0;36m__init__\u001b[1;34m(self, *x)\u001b[0m\n\u001b[0;32m      1\u001b[0m \u001b[1;32mclass\u001b[0m \u001b[0mItermon\u001b[0m\u001b[1;33m(\u001b[0m\u001b[0mPokemon\u001b[0m\u001b[1;33m)\u001b[0m\u001b[1;33m:\u001b[0m\u001b[1;33m\u001b[0m\u001b[0m\n\u001b[0;32m      2\u001b[0m     \u001b[1;32mdef\u001b[0m \u001b[0m__init__\u001b[0m\u001b[1;33m(\u001b[0m\u001b[0mself\u001b[0m\u001b[1;33m,\u001b[0m \u001b[1;33m*\u001b[0m\u001b[0mx\u001b[0m\u001b[1;33m)\u001b[0m\u001b[1;33m:\u001b[0m\u001b[1;33m\u001b[0m\u001b[0m\n\u001b[1;32m----> 3\u001b[1;33m         \u001b[0msuper\u001b[0m\u001b[1;33m(\u001b[0m\u001b[0mItermon\u001b[0m\u001b[1;33m,\u001b[0m \u001b[0mself\u001b[0m\u001b[1;33m)\u001b[0m\u001b[1;33m.\u001b[0m\u001b[0m__init__\u001b[0m\u001b[1;33m(\u001b[0m\u001b[0mself\u001b[0m\u001b[1;33m,\u001b[0m \u001b[1;33m*\u001b[0m\u001b[0mx\u001b[0m\u001b[1;33m)\u001b[0m\u001b[1;33m\u001b[0m\u001b[0m\n\u001b[0m\u001b[0;32m      4\u001b[0m \u001b[1;33m\u001b[0m\u001b[0m\n\u001b[0;32m      5\u001b[0m     \u001b[1;32mdef\u001b[0m \u001b[0m__iter__\u001b[0m\u001b[1;33m(\u001b[0m\u001b[0mself\u001b[0m\u001b[1;33m)\u001b[0m\u001b[1;33m:\u001b[0m\u001b[1;33m\u001b[0m\u001b[0m\n",
      "\u001b[1;31mTypeError\u001b[0m: __init__() takes exactly 4 arguments (5 given)"
     ]
    }
   ],
   "source": [
    "# DO NOT DELETE\n",
    "p = Itermon(\"Pikachu\", 10, math.pi)\n",
    "for field in p:\n",
    "    print field\n",
    "for field in p:\n",
    "    print field"
   ]
  },
  {
   "cell_type": "markdown",
   "metadata": {},
   "source": [
    "<b>11b. (10 points)</b><br>\n",
    "Write two more classes <tt>Itermon2</tt> and <tt>Itermon3</tt> that accomplish the same objective as in 11b, but each class should use a different technique. Of your three classes (in 11a and 11b), one should use a generator, one should use a generator expression, and one should use neither."
   ]
  },
  {
   "cell_type": "code",
   "execution_count": 38,
   "metadata": {
    "collapsed": true
   },
   "outputs": [],
   "source": []
  },
  {
   "cell_type": "markdown",
   "metadata": {},
   "source": [
    "Test your classes using the code below. It should print the values in all three fields four times."
   ]
  },
  {
   "cell_type": "code",
   "execution_count": 39,
   "metadata": {},
   "outputs": [
    {
     "name": "stdout",
     "output_type": "stream",
     "text": [
      "Pikachu\n",
      "10\n",
      "3.14159265359\n",
      "Pikachu\n",
      "10\n",
      "3.14159265359\n",
      "Pikachu\n",
      "10\n",
      "3.14159265359\n",
      "Pikachu\n",
      "10\n",
      "3.14159265359\n"
     ]
    }
   ],
   "source": [
    "# DO NOT DELETE\n",
    "p = Itermon2(\"Pikachu\", 10, math.pi)\n",
    "for field in p:\n",
    "    print field\n",
    "for field in p:\n",
    "    print field\n",
    "    \n",
    "p = Itermon3(\"Pikachu\", 10, math.pi)\n",
    "for field in p:\n",
    "    print field\n",
    "for field in p:\n",
    "    print field"
   ]
  },
  {
   "cell_type": "markdown",
   "metadata": {},
   "source": [
    "<b>12. (15 points)</b><br>\n",
    "Write a program that prompts the user for the name of a text file. If the text file is present in the same directory as this notebook, print the contents of the file. Otherwise, inform the user that the file is not present and prompt again. The program should terminate if the user types 'q', 'Q', 'quit', or 'Quit' instead of a filename. <br> A file <tt>test.txt</tt> is provided for your convenience. <br>\n",
    "Example interaction:\n",
    "<pre>\n",
    "Enter the name of a file to display: test.txt\n",
    "hi there\n",
    "these are contents \n",
    "Enter the name of a file to display: notpresent.txt\n",
    "There was a problem opening that file. Maybe it doesn't exist!\n",
    "Enter the name of a file to display: q\n",
    "</pre>"
   ]
  },
  {
   "cell_type": "code",
   "execution_count": 42,
   "metadata": {},
   "outputs": [
    {
     "name": "stdout",
     "output_type": "stream",
     "text": [
      "Enter the name of a file to display: test.txt\n",
      "hi there\n",
      "these are contents \n",
      "Enter the name of a file to display: notpresent.txt\n",
      "There was a problem opening that file. Maybe it doesn't exist!\n",
      "Enter the name of a file to display: q\n"
     ]
    }
   ],
   "source": []
  },
  {
   "cell_type": "markdown",
   "metadata": {},
   "source": [
    "<h2>Option 3</h2>\n",
    "This option consists a single, multi-part GUI problem. If you appear to have made an attempt to complete it, your score (out of 20 points) will account for 30% of your grade for the exam. (The weight of Part I will be reduced accordingly.) If you do not intend for it to be included in your exam grade, please remove all Option 3 cells from this notebook before submitting."
   ]
  },
  {
   "cell_type": "markdown",
   "metadata": {},
   "source": [
    "<b>13. (20 points)</b><br>\n",
    "Write a program that accomplishes the following objectives:\n",
    "<ul>\n",
    "<li>(3 pts) Create a window 300px x 300 px with a white background and the title (in the blue bar) \"Spinner\"</li>\n",
    "<li>(3 pts) Draw a black vertical line of length 200 centered in the window</li>\n",
    "<li>(3 pts) The vertical line should remain centered as the window is resized.</li>\n",
    "<li>(3 pts) The line should rotate clockwise, remaining centered in the window.</li>\n",
    "<li>(3 pts) Text above the line should count the number of seconds since the program began.</li>\n",
    "<li>(3 pts) The line should undergo exactly (according to system time) one quarter revolution per second.</li>\n",
    "<li>(2 pts) The text above the line should read  \"0\" and the line should be still until a button at the top left \"Click to Start\" is clicked </li>\n",
    "</ul> <br>\n",
    "This problem requires basic trigonometry. \n",
    "If $(x,y)$ is the point at angle $\\theta$ on a circle of radius $r$ centered at $x_c, y_c$, then <br>\n",
    "$(x-x_c) = r \\cos(\\theta)$ <br>\n",
    "$(y-y_c) = r \\sin(\\theta)$ <br>\n",
    "I've included some code to get you started."
   ]
  },
  {
   "cell_type": "code",
   "execution_count": 1,
   "metadata": {
    "collapsed": true
   },
   "outputs": [],
   "source": [
    "from PyQt4.QtGui import QApplication, QWidget\n",
    "\n",
    "def main():\n",
    "    app = QApplication([])\n",
    "    q = QWidget()\n",
    "    q.show()\n",
    "    app.exec_()\n",
    "\n",
    "if __name__ == \"__main__\":\n",
    "    main()"
   ]
  }
 ],
 "metadata": {
  "kernelspec": {
   "display_name": "Python 2",
   "language": "python",
   "name": "python2"
  },
  "language_info": {
   "codemirror_mode": {
    "name": "ipython",
    "version": 2
   },
   "file_extension": ".py",
   "mimetype": "text/x-python",
   "name": "python",
   "nbconvert_exporter": "python",
   "pygments_lexer": "ipython2",
   "version": "2.7.14"
  }
 },
 "nbformat": 4,
 "nbformat_minor": 1
}
