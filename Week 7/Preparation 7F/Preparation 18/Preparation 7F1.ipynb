{
 "cells": [
  {
   "cell_type": "code",
   "execution_count": 7,
   "metadata": {},
   "outputs": [],
   "source": [
    "from scipy import special as sp\n",
    "import numpy as np\n",
    "import matplotlib.pyplot as plp"
   ]
  },
  {
   "cell_type": "code",
   "execution_count": 10,
   "metadata": {
    "scrolled": true
   },
   "outputs": [
    {
     "data": {
      "image/png": "[encoded data removed]",
      "text/plain": [
       "<matplotlib.figure.Figure at 0x96b3128>"
      ]
     },
     "metadata": {},
     "output_type": "display_data"
    }
   ],
   "source": [
    "z = sp.jn(1, np.array([i for i in range(1000)]))\n",
    "plp.plot(range(1000), z)\n",
    "plp.show()"
   ]
  },
  {
   "cell_type": "code",
   "execution_count": 21,
   "metadata": {
    "scrolled": true
   },
   "outputs": [
    {
     "data": {
      "text/plain": [
       "True"
      ]
     },
     "execution_count": 21,
     "metadata": {},
     "output_type": "execute_result"
    }
   ],
   "source": [
    "A = np.random.rand(10,10)\n",
    "b = np.random.rand(10,1)\n",
    "x = np.linalg.solve(A,b)\n",
    "np.allclose(np.dot(A,x),b)"
   ]
  },
  {
   "cell_type": "code",
   "execution_count": 16,
   "metadata": {
    "scrolled": true
   },
   "outputs": [
    {
     "data": {
      "text/plain": [
       "6.9333405665599183e-16"
      ]
     },
     "execution_count": 16,
     "metadata": {},
     "output_type": "execute_result"
    }
   ],
   "source": [
    "b1 = np.dot(A,x)\n",
    "np.linalg.norm(b1-b)"
   ]
  },
  {
   "cell_type": "code",
   "execution_count": 18,
   "metadata": {},
   "outputs": [
    {
     "data": {
      "text/plain": [
       "True"
      ]
     },
     "execution_count": 18,
     "metadata": {},
     "output_type": "execute_result"
    }
   ],
   "source": [
    "Ainv = np.linalg.inv(A)\n",
    "np.allclose(np.dot(Ainv,b),x)"
   ]
  },
  {
   "cell_type": "code",
   "execution_count": 22,
   "metadata": {},
   "outputs": [
    {
     "name": "stdout",
     "output_type": "stream",
     "text": [
      "0.0100999832153 0.0294000387192\n"
     ]
    }
   ],
   "source": [
    "import time\n",
    "\n",
    "t1, t2 = [],[]\n",
    "for i in range(10):\n",
    "    A = np.random.rand(800,800)\n",
    "    b = np.random.rand(800,1)\n",
    "    start = time.time()\n",
    "    x = np.linalg.solve(A,b)\n",
    "    np.linalg.norm(np.dot(A,x)-b)\n",
    "    end = time.time()\n",
    "    t1.append(end - start)\n",
    "    \n",
    "    start = time.time()\n",
    "    Ainv = np.linalg.inv(A)\n",
    "    np.linalg.norm(np.dot(Ainv,b)-x)\n",
    "    end = time.time()\n",
    "    t2.append(end - start)\n",
    "\n",
    "T1 = reduce(lambda x,y: x+y, t1)\n",
    "T2 = reduce(lambda x,y: x+y, t2)\n",
    "print T1/10.0, T2/10.0"
   ]
  }
 ],
 "metadata": {
  "kernelspec": {
   "display_name": "Python 2",
   "language": "python",
   "name": "python2"
  },
  "language_info": {
   "codemirror_mode": {
    "name": "ipython",
    "version": 2
   },
   "file_extension": ".py",
   "mimetype": "text/x-python",
   "name": "python",
   "nbconvert_exporter": "python",
   "pygments_lexer": "ipython2",
   "version": "2.7.13"
  }
 },
 "nbformat": 4,
 "nbformat_minor": 2
}
