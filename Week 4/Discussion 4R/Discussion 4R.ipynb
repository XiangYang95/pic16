{
 "cells": [
  {
   "cell_type": "markdown",
   "metadata": {},
   "source": [
    "# PIC 16 - Discussion 4R\n",
    "# 02/01/2018 Thursday\n",
    "\n",
    "# Today's Office Hour: 5:00 pm - 6:00 pm MS 2330"
   ]
  },
  {
   "cell_type": "markdown",
   "metadata": {},
   "source": [
    "## About Super"
   ]
  },
  {
   "cell_type": "code",
   "execution_count": 1,
   "metadata": {},
   "outputs": [
    {
     "name": "stdout",
     "output_type": "stream",
     "text": [
      "25\n"
     ]
    }
   ],
   "source": [
    "class Rectangle(object):\n",
    "    def __init__(self, width, height):\n",
    "        self.width = width\n",
    "        self.height = height\n",
    "        self.area = width * height\n",
    "\n",
    "class Square(Rectangle):\n",
    "    def __init__(self, length):\n",
    "        super(Square,self).__init__(length, length)\n",
    "\n",
    "s = Square(5)\n",
    "print s.area"
   ]
  },
  {
   "cell_type": "code",
   "execution_count": 2,
   "metadata": {},
   "outputs": [
    {
     "name": "stdout",
     "output_type": "stream",
     "text": [
      "1.0\n"
     ]
    }
   ],
   "source": [
    "import math\n",
    "\n",
    "class Triangle(object):\n",
    "    def __init__(self, a, b, C):\n",
    "        self.a = a\n",
    "        self.b = b\n",
    "        self.C = C\n",
    "        self.area = 0.5 * a * b * math.sin(C)\n",
    "        \n",
    "a = Triangle(1,2,math.pi/2)\n",
    "print a.area"
   ]
  },
  {
   "cell_type": "markdown",
   "metadata": {},
   "source": [
    "## Problem\n",
    "\n",
    "Create a class for **Equilateral** using **super** just as **Square**\n",
    "\n",
    "Input:\n",
    "\n",
    "    a = Equilateral(4)\n",
    "    print a.area\n",
    "\n",
    "Output:\n",
    "\n",
    "    6.92820323028"
   ]
  },
  {
   "cell_type": "code",
   "execution_count": 3,
   "metadata": {
    "scrolled": true
   },
   "outputs": [
    {
     "name": "stdout",
     "output_type": "stream",
     "text": [
      "6.92820323028\n"
     ]
    }
   ],
   "source": [
    "class Equilateral(Triangle):\n",
    "    def __init__(self, length):\n",
    "        super(Equilateral, self).__init__(length,length, math.pi/3*2)\n",
    "        \n",
    "a = Equilateral(4)\n",
    "print a.area"
   ]
  },
  {
   "cell_type": "markdown",
   "metadata": {},
   "source": [
    "---\n",
    "## More about super"
   ]
  },
  {
   "cell_type": "code",
   "execution_count": 4,
   "metadata": {},
   "outputs": [
    {
     "name": "stdout",
     "output_type": "stream",
     "text": [
      "lion is a warm-blooded animal.\n",
      "lion is an animal.\n"
     ]
    }
   ],
   "source": [
    "class Animal(object):\n",
    "    def __init__(self, animalName):\n",
    "        print animalName, 'is an animal.'\n",
    "\n",
    "class Mammal(Animal):\n",
    "    def __init__(self, mammalName):\n",
    "        print mammalName, 'is a warm-blooded animal.'\n",
    "        super(Mammal,self).__init__(mammalName)\n",
    "\n",
    "m = Mammal('lion')"
   ]
  },
  {
   "cell_type": "code",
   "execution_count": 5,
   "metadata": {
    "collapsed": true
   },
   "outputs": [],
   "source": [
    "class NonWingedMammal(Mammal):\n",
    "    def __init__(self, NonWingedMammalName):\n",
    "        print NonWingedMammalName, \"can't fly.\"\n",
    "        super(NonWingedMammal,self).__init__(NonWingedMammalName)\n",
    "\n",
    "class NonMarineMammal(Mammal):\n",
    "    def __init__(self, NonMarineMammalName):\n",
    "        print NonMarineMammalName, \"can't swim.\"\n",
    "        super(NonMarineMammal,self).__init__(NonMarineMammalName)"
   ]
  },
  {
   "cell_type": "code",
   "execution_count": 6,
   "metadata": {},
   "outputs": [
    {
     "name": "stdout",
     "output_type": "stream",
     "text": [
      "Dog has 4 legs.\n",
      "Dog can't swim.\n",
      "Dog can't fly.\n",
      "Dog is a warm-blooded animal.\n",
      "Dog is an animal.\n"
     ]
    }
   ],
   "source": [
    "class Dog(NonMarineMammal, NonWingedMammal):\n",
    "    def __init__(self):\n",
    "        print 'Dog has 4 legs.'\n",
    "        super(Dog,self).__init__('Dog')\n",
    "    \n",
    "d = Dog()"
   ]
  },
  {
   "cell_type": "markdown",
   "metadata": {},
   "source": [
    "## Problem\n",
    "\n",
    "Make new classes **WingedMammal** and **Bat** and print out\n",
    "\n",
    "    Bat has 2 wings\n",
    "    Bat can fly    \n",
    "    Bat can't swim.\n",
    "    Bat is a warm-blooded animal.\n",
    "    Bat is an animal."
   ]
  },
  {
   "cell_type": "code",
   "execution_count": 8,
   "metadata": {},
   "outputs": [
    {
     "name": "stdout",
     "output_type": "stream",
     "text": [
      "Bat has 2 wings\n",
      "Bat can fly\n",
      "Bat is a warm-blooded animal.\n",
      "Bat is an animal.\n"
     ]
    }
   ],
   "source": [
    "class WingedMammal(Mammal):\n",
    "    def __init__(self, wm):\n",
    "        print wm, \"can fly\"\n",
    "        super(WingedMammal, self).__init__(wm)\n",
    "        \n",
    "class Bat(WingedMammal):\n",
    "    def __init__(self):\n",
    "        print \"Bat has 2 wings\"\n",
    "        super(Bat, self).__init__(\"Bat\")\n",
    "\n",
    "bat = Bat()"
   ]
  },
  {
   "cell_type": "markdown",
   "metadata": {},
   "source": [
    "## Using re"
   ]
  },
  {
   "cell_type": "code",
   "execution_count": 9,
   "metadata": {
    "collapsed": true
   },
   "outputs": [],
   "source": [
    "import re\n",
    "\n",
    "USER_RE = re.compile(r\"^[a-zA-Z0-9_-]{3,20}$\")\n",
    "\n",
    "EMAIL_RE  = re.compile(r'^[\\S]+@[\\S]+\\.[\\S]+$')"
   ]
  },
  {
   "cell_type": "code",
   "execution_count": 10,
   "metadata": {},
   "outputs": [
    {
     "name": "stdout",
     "output_type": "stream",
     "text": [
      "<_sre.SRE_Match object at 0x0000000008846168>\n",
      "['bill']\n"
     ]
    }
   ],
   "source": [
    "name = 'bill'\n",
    "print USER_RE.match(name)\n",
    "print USER_RE.findall(name)"
   ]
  },
  {
   "cell_type": "code",
   "execution_count": 11,
   "metadata": {},
   "outputs": [
    {
     "name": "stdout",
     "output_type": "stream",
     "text": [
      "None\n"
     ]
    }
   ],
   "source": [
    "name = 'b'\n",
    "print USER_RE.match(name)"
   ]
  },
  {
   "cell_type": "code",
   "execution_count": 12,
   "metadata": {},
   "outputs": [
    {
     "name": "stdout",
     "output_type": "stream",
     "text": [
      "None\n",
      "[]\n"
     ]
    }
   ],
   "source": [
    "name = 'bill&'\n",
    "print USER_RE.match(name)\n",
    "\n",
    "n = 'dri*dnk@asd'\n",
    "print EMAIL_RE.findall(n)"
   ]
  },
  {
   "cell_type": "code",
   "execution_count": 13,
   "metadata": {},
   "outputs": [
    {
     "name": "stdout",
     "output_type": "stream",
     "text": [
      "abraham - valid username\n",
      "brown - valid username\n",
      "cold - valid username\n",
      "drink - valid username\n",
      "eat - valid username\n",
      "food - valid username\n",
      "good - valid username\n",
      "ajwe()ee - not valid\n",
      "elvis& - not valid\n",
      "lenn*on - not valid\n"
     ]
    }
   ],
   "source": [
    "import csv\n",
    "\n",
    "with open(\"./names.csv\") as F:\n",
    "    csvreader = csv.reader(F)\n",
    "    data   = []\n",
    "    \n",
    "    for i in csvreader:\n",
    "        if USER_RE.match(i[0]):\n",
    "            print i[0], \"- valid username\"\n",
    "            data.append(i)\n",
    "        else:\n",
    "            print i[0], \"- not valid\""
   ]
  },
  {
   "cell_type": "code",
   "execution_count": 14,
   "metadata": {
    "collapsed": true
   },
   "outputs": [],
   "source": [
    "with open(\"names2.csv\",\"wb\") as f:\n",
    "    w = csv.writer(f,delimiter = \",\")\n",
    "    w.writerow(([\"name\"]))\n",
    "    for row in data:\n",
    "        w.writerow(row)"
   ]
  },
  {
   "cell_type": "markdown",
   "metadata": {},
   "source": [
    "## Problem\n",
    "\n",
    "Open **data.csv** and process the file and save it as **data2.csv**."
   ]
  },
  {
   "cell_type": "code",
   "execution_count": 21,
   "metadata": {},
   "outputs": [
    {
     "name": "stdout",
     "output_type": "stream",
     "text": [
      "abraham abraham@gmail.com -valid\n",
      "brown brown@yahoo.com -valid\n",
      "cold cold@asdf.com -valid\n",
      "drink drink@gmail -not valid\n",
      "eat eat@gmail.com -valid\n",
      "asdf##! asdfsd@gmail.com -not valid\n",
      "food food@aaa.com -valid\n",
      "good good@bbb.com -valid\n",
      "ajwe()ee ajs@ccc.com -not valid\n",
      "elvis& fefe -not valid\n",
      "lennonenaienifneivinevniee lennon@bbb.com -not valid\n",
      "lenn*on laa@lll.com -not valid\n",
      "lennon lennon@bbb.com -valid\n",
      "walk aadffe@ -not valid\n",
      "walk walk@fff.com -valid\n",
      "red red@red.com -valid\n",
      "bl^ue fff@bbb.com -not valid\n",
      "blue blue@blue.blue -valid\n",
      "col## co.co -not valid\n",
      "color color@color.com -valid\n"
     ]
    }
   ],
   "source": [
    "with open(\"./data.csv\") as F:\n",
    "    csvreader = csv.reader(F)\n",
    "    data   = []\n",
    "    \n",
    "    for i in csvreader:\n",
    "        if USER_RE.match(i[0]) and EMAIL_RE.match(i[1]):\n",
    "            print i[0], i[1], \"-valid\"\n",
    "            data.append(i)\n",
    "        else:\n",
    "            print i[0], i[1], \"-not valid\"\n",
    "            \n",
    "with open(\"data2.csv\", \"wb\") as J:\n",
    "    csvWriter = csv.writer(J, delimiter = \",\")\n",
    "    csvWriter.writerow([\"name\", \"email\"])\n",
    "    for row in data:\n",
    "        csvWriter.writerow(row)\n",
    "    "
   ]
  }
 ],
 "metadata": {
  "anaconda-cloud": {},
  "kernelspec": {
   "display_name": "Python 2",
   "language": "python",
   "name": "python2"
  },
  "language_info": {
   "codemirror_mode": {
    "name": "ipython",
    "version": 2
   },
   "file_extension": ".py",
   "mimetype": "text/x-python",
   "name": "python",
   "nbconvert_exporter": "python",
   "pygments_lexer": "ipython2",
   "version": "2.7.14"
  }
 },
 "nbformat": 4,
 "nbformat_minor": 1
}
