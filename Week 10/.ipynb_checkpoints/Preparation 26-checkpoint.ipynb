{
 "cells": [
  {
   "cell_type": "code",
   "execution_count": 1,
   "metadata": {
    "collapsed": true
   },
   "outputs": [],
   "source": [
    "from sklearn import datasets\n",
    "digits = datasets.load_digits()"
   ]
  },
  {
   "cell_type": "code",
   "execution_count": 2,
   "metadata": {},
   "outputs": [
    {
     "data": {
      "text/plain": [
       "array([  0.,   0.,   5.,  13.,   9.,   1.,   0.,   0.,   0.,   0.,  13.,\n",
       "        15.,  10.,  15.,   5.,   0.,   0.,   3.,  15.,   2.,   0.,  11.,\n",
       "         8.,   0.,   0.,   4.,  12.,   0.,   0.,   8.,   8.,   0.,   0.,\n",
       "         5.,   8.,   0.,   0.,   9.,   8.,   0.,   0.,   4.,  11.,   0.,\n",
       "         1.,  12.,   7.,   0.,   0.,   2.,  14.,   5.,  10.,  12.,   0.,\n",
       "         0.,   0.,   0.,   6.,  13.,  10.,   0.,   0.,   0.])"
      ]
     },
     "execution_count": 2,
     "metadata": {},
     "output_type": "execute_result"
    }
   ],
   "source": [
    "digits.data[0,:]"
   ]
  },
  {
   "cell_type": "code",
   "execution_count": 3,
   "metadata": {},
   "outputs": [
    {
     "data": {
      "text/plain": [
       "True"
      ]
     },
     "execution_count": 3,
     "metadata": {},
     "output_type": "execute_result"
    }
   ],
   "source": [
    "import numpy as np\n",
    "zero = digits.data[0,:].reshape((8,8))\n",
    "np.allclose(zero,digits.images[0])"
   ]
  },
  {
   "cell_type": "code",
   "execution_count": 4,
   "metadata": {},
   "outputs": [
    {
     "data": {
      "text/plain": [
       "<matplotlib.image.AxesImage at 0xb12dba8>"
      ]
     },
     "execution_count": 4,
     "metadata": {},
     "output_type": "execute_result"
    },
    {
     "data": {
      "image/png": "[encoded data removed]",
      "text/plain": [
       "<matplotlib.figure.Figure at 0xb5a59e8>"
      ]
     },
     "metadata": {},
     "output_type": "display_data"
    }
   ],
   "source": [
    "import matplotlib.pyplot as plt\n",
    "%matplotlib inline\n",
    "plt.imshow(zero, cmap = \"gray\")"
   ]
  },
  {
   "cell_type": "code",
   "execution_count": 5,
   "metadata": {},
   "outputs": [
    {
     "data": {
      "text/plain": [
       "<matplotlib.image.AxesImage at 0xb056438>"
      ]
     },
     "execution_count": 5,
     "metadata": {},
     "output_type": "execute_result"
    },
    {
     "data": {
      "image/png": "[encoded data removed]",
      "text/plain": [
       "<matplotlib.figure.Figure at 0xc6cf7f0>"
      ]
     },
     "metadata": {},
     "output_type": "display_data"
    }
   ],
   "source": [
    "plt.imshow(digits.images[1], cmap = \"gray\")"
   ]
  },
  {
   "cell_type": "code",
   "execution_count": 6,
   "metadata": {},
   "outputs": [
    {
     "data": {
      "text/plain": [
       "array([8])"
      ]
     },
     "execution_count": 6,
     "metadata": {},
     "output_type": "execute_result"
    }
   ],
   "source": [
    "from sklearn import svm\n",
    "clf = svm.SVC(gamma = 0.001, C= 100)\n",
    "clf.fit(digits.data[:-1,:],digits.target[:-1])\n",
    "clf.predict(digits.data[-1:])"
   ]
  },
  {
   "cell_type": "code",
   "execution_count": 11,
   "metadata": {},
   "outputs": [],
   "source": [
    "#clf.predict(digits.data[-1,])\n",
    "#print digits.data[-1:].shape  # this returns a 2D array\n",
    "#print digits.data[-1].shape   # these don't\n",
    "#print digits.data[-1,:].shape"
   ]
  },
  {
   "cell_type": "code",
   "execution_count": 20,
   "metadata": {},
   "outputs": [
    {
     "name": "stdout",
     "output_type": "stream",
     "text": [
      "(100L, 64L) (100L,)\n",
      "(110L, 64L) (110L,)\n",
      "(120L, 64L) (120L,)\n",
      "(130L, 64L) (130L,)\n",
      "(140L, 64L) (140L,)\n",
      "(150L, 64L) (150L,)\n",
      "(160L, 64L) (160L,)\n",
      "(170L, 64L) (170L,)\n",
      "(180L, 64L) (180L,)\n",
      "(190L, 64L) (190L,)\n",
      "(200L, 64L) (200L,)\n",
      "(210L, 64L) (210L,)\n",
      "(220L, 64L) (220L,)\n",
      "(230L, 64L) (230L,)\n",
      "(240L, 64L) (240L,)\n",
      "(250L, 64L) (250L,)\n",
      "(260L, 64L) (260L,)\n",
      "(270L, 64L) (270L,)\n",
      "(280L, 64L) (280L,)\n",
      "(290L, 64L) (290L,)\n",
      "(300L, 64L) (300L,)\n",
      "(310L, 64L) (310L,)\n",
      "(320L, 64L) (320L,)\n",
      "(330L, 64L) (330L,)\n",
      "(340L, 64L) (340L,)\n",
      "(350L, 64L) (350L,)\n",
      "(360L, 64L) (360L,)\n",
      "(370L, 64L) (370L,)\n",
      "(380L, 64L) (380L,)\n",
      "(390L, 64L) (390L,)\n",
      "(400L, 64L) (400L,)\n",
      "(410L, 64L) (410L,)\n",
      "(420L, 64L) (420L,)\n",
      "(430L, 64L) (430L,)\n",
      "(440L, 64L) (440L,)\n",
      "(450L, 64L) (450L,)\n",
      "(460L, 64L) (460L,)\n",
      "(470L, 64L) (470L,)\n",
      "(480L, 64L) (480L,)\n",
      "(490L, 64L) (490L,)\n",
      "(500L, 64L) (500L,)\n",
      "(510L, 64L) (510L,)\n",
      "(520L, 64L) (520L,)\n",
      "(530L, 64L) (530L,)\n",
      "(540L, 64L) (540L,)\n",
      "(550L, 64L) (550L,)\n",
      "(560L, 64L) (560L,)\n",
      "(570L, 64L) (570L,)\n",
      "(580L, 64L) (580L,)\n",
      "(590L, 64L) (590L,)\n",
      "(600L, 64L) (600L,)\n",
      "(610L, 64L) (610L,)\n",
      "(620L, 64L) (620L,)\n",
      "(630L, 64L) (630L,)\n",
      "(640L, 64L) (640L,)\n",
      "(650L, 64L) (650L,)\n",
      "(660L, 64L) (660L,)\n",
      "(670L, 64L) (670L,)\n",
      "(680L, 64L) (680L,)\n",
      "(690L, 64L) (690L,)\n",
      "(700L, 64L) (700L,)\n",
      "(710L, 64L) (710L,)\n",
      "(720L, 64L) (720L,)\n",
      "(730L, 64L) (730L,)\n",
      "(740L, 64L) (740L,)\n",
      "(750L, 64L) (750L,)\n",
      "(760L, 64L) (760L,)\n",
      "(770L, 64L) (770L,)\n",
      "(780L, 64L) (780L,)\n",
      "(790L, 64L) (790L,)\n",
      "(800L, 64L) (800L,)\n",
      "(810L, 64L) (810L,)\n",
      "(820L, 64L) (820L,)\n",
      "(830L, 64L) (830L,)\n",
      "(840L, 64L) (840L,)\n",
      "(850L, 64L) (850L,)\n",
      "(860L, 64L) (860L,)\n",
      "(870L, 64L) (870L,)\n",
      "(880L, 64L) (880L,)\n",
      "(890L, 64L) (890L,)\n",
      "(900L, 64L) (900L,)\n",
      "(910L, 64L) (910L,)\n",
      "(920L, 64L) (920L,)\n",
      "(930L, 64L) (930L,)\n",
      "(940L, 64L) (940L,)\n",
      "(950L, 64L) (950L,)\n",
      "(960L, 64L) (960L,)\n",
      "(970L, 64L) (970L,)\n",
      "(980L, 64L) (980L,)\n",
      "(990L, 64L) (990L,)\n",
      "(1000L, 64L) (1000L,)\n",
      "(1010L, 64L) (1010L,)\n",
      "(1020L, 64L) (1020L,)\n",
      "(1030L, 64L) (1030L,)\n",
      "(1040L, 64L) (1040L,)\n",
      "(1050L, 64L) (1050L,)\n",
      "(1060L, 64L) (1060L,)\n",
      "(1070L, 64L) (1070L,)\n",
      "(1080L, 64L) (1080L,)\n",
      "(1090L, 64L) (1090L,)\n",
      "(1100L, 64L) (1100L,)\n",
      "(1110L, 64L) (1110L,)\n",
      "(1120L, 64L) (1120L,)\n",
      "(1130L, 64L) (1130L,)\n",
      "(1140L, 64L) (1140L,)\n",
      "(1150L, 64L) (1150L,)\n",
      "(1160L, 64L) (1160L,)\n",
      "(1170L, 64L) (1170L,)\n",
      "(1180L, 64L) (1180L,)\n",
      "(1190L, 64L) (1190L,)\n",
      "(1200L, 64L) (1200L,)\n",
      "(1210L, 64L) (1210L,)\n",
      "(1220L, 64L) (1220L,)\n",
      "(1230L, 64L) (1230L,)\n",
      "(1240L, 64L) (1240L,)\n",
      "(1250L, 64L) (1250L,)\n",
      "(1260L, 64L) (1260L,)\n",
      "(1270L, 64L) (1270L,)\n",
      "(1280L, 64L) (1280L,)\n",
      "(1290L, 64L) (1290L,)\n",
      "(1300L, 64L) (1300L,)\n",
      "(1310L, 64L) (1310L,)\n",
      "(1320L, 64L) (1320L,)\n",
      "(1330L, 64L) (1330L,)\n",
      "(1340L, 64L) (1340L,)\n",
      "(1350L, 64L) (1350L,)\n",
      "(1360L, 64L) (1360L,)\n",
      "(1370L, 64L) (1370L,)\n",
      "(1380L, 64L) (1380L,)\n",
      "(1390L, 64L) (1390L,)\n",
      "(1400L, 64L) (1400L,)\n",
      "(1410L, 64L) (1410L,)\n",
      "(1420L, 64L) (1420L,)\n",
      "(1430L, 64L) (1430L,)\n",
      "(1440L, 64L) (1440L,)\n",
      "(1450L, 64L) (1450L,)\n",
      "(1460L, 64L) (1460L,)\n",
      "(1470L, 64L) (1470L,)\n",
      "(1480L, 64L) (1480L,)\n",
      "(1490L, 64L) (1490L,)\n",
      "(1500L, 64L) (1500L,)\n",
      "(1510L, 64L) (1510L,)\n",
      "(1520L, 64L) (1520L,)\n",
      "(1530L, 64L) (1530L,)\n",
      "(1540L, 64L) (1540L,)\n",
      "(1550L, 64L) (1550L,)\n",
      "(1560L, 64L) (1560L,)\n",
      "(1570L, 64L) (1570L,)\n",
      "(1580L, 64L) (1580L,)\n",
      "(1590L, 64L) (1590L,)\n",
      "(1600L, 64L) (1600L,)\n",
      "(1610L, 64L) (1610L,)\n",
      "(1620L, 64L) (1620L,)\n",
      "(1630L, 64L) (1630L,)\n",
      "(1640L, 64L) (1640L,)\n",
      "(1650L, 64L) (1650L,)\n",
      "(1660L, 64L) (1660L,)\n",
      "(1670L, 64L) (1670L,)\n",
      "(1680L, 64L) (1680L,)\n",
      "(1690L, 64L) (1690L,)\n",
      "(1700L, 64L) (1700L,)\n",
      "(1710L, 64L) (1710L,)\n",
      "(1720L, 64L) (1720L,)\n",
      "(1730L, 64L) (1730L,)\n",
      "(1740L, 64L) (1740L,)\n",
      "(1750L, 64L) (1750L,)\n",
      "(1760L, 64L) (1760L,)\n",
      "(1770L, 64L) (1770L,)\n",
      "(1780L, 64L) (1780L,)\n",
      "(1790L, 64L) (1790L,)\n"
     ]
    },
    {
     "data": {
      "text/plain": [
       "Text(0,0.5,u'Prediction Accuracy')"
      ]
     },
     "execution_count": 20,
     "metadata": {},
     "output_type": "execute_result"
    },
    {
     "data": {
      "image/png": "[encoded data removed]",
      "text/plain": [
       "<matplotlib.figure.Figure at 0xc9085c0>"
      ]
     },
     "metadata": {},
     "output_type": "display_data"
    }
   ],
   "source": [
    "from sklearn import svm\n",
    "clf = svm.SVC(gamma = 0.001, C= 100)\n",
    "\n",
    "def accuracy(m):\n",
    "    train_data = digits.data[:m]\n",
    "    train_target = digits.target[:m]\n",
    "    test_data = digits.data[m:]\n",
    "    test_target = digits.target[m:]\n",
    "    print train_data.shape, train_target.shape \n",
    "    n = len(test_target)\n",
    "    clf.fit(train_data,train_target)\n",
    "    #print clf.predict(test_data), test_target\n",
    "    return sum(clf.predict(test_data)==test_target)*1.0/n\n",
    "\n",
    "l = len(digits.target)\n",
    "m = range(100,l,10)\n",
    "p = [accuracy(i) for i in m]\n",
    "plt.plot(m,p)\n",
    "plt.xlabel(\"Number of Training Samples\")\n",
    "plt.ylabel(\"Prediction Accuracy\")"
   ]
  },
  {
   "cell_type": "code",
   "execution_count": 23,
   "metadata": {},
   "outputs": [
    {
     "name": "stdout",
     "output_type": "stream",
     "text": [
      "(1797L, 64L) (1797L,)\n",
      "(1000L, 64L) (1000L,)\n",
      "(1797L, 64L) (1797L,)\n",
      "(1000L, 64L) (1000L,)\n",
      "(1797L, 64L) (1797L,)\n",
      "(1000L, 64L) (1000L,)\n",
      "(1797L, 64L) (1797L,)\n",
      "(1000L, 64L) (1000L,)\n",
      "(1797L, 64L) (1797L,)\n",
      "(1000L, 64L) (1000L,)\n",
      "(1797L, 64L) (1797L,)\n",
      "(1000L, 64L) (1000L,)\n",
      "(1797L, 64L) (1797L,)\n",
      "(1000L, 64L) (1000L,)\n",
      "(1797L, 64L) (1797L,)\n",
      "(1000L, 64L) (1000L,)\n",
      "(1797L, 64L) (1797L,)\n",
      "(1000L, 64L) (1000L,)\n",
      "(1797L, 64L) (1797L,)\n",
      "(1000L, 64L) (1000L,)\n"
     ]
    }
   ],
   "source": [
    "l = len(digits.target)\n",
    "m = 1000\n",
    "accuracies = []\n",
    "num_trials = 10\n",
    "for i in range(num_trials):\n",
    "    train_i = np.random.choice(l,m, False)\n",
    "    #train_i = np.arange(m)\n",
    "    all_i = np.arange(l)\n",
    "    all_i[train_i] = -1\n",
    "    test_i = all_i[all_i > -1]\n",
    "\n",
    "    train_data = digits.data[train_i,:]\n",
    "    train_target = digits.target[train_i]\n",
    "    test_data = digits.data[test_i]\n",
    "    test_target = digits.target[test_i]\n",
    "    print digits.data.shape, digits.target.shape \n",
    "    print train_data.shape, train_target.shape \n",
    "    clf.fit(train_data,train_target)\n",
    "    accuracy = sum(clf.predict(test_data)==test_target)*1.0/(l-m)\n",
    "    accuracies.append(accuracy)\n"
   ]
  },
  {
   "cell_type": "code",
   "execution_count": 15,
   "metadata": {},
   "outputs": [
    {
     "data": {
      "text/plain": [
       "(array([   4.,    4.,   10.,   25.,   40.,   64.,  103.,  139.,  147.,\n",
       "         165.,  136.,   77.,   48.,   24.,   14.]),\n",
       " array([ 0.97741531,  0.97875366,  0.98009201,  0.98143036,  0.98276872,\n",
       "         0.98410707,  0.98544542,  0.98678377,  0.98812212,  0.98946048,\n",
       "         0.99079883,  0.99213718,  0.99347553,  0.99481389,  0.99615224,\n",
       "         0.99749059]),\n",
       " <a list of 15 Patch objects>)"
      ]
     },
     "execution_count": 15,
     "metadata": {},
     "output_type": "execute_result"
    },
    {
     "data": {
      "image/png": "[encoded data removed]",
      "text/plain": [
       "<matplotlib.figure.Figure at 0xd804fd0>"
      ]
     },
     "metadata": {},
     "output_type": "display_data"
    }
   ],
   "source": [
    "plt.hist(accuracies,bins= 15)"
   ]
  },
  {
   "cell_type": "code",
   "execution_count": 24,
   "metadata": {},
   "outputs": [
    {
     "name": "stdout",
     "output_type": "stream",
     "text": [
      "[171 569 634  86 548 708 511 303  81 933 395 710  72 381 544 895  76 479\n",
      "  75 312 366 270  62 795 768 161  10 153 936 354  27  31 909 135 560 956\n",
      " 698 779 358  29 123 940 739 522 941 500 120   0 623 761 408 992 685 870\n",
      " 628 173 246 137 273 194  90 850 441 808 376 535 617 889 375 988 332 400\n",
      " 184 240 530 666 540 579 266 822 319 238 106 622 880 105 304 855 145 255\n",
      "  50   5 884 979 679  32  92 301 703 215 827 668 888  66 774 486 329 778\n",
      " 647 539 695 954 833 495  89 214  22 793 373 456 759 586 601 493 734 455\n",
      " 911 320   4 747 534 960 672  37 794 192 669 624 890 234 507 843 796 165\n",
      " 864 296 280 424 428 111 223 650 965 729 705 690 620  79 180 250 829 228\n",
      " 646 697 370 727 857 344 440 382  13 496 305 882 696 367 782 912  16 406\n",
      "  94 302 467 286 409 475 298 212 310 817 279 140 318 715 551 124 757 130\n",
      " 377 506 141 755 235  36  88  38 425 813 297 380 887 517 592 550 951 353\n",
      "  44 610 129 741 818 844 538 915 127 711 955 179 365   9 688 146 275 411\n",
      " 333 458 242  48 119 183 465 327 457 619 760 562  52 254 197 289 420 975\n",
      " 281 293  51 640 661 723 117 541 656 364 706  56 260 641 211 532 699 780\n",
      " 606 252 470 908 919 567 858  78 355 877 924 547 292 899 625 875 644 910\n",
      " 842  64 374 735 387 935  17 201 443 851 217 131 787 322 272   3 636 505\n",
      " 220 862 923 284 931 326 752 328 588 865 288 750 490 199 838 489 788 290\n",
      " 451 198 185  98 989 997  35 630  57 393 378  85 754  99 608 348 317 533\n",
      " 213 207 101 415 913 786 598 777  73 765 172 402 587 392 976 716 803 412\n",
      " 891 776 673 991 700  61 950 660 847 791 878 643 744 967 973 789 186 528\n",
      " 701 905  55 574 663 251 709 655 162 633 892 770 468 509 728 492 167  28\n",
      " 605  47 520 609 537 556 896 972 568  46 263 262 341 191 720 563 837   7\n",
      " 452 823 386 356 581 236 694 945 657  18 345 618 351 811 804 463 879 361\n",
      " 447 871 807 226 274 554 239 102 391 775 677 994 460 805 368 712 126 603\n",
      " 718 626 852 323  54 927 203 732 993 174 922 645 168 277 349 397 726 970\n",
      "  25 901 686 652 461 995  20 299 675 999 801 702 583 651 450 521 209 474\n",
      " 573 543  41 442 182 527  30 497   1 815 717 921 719 449 138 346 206 128\n",
      " 831 350 335 820 388 742 265 961 200 564 282 224 244 812 227 148 740 160\n",
      " 210 906 473 225 853 571 149 730 462 139  33  67 944 360 897 249  12  69\n",
      " 978 416 737 136 653 572 218 721 196 476 756 188 834 498 363 867 849 597\n",
      " 110 859 291 176  84 398 670 484 974  74 155 103 832 144 949 446 637  39\n",
      " 499 600 311 613 529 152 689 963 553  42 848 797 501 902 873 582 389 863\n",
      " 221 331 454 576 830 112 459 845 245 790 258 664 561  59 231 642 278 753\n",
      " 107  70 792 487 681 638 866 430 261 810 264 766 635 552 268  14 513 814\n",
      " 418 325 471 502 898 758 330 510 996  45 431 577 616 536  91 667 934 151\n",
      " 602 968 396 394 115 434 783  87 925 436 772 861 769 860 969 751 959  58\n",
      " 177 743  40 693 659 918 248 170 926  77 590  15 426 445 417 116 166 523\n",
      " 357 189 315 971 369 438 545 243 259 491  83 920 649 948 841 800 604 557\n",
      " 762 885 799 283 684 952 190 872 938 819 163 771 856 836 142 738 524 966\n",
      " 984 433 886 287 407 488 125 347 687 733 821 806 385 937 585 300 519  96\n",
      " 939 525 403 372 629 219 306 216 503 987 482 593  43 414 444 208 526 736\n",
      " 437 494 575 477 846 267 917 453  97 658 271 229 566 665 336 100 481 907\n",
      " 202 883 114 309 816 612 122 195  49 986  19  71 241 104  21 929 876 714\n",
      " 985 763 930 599 164 828 648 584 957 824 143 108 580 946 958 578 785  34\n",
      " 869 421 169   2 514   8 839 343 802 835 316  53 983 134 154 478 469 893\n",
      " 555 781 825 683 558 662 285 594 932 157 295 429  82 998 516 546 253 175\n",
      " 964 352 307 707 158 615 947 205 147 313 401 868 990 109 748 589 725  93\n",
      " 928 133 150 427 692 159 671 404 204 383 591 247 256 390  63 826 483 614\n",
      " 595 321 405 632 334 980   6 342 542 515  65 504 674 746  23 713 472 359\n",
      " 384 854 485 464 764 230 767 798 981 294 324 480 518 621 784 419 611 232\n",
      " 308 371 953 113 559  26 900 156 410 773 977  80 904 337 631 118 448 362\n",
      " 422 749 314 809 874 193 903 745 512 565 132 439 942 916 607 423 680 691\n",
      "  24 943 549 257 121 237 432 570 914 722 276 339 678 840 676 982 413 881\n",
      " 435 379 894 178 639 508 704 731 466 627  68  60 338 531 682 222 399 269\n",
      " 187  11 340 233  95 724 596 654 962 181] [1000 1001 1002 1003 1004 1005 1006 1007 1008 1009 1010 1011 1012 1013 1014\n",
      " 1015 1016 1017 1018 1019 1020 1021 1022 1023 1024 1025 1026 1027 1028 1029\n",
      " 1030 1031 1032 1033 1034 1035 1036 1037 1038 1039 1040 1041 1042 1043 1044\n",
      " 1045 1046 1047 1048 1049 1050 1051 1052 1053 1054 1055 1056 1057 1058 1059\n",
      " 1060 1061 1062 1063 1064 1065 1066 1067 1068 1069 1070 1071 1072 1073 1074\n",
      " 1075 1076 1077 1078 1079 1080 1081 1082 1083 1084 1085 1086 1087 1088 1089\n",
      " 1090 1091 1092 1093 1094 1095 1096 1097 1098 1099 1100 1101 1102 1103 1104\n",
      " 1105 1106 1107 1108 1109 1110 1111 1112 1113 1114 1115 1116 1117 1118 1119\n",
      " 1120 1121 1122 1123 1124 1125 1126 1127 1128 1129 1130 1131 1132 1133 1134\n",
      " 1135 1136 1137 1138 1139 1140 1141 1142 1143 1144 1145 1146 1147 1148 1149\n",
      " 1150 1151 1152 1153 1154 1155 1156 1157 1158 1159 1160 1161 1162 1163 1164\n",
      " 1165 1166 1167 1168 1169 1170 1171 1172 1173 1174 1175 1176 1177 1178 1179\n",
      " 1180 1181 1182 1183 1184 1185 1186 1187 1188 1189 1190 1191 1192 1193 1194\n",
      " 1195 1196 1197 1198 1199 1200 1201 1202 1203 1204 1205 1206 1207 1208 1209\n",
      " 1210 1211 1212 1213 1214 1215 1216 1217 1218 1219 1220 1221 1222 1223 1224\n",
      " 1225 1226 1227 1228 1229 1230 1231 1232 1233 1234 1235 1236 1237 1238 1239\n",
      " 1240 1241 1242 1243 1244 1245 1246 1247 1248 1249 1250 1251 1252 1253 1254\n",
      " 1255 1256 1257 1258 1259 1260 1261 1262 1263 1264 1265 1266 1267 1268 1269\n",
      " 1270 1271 1272 1273 1274 1275 1276 1277 1278 1279 1280 1281 1282 1283 1284\n",
      " 1285 1286 1287 1288 1289 1290 1291 1292 1293 1294 1295 1296 1297 1298 1299\n",
      " 1300 1301 1302 1303 1304 1305 1306 1307 1308 1309 1310 1311 1312 1313 1314\n",
      " 1315 1316 1317 1318 1319 1320 1321 1322 1323 1324 1325 1326 1327 1328 1329\n",
      " 1330 1331 1332 1333 1334 1335 1336 1337 1338 1339 1340 1341 1342 1343 1344\n",
      " 1345 1346 1347 1348 1349 1350 1351 1352 1353 1354 1355 1356 1357 1358 1359\n",
      " 1360 1361 1362 1363 1364 1365 1366 1367 1368 1369 1370 1371 1372 1373 1374\n",
      " 1375 1376 1377 1378 1379 1380 1381 1382 1383 1384 1385 1386 1387 1388 1389\n",
      " 1390 1391 1392 1393 1394 1395 1396 1397 1398 1399 1400 1401 1402 1403 1404\n",
      " 1405 1406 1407 1408 1409 1410 1411 1412 1413 1414 1415 1416 1417 1418 1419\n",
      " 1420 1421 1422 1423 1424 1425 1426 1427 1428 1429 1430 1431 1432 1433 1434\n",
      " 1435 1436 1437 1438 1439 1440 1441 1442 1443 1444 1445 1446 1447 1448 1449\n",
      " 1450 1451 1452 1453 1454 1455 1456 1457 1458 1459 1460 1461 1462 1463 1464\n",
      " 1465 1466 1467 1468 1469 1470 1471 1472 1473 1474 1475 1476 1477 1478 1479\n",
      " 1480 1481 1482 1483 1484 1485 1486 1487 1488 1489 1490 1491 1492 1493 1494\n",
      " 1495 1496 1497 1498 1499 1500 1501 1502 1503 1504 1505 1506 1507 1508 1509\n",
      " 1510 1511 1512 1513 1514 1515 1516 1517 1518 1519 1520 1521 1522 1523 1524\n",
      " 1525 1526 1527 1528 1529 1530 1531 1532 1533 1534 1535 1536 1537 1538 1539\n",
      " 1540 1541 1542 1543 1544 1545 1546 1547 1548 1549 1550 1551 1552 1553 1554\n",
      " 1555 1556 1557 1558 1559 1560 1561 1562 1563 1564 1565 1566 1567 1568 1569\n",
      " 1570 1571 1572 1573 1574 1575 1576 1577 1578 1579 1580 1581 1582 1583 1584\n",
      " 1585 1586 1587 1588 1589 1590 1591 1592 1593 1594 1595 1596 1597 1598 1599\n",
      " 1600 1601 1602 1603 1604 1605 1606 1607 1608 1609 1610 1611 1612 1613 1614\n",
      " 1615 1616 1617 1618 1619 1620 1621 1622 1623 1624 1625 1626 1627 1628 1629\n",
      " 1630 1631 1632 1633 1634 1635 1636 1637 1638 1639 1640 1641 1642 1643 1644\n",
      " 1645 1646 1647 1648 1649 1650 1651 1652 1653 1654 1655 1656 1657 1658 1659\n",
      " 1660 1661 1662 1663 1664 1665 1666 1667 1668 1669 1670 1671 1672 1673 1674\n",
      " 1675 1676 1677 1678 1679 1680 1681 1682 1683 1684 1685 1686 1687 1688 1689\n",
      " 1690 1691 1692 1693 1694 1695 1696 1697 1698 1699 1700 1701 1702 1703 1704\n",
      " 1705 1706 1707 1708 1709 1710 1711 1712 1713 1714 1715 1716 1717 1718 1719\n",
      " 1720 1721 1722 1723 1724 1725 1726 1727 1728 1729 1730 1731 1732 1733 1734\n",
      " 1735 1736 1737 1738 1739 1740 1741 1742 1743 1744 1745 1746 1747 1748 1749\n",
      " 1750 1751 1752 1753 1754 1755 1756 1757 1758 1759 1760 1761 1762 1763 1764\n",
      " 1765 1766 1767 1768 1769 1770 1771 1772 1773 1774 1775 1776 1777 1778 1779\n",
      " 1780 1781 1782 1783 1784 1785 1786 1787 1788 1789 1790 1791 1792 1793 1794\n",
      " 1795 1796]\n"
     ]
    },
    {
     "data": {
      "text/plain": [
       "1"
      ]
     },
     "execution_count": 24,
     "metadata": {},
     "output_type": "execute_result"
    }
   ],
   "source": [
    "l = len(digits.target)\n",
    "m = 1000\n",
    "accuracies = []\n",
    "num_trials = 1\n",
    "train_i = np.arange(m)\n",
    "for i in range(num_trials):\n",
    "    train_i = np.random.permutation(train_i)\n",
    "    all_i = np.arange(l)\n",
    "    all_i[train_i] = -1\n",
    "    test_i = all_i[all_i > -1]\n",
    "    print train_i, test_i\n",
    "    train_data = digits.data[train_i,:]\n",
    "    train_target = digits.target[train_i]\n",
    "    test_data = digits.data[test_i]\n",
    "    test_target = digits.target[test_i]\n",
    "    clf.fit(train_data,train_target)\n",
    "    accuracy = sum(clf.predict(test_data)==test_target)*1.0/(l-m)\n",
    "    accuracies.append(accuracy)\n",
    "len(set(accuracies)) # only one accuracy regardless of order trained"
   ]
  },
  {
   "cell_type": "code",
   "execution_count": 17,
   "metadata": {},
   "outputs": [
    {
     "data": {
      "text/plain": [
       "(150L, 4L)"
      ]
     },
     "execution_count": 17,
     "metadata": {},
     "output_type": "execute_result"
    }
   ],
   "source": [
    "from sklearn import datasets\n",
    "iris = datasets.load_iris()\n",
    "data = iris.data\n",
    "data.shape"
   ]
  },
  {
   "cell_type": "code",
   "execution_count": 118,
   "metadata": {},
   "outputs": [
    {
     "data": {
      "text/plain": [
       "(1797L, 8L, 8L)"
      ]
     },
     "execution_count": 118,
     "metadata": {},
     "output_type": "execute_result"
    }
   ],
   "source": [
    "digits = datasets.load_digits()\n",
    "digits.images.shape\n"
   ]
  },
  {
   "cell_type": "code",
   "execution_count": 121,
   "metadata": {},
   "outputs": [
    {
     "name": "stdout",
     "output_type": "stream",
     "text": [
      "(1797L, 64L)\n",
      "(1797L, 64L)\n"
     ]
    }
   ],
   "source": [
    "data = digits.images.reshape(len(digits.images),64)\n",
    "print data.shape\n",
    "print digits.data.shape"
   ]
  },
  {
   "cell_type": "code",
   "execution_count": 122,
   "metadata": {},
   "outputs": [
    {
     "data": {
      "text/plain": [
       "{0, 1, 2}"
      ]
     },
     "execution_count": 122,
     "metadata": {},
     "output_type": "execute_result"
    }
   ],
   "source": [
    "import numpy as np\n",
    "from sklearn import datasets\n",
    "iris = datasets.load_iris()\n",
    "iris_X = iris.data\n",
    "iris_y = iris.target\n",
    "set(iris_y)"
   ]
  },
  {
   "cell_type": "code",
   "execution_count": 137,
   "metadata": {},
   "outputs": [
    {
     "data": {
      "text/plain": [
       "KNeighborsClassifier(algorithm='auto', leaf_size=30, metric='minkowski',\n",
       "           metric_params=None, n_jobs=1, n_neighbors=5, p=2,\n",
       "           weights='uniform')"
      ]
     },
     "execution_count": 137,
     "metadata": {},
     "output_type": "execute_result"
    }
   ],
   "source": [
    "indices = np.random.permutation(len(iris_X))\n",
    "N = 10\n",
    "iris_X_train = iris_X[indices[:-N]]\n",
    "iris_y_train = iris_y[indices[:-N]]\n",
    "iris_X_test = iris_X[indices[-N:]]\n",
    "iris_y_test = iris_y[indices[-N:]]\n",
    "from sklearn.neighbors import KNeighborsClassifier\n",
    "knn = KNeighborsClassifier()\n",
    "knn.fit(iris_X_train, iris_y_train)"
   ]
  },
  {
   "cell_type": "code",
   "execution_count": 138,
   "metadata": {},
   "outputs": [
    {
     "name": "stdout",
     "output_type": "stream",
     "text": [
      "[1 2 2 1 0 2 1 2 2 2]\n",
      "[1 2 2 1 0 2 1 2 2 1]\n",
      "[ True  True  True  True  True  True  True  True  True False]\n"
     ]
    }
   ],
   "source": [
    "print knn.predict(iris_X_test)\n",
    "print iris_y_test # truthe\n",
    "print knn.predict(iris_X_test) == iris_y_test"
   ]
  },
  {
   "cell_type": "code",
   "execution_count": 139,
   "metadata": {},
   "outputs": [
    {
     "data": {
      "text/plain": [
       "SVC(C=1.0, cache_size=200, class_weight=None, coef0=0.0,\n",
       "  decision_function_shape=None, degree=3, gamma='auto', kernel='linear',\n",
       "  max_iter=-1, probability=False, random_state=None, shrinking=True,\n",
       "  tol=0.001, verbose=False)"
      ]
     },
     "execution_count": 139,
     "metadata": {},
     "output_type": "execute_result"
    }
   ],
   "source": [
    "from sklearn import svm\n",
    "svc = svm.SVC(kernel = \"linear\")\n",
    "svc.fit(iris_X_train, iris_y_train)"
   ]
  },
  {
   "cell_type": "code",
   "execution_count": 140,
   "metadata": {},
   "outputs": [
    {
     "name": "stdout",
     "output_type": "stream",
     "text": [
      "[ True  True  True  True  True  True  True  True  True  True]\n"
     ]
    }
   ],
   "source": [
    "print svc.predict(iris_X_test) == iris_y_test"
   ]
  },
  {
   "cell_type": "code",
   "execution_count": 144,
   "metadata": {},
   "outputs": [
    {
     "name": "stdout",
     "output_type": "stream",
     "text": [
      "[ True  True  True  True  True  True  True  True  True  True]\n"
     ]
    }
   ],
   "source": [
    "import pickle\n",
    "# s= pickle.dumps(svc) # dumps to a string\n",
    "\n",
    "with open(\"mysvc.dat\",\"w\") as f:\n",
    "    pickle.dump(svc,f)\n",
    "\n",
    "with open(\"mysvc.dat\",\"r\") as f:\n",
    "    svc2= pickle.load(f)\n",
    "    \n",
    "print svc2.predict(iris_X_test) == iris_y_test"
   ]
  },
  {
   "cell_type": "code",
   "execution_count": null,
   "metadata": {
    "collapsed": true
   },
   "outputs": [],
   "source": []
  }
 ],
 "metadata": {
  "kernelspec": {
   "display_name": "Python 2",
   "language": "python",
   "name": "python2"
  }
 },
 "nbformat": 4,
 "nbformat_minor": 1
}
