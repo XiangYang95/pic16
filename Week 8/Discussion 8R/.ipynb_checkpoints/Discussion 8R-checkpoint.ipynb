{
 "cells": [
  {
   "cell_type": "markdown",
   "metadata": {},
   "source": [
    "# PIC 16: Python With Applications\n",
    "# Discussion 8R\n",
    "# Office Hour: 5pm - 6pm"
   ]
  },
  {
   "cell_type": "code",
   "execution_count": 1,
   "metadata": {
    "collapsed": true
   },
   "outputs": [],
   "source": [
    "import numpy as np"
   ]
  },
  {
   "cell_type": "code",
   "execution_count": 22,
   "metadata": {},
   "outputs": [
    {
     "name": "stdout",
     "output_type": "stream",
     "text": [
      "[2000, 1995, 2000, 1996, 1997, 1996, 1996, 1996, 1994, 1997, 1995, 2000, 2000, 1997, 1995, 1994, 1999, 1994, 1996, 1995, 1997, 1992, 1992, 1996, 1994, 1993, 1998, 1991, 1995, 2000, 1999, 1993, 2000, 1993, 1998, 2000, 1991, 1997, 1998, 1996, 1997, 1994, 1996, 2000, 1991, 1998, 1995, 2000, 1997, 1992, 1996, 1998, 1997, 1994, 1998, 1998, 1999, 1995, 1993, 2000, 1997, 1991, 1997, 1996, 1996, 1998, 1998, 1996, 1994, 1999, 2000, 1997, 1998, 2000, 1997, 1996, 1996, 1998, 1995, 1999, 1999, 1997, 1997, 1994, 1991, 1996, 1999, 1995, 1997, 1992, 1992, 2000, 1994, 1993, 1994, 1997, 1996, 1992, 1991, 1997, 1999, 1993, 1993, 1992, 1994, 1995, 1992, 1993, 1993, 1992, 1995, 1998, 1995, 1995, 1995, 1995, 1999, 1999, 1994, 1994, 1999, 1998, 1993, 1999, 1996, 1997, 1995, 2000, 1996, 1993, 1999, 1996, 1998, 1993, 1998, 1996, 1993, 1998, 1992, 1995, 2000, 2000, 1994, 2000, 1999, 1995, 1994, 1995, 1999, 1993, 1994, 1991, 1992, 1993, 1996, 1992, 2000, 1992, 1994, 2000, 1999, 1998, 1991, 1993, 1996, 1997, 1994, 1991, 1998, 1999, 1998, 2000, 1999, 1995, 1993, 1998, 1995, 1995, 1995, 1997, 1991, 1996, 2000, 1999, 1993, 1997, 2000, 1996, 1992, 1993, 1992, 1995, 2000, 1996, 1995, 1995, 1998, 1999, 1999, 1997, 1992, 1994, 1996, 1998, 1991, 1997, 2000, 2000, 1999, 1998, 1996, 1997, 1994, 1995, 1999, 1999, 1992, 1999, 2000, 1991, 1995, 1997, 1996, 1992, 2000, 1991, 1994, 1995, 1995, 1999, 1991, 1994, 1994, 1998, 1998, 1991, 1997, 1996, 1991, 2000, 1994, 1996, 1995, 1998, 1998, 1997, 1998, 1995, 1996, 1999, 1999, 1999, 1997, 1991, 1997, 1993, 1998, 1993, 1993, 1998, 1996, 1991, 1991, 1998, 2000, 1991, 1993, 1992, 1997, 1997, 1998, 2000, 1994, 1998, 1997, 1994, 1991, 1998, 1999, 1997, 1993, 1999, 1997, 2000, 1992, 1991, 1997, 1993, 1996, 1995, 1996, 1994, 1995, 1994, 1997, 1999, 1994, 2000, 1996, 1997, 1995, 1993, 1992, 1996, 1991, 1997, 1995, 1996, 1991, 1992, 1995, 1991, 2000, 1991, 1998, 1995, 1994, 1999, 1996, 1999, 1999, 1997, 1994, 1998, 1998, 1995, 1999, 1999, 1993, 1997, 2000, 2000, 1998, 1999, 1992, 1995, 1994, 1995, 1997, 1992, 1994, 1997, 1994, 1998, 1991, 1996, 2000, 1994, 2000, 1999, 2000, 2000, 1999, 1991, 1996, 1996, 1999, 1998, 2000, 1994, 1996, 1996, 2000, 1999, 1994, 1996, 1999, 1993, 1998, 1997, 1995, 1995, 1993, 1994, 1999, 1994, 2000, 2000, 1991, 1999, 1999, 1996, 2000, 1995, 2000, 1994, 1992, 1998, 1993, 1993, 1999, 1994, 1999, 1999, 1999, 1998, 1995, 1998, 1994, 1995, 1998, 1996, 1996, 1992, 1998, 1992, 1995, 1991, 1992, 1997, 2000, 1997, 1996, 1995, 1994, 1995, 1991, 1996, 2000, 1994, 1996, 1995, 1995, 1995, 1995, 2000, 1995, 1996, 1999, 1998, 1994, 1995, 1996, 1997, 1997, 1999, 1998, 1999, 1995, 1993, 1997, 1999, 1996, 1995, 1996, 2000, 1992, 1992, 1997, 1993, 1992, 1993, 1997, 1993, 1999, 1995, 1995, 1992, 1993, 1991, 1993, 2000, 2000, 1991, 1993, 2000, 1993, 1991, 1994, 1997, 1996, 1997, 1994, 1991, 1991, 1998, 1992, 1994, 1999, 1999, 1992, 1995, 1997, 1993, 1995, 2000, 1997, 1995, 1996, 2000, 1992, 1999, 1993, 1993, 1998, 1997, 1995, 1999, 1994, 1997, 1994, 1996, 1991, 1992, 1991, 1998, 1991, 1996, 1992, 1996, 1991, 2000, 1998, 1993, 1993, 1993, 1992, 1996, 1999, 1999, 1997, 1995, 1998, 1995, 1994, 1993, 1993, 1995, 2000, 1997, 1996, 1992, 1995, 1994, 1994, 1999, 2000, 1999, 1999, 1998, 1994, 1997, 1998, 1995, 1991, 1991, 2000, 1991, 1994, 1996, 1992, 1996, 2000, 1997, 1998, 1995, 1993, 1995, 1993, 2000, 1997, 1999, 2000, 1997, 1992, 1993, 2000, 2000, 1995, 1994, 1998, 1991, 1999, 1996, 2000, 1994, 1996, 1997, 1997, 1998, 1994, 1991, 1991, 1993, 1999, 1999, 1995, 1994, 1994, 1993, 1993, 1991, 1997, 1993, 1999, 1998, 1994, 1993, 1995, 1993, 1998, 2000, 2000, 1999, 1997, 1995, 1991, 1995, 1991, 1994, 2000, 1993, 1992, 1993, 1993, 1995, 1992, 1997, 1997, 1998, 1994, 1995, 1998, 1993, 1998, 1998, 1995, 1994, 1995, 2000, 1995, 1994, 1994, 1991, 1993, 1993, 1996, 1995, 1998, 1995, 1992, 1991, 1996, 1997, 1992, 1994, 1994, 1997, 1998, 1991, 1993, 1992, 1998, 1993, 1999, 1992, 1993, 1993, 1991, 1996, 1991, 1995, 1993, 1992, 1991, 1997, 1999, 1996, 1995, 1992, 2000, 1991, 1997, 1997, 2000, 1998, 1991, 2000, 1993, 1999, 2000, 1997, 1992, 1998, 1995, 2000, 1991, 1992, 1992, 1992, 1993, 1995, 1996, 2000, 2000, 1998, 1998, 1997, 1992, 1996, 1996, 2000, 1997, 1996, 1993, 1991, 1997, 1992, 1994, 1992, 1997, 2000, 1992, 1991, 1994, 1995, 1993, 1994, 1994, 1994, 1999, 1994, 1994, 1991, 1992, 1998, 1999, 1998, 1994, 1993, 1994, 1991, 1997, 1996, 1995, 1993, 1996, 1994, 2000, 1992, 1993, 1994, 1992, 1999, 1997, 1998, 1992, 1999, 1993, 1997, 2000, 1995, 1991, 1993, 1993, 1992, 2000, 1997, 1995, 1997, 2000, 2000, 1992, 1999, 1992, 1993, 1997, 1998, 1991, 1995, 1998, 1998, 1991, 1997, 1996, 1996, 1991, 1998, 1999, 1999, 1998, 1995, 1994, 1996, 1996, 1997, 1995, 1999, 2000, 1993, 1998, 1998, 1993, 1993, 2000, 1994, 1996, 1993, 1992, 1995, 1995, 1995, 1998, 2000, 1991, 1997, 2000, 1998, 1993, 1999, 2000, 1996, 1991, 1999, 2000, 1995, 1994, 2000, 1994, 1993, 1994, 1996, 1993, 1996, 1992, 1991, 1997, 1991, 1993, 1999, 1995, 1991, 1999, 1997, 1998, 1993, 1997, 1999, 2000, 1995, 1998, 1993, 1996, 1992, 1999, 1997, 1994, 1999, 1995, 1999, 1994, 1997, 1995, 1999, 1997, 2000, 1995, 2000, 1994, 1999, 1996, 1991, 1995, 1991, 2000, 1993, 1998, 1994, 1992, 2000, 1991, 1997, 1993, 1999, 1991, 2000, 1998, 1993, 1994, 1991, 1998, 1994, 1998, 1995, 1996, 1999, 1991, 1996, 2000, 1998, 1993, 2000, 1994, 1996, 1993, 1992, 1999, 1997, 1994, 1997, 1993, 1999, 1993, 1993, 2000, 1998, 1998, 1999, 1996, 1997, 1994, 1999, 1997, 1992, 1999, 1994, 1996, 1996, 1992, 2000, 1993, 1998, 1991, 1999, 1991, 1997, 1994, 1995, 1991, 2000, 1999, 1999, 1994, 1999, 1991, 1998, 1994, 1997, 2000, 1996, 1996, 1992, 1994, 1991, 1996, 1998, 1992, 1991, 1993, 1996, 1992, 1991, 1997, 1997, 1996, 1997, 1995, 1998, 1999, 1995, 1993, 1997, 1992, 1991, 1997, 1998, 2000, 1991, 1995, 1995, 1993, 1992, 2000, 1992, 1994, 1997, 1991, 1991, 1997, 1997, 1993, 1992, 1999, 1995, 1997, 1993, 2000, 1997, 1991, 1997, 1998, 1993, 1998, 1995, 1996, 1998, 1992, 1997, 1996, 1997]\n"
     ]
    }
   ],
   "source": [
    "import json\n",
    "with open('data.json') as F:\n",
    "    dd = json.load(F)\n",
    "    \n",
    "print dd"
   ]
  },
  {
   "cell_type": "markdown",
   "metadata": {},
   "source": [
    "# Problem\n",
    "\n",
    "Find the unique years from the data"
   ]
  },
  {
   "cell_type": "code",
   "execution_count": 3,
   "metadata": {},
   "outputs": [
    {
     "name": "stdout",
     "output_type": "stream",
     "text": [
      "[2000, 1995, 1996, 1997, 1994, 1999, 1992, 1993, 1998, 1991]\n"
     ]
    }
   ],
   "source": [
    "mylist=[]\n",
    "for i in dd:\n",
    "    if i in mylist:\n",
    "        pass\n",
    "    else:\n",
    "        mylist.append(i)\n",
    "        \n",
    "print mylist"
   ]
  },
  {
   "cell_type": "code",
   "execution_count": 5,
   "metadata": {},
   "outputs": [
    {
     "name": "stdout",
     "output_type": "stream",
     "text": [
      "[1991, 1992, 1993, 1994, 1995, 1996, 1997, 1998, 1999, 2000]\n"
     ]
    }
   ],
   "source": [
    "mylist = list(set(dd))\n",
    "print mylist"
   ]
  },
  {
   "cell_type": "markdown",
   "metadata": {},
   "source": [
    "# Problem\n",
    "\n",
    "Create a dictionary such that\n",
    "\n",
    "```\n",
    "{1991: 104,\n",
    "1992: 113,\n",
    "1993: 111,\n",
    "...\n",
    "2000: 90}\n",
    "```"
   ]
  },
  {
   "cell_type": "code",
   "execution_count": 8,
   "metadata": {},
   "outputs": [
    {
     "name": "stdout",
     "output_type": "stream",
     "text": [
      "{1991: 89, 1992: 79, 1993: 103, 1994: 99, 1995: 111, 1996: 98, 1997: 113, 1998: 100, 1999: 104, 2000: 104}\n"
     ]
    }
   ],
   "source": [
    "di = {}\n",
    "\n",
    "for i in dd:\n",
    "    if i in di.keys():\n",
    "        di[i] += 1\n",
    "    else:\n",
    "        di[i] = 1\n",
    "        \n",
    "print di\n"
   ]
  },
  {
   "cell_type": "markdown",
   "metadata": {},
   "source": [
    "# Plot: Basic Histogram\n",
    "\n",
    "https://plot.ly/python/histograms/"
   ]
  },
  {
   "cell_type": "code",
   "execution_count": 10,
   "metadata": {},
   "outputs": [
    {
     "data": {
      "text/html": [
       "<iframe id=\"igraph\" scrolling=\"no\" style=\"border:none;\" seamless=\"seamless\" src=\"https://plot.ly/~XiangYang/2.embed\" height=\"525px\" width=\"100%\"></iframe>"
      ],
      "text/plain": [
       "<plotly.tools.PlotlyDisplay object>"
      ]
     },
     "execution_count": 10,
     "metadata": {},
     "output_type": "execute_result"
    }
   ],
   "source": [
    "import plotly\n",
    "import plotly.plotly as py\n",
    "import plotly.graph_objs as go\n",
    "import numpy as np\n",
    "\n",
    "py.sign_in('XiangYang', 'rvRNJPFrtESSuisdY0CI')\n",
    "\n",
    "x = np.random.randn(500)\n",
    "data = [go.Histogram(x=x)]\n",
    "\n",
    "py.iplot(data, filename='basic histogram')"
   ]
  },
  {
   "cell_type": "markdown",
   "metadata": {},
   "source": [
    "# Problem\n",
    "\n",
    "Plot the histogram using the **data**."
   ]
  },
  {
   "cell_type": "code",
   "execution_count": 21,
   "metadata": {},
   "outputs": [
    {
     "data": {
      "text/plain": [
       "[89, 79, 103, 99, 111, 98, 113, 100, 104, 104]"
      ]
     },
     "execution_count": 21,
     "metadata": {},
     "output_type": "execute_result"
    }
   ],
   "source": [
    "di.values()"
   ]
  },
  {
   "cell_type": "code",
   "execution_count": 23,
   "metadata": {
    "scrolled": false
   },
   "outputs": [
    {
     "data": {
      "text/html": [
       "<iframe id=\"igraph\" scrolling=\"no\" style=\"border:none;\" seamless=\"seamless\" src=\"https://plot.ly/~XiangYang/4.embed\" height=\"525px\" width=\"100%\"></iframe>"
      ],
      "text/plain": [
       "<plotly.tools.PlotlyDisplay object>"
      ]
     },
     "execution_count": 23,
     "metadata": {},
     "output_type": "execute_result"
    }
   ],
   "source": [
    "x = di.values()\n",
    "data = [go.Histogram(x=dd)]\n",
    "\n",
    "py.iplot(data, filename='basic histogram1')"
   ]
  },
  {
   "cell_type": "markdown",
   "metadata": {},
   "source": [
    "# Problem\n",
    "\n",
    "https://plot.ly/python/figure-labels/\n",
    "\n",
    "Write down **years** at the x-axis, **numbers** at the y-axis, and **My data** at plot title."
   ]
  },
  {
   "cell_type": "code",
   "execution_count": 24,
   "metadata": {},
   "outputs": [
    {
     "data": {
      "text/html": [
       "<iframe id=\"igraph\" scrolling=\"no\" style=\"border:none;\" seamless=\"seamless\" src=\"https://plot.ly/~XiangYang/4.embed\" height=\"525px\" width=\"100%\"></iframe>"
      ],
      "text/plain": [
       "<plotly.tools.PlotlyDisplay object>"
      ]
     },
     "execution_count": 24,
     "metadata": {},
     "output_type": "execute_result"
    }
   ],
   "source": [
    "layout = go.Layout(\n",
    "    title='My data',\n",
    "    xaxis=dict(\n",
    "        title='years',\n",
    "        titlefont=dict(\n",
    "            family='Courier New, monospace',\n",
    "            size=18,\n",
    "            color='#7f7f7f'\n",
    "        )\n",
    "    ),\n",
    "    yaxis=dict(\n",
    "        title='Numbers',\n",
    "        titlefont=dict(\n",
    "            family='Courier New, monospace',\n",
    "            size=18,\n",
    "            color='#7f7f7f'\n",
    "        )\n",
    "    )\n",
    ")\n",
    "\n",
    "fig = go.Figure(data = data, layout = layout)\n",
    "\n",
    "py.iplot(fig, filename='basic histogram1')"
   ]
  },
  {
   "cell_type": "markdown",
   "metadata": {},
   "source": [
    "# Problem\n",
    "\n",
    "https://plot.ly/python/line-and-scatter/\n",
    "\n",
    "Plot the scatter plot with **di**."
   ]
  },
  {
   "cell_type": "code",
   "execution_count": 32,
   "metadata": {
    "scrolled": false
   },
   "outputs": [
    {
     "data": {
      "text/html": [
       "<iframe id=\"igraph\" scrolling=\"no\" style=\"border:none;\" seamless=\"seamless\" src=\"https://plot.ly/~XiangYang/6.embed\" height=\"525px\" width=\"100%\"></iframe>"
      ],
      "text/plain": [
       "<plotly.tools.PlotlyDisplay object>"
      ]
     },
     "execution_count": 32,
     "metadata": {},
     "output_type": "execute_result"
    }
   ],
   "source": [
    "trace = go.Scatter(x = di.keys(), y = di.values(), mode = \"lines+markers\")\n",
    "data = [trace]\n",
    "\n",
    "py.iplot(data, filename = \"years\")"
   ]
  },
  {
   "cell_type": "markdown",
   "metadata": {},
   "source": [
    "![alt text](scatter-demo.png)"
   ]
  },
  {
   "cell_type": "markdown",
   "metadata": {},
   "source": [
    "# Problem\n",
    "\n",
    "Save the above image as **scatter-discussion.png**"
   ]
  },
  {
   "cell_type": "code",
   "execution_count": 31,
   "metadata": {},
   "outputs": [],
   "source": [
    "py.image.save_as(data, filename = \"scatter-discussion.png\")"
   ]
  }
 ],
 "metadata": {
  "anaconda-cloud": {},
  "kernelspec": {
   "display_name": "Python 2",
   "language": "python",
   "name": "python2"
  },
  "language_info": {
   "codemirror_mode": {
    "name": "ipython",
    "version": 2
   },
   "file_extension": ".py",
   "mimetype": "text/x-python",
   "name": "python",
   "nbconvert_exporter": "python",
   "pygments_lexer": "ipython2",
   "version": "2.7.14"
  }
 },
 "nbformat": 4,
 "nbformat_minor": 1
}
