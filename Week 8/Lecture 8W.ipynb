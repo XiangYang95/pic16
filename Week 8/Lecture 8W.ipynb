{
 "cells": [
  {
   "cell_type": "code",
   "execution_count": null,
   "metadata": {
    "collapsed": true
   },
   "outputs": [],
   "source": [
    "import numpy as np\n",
    "from scipy.optimize import minimize, curve_fit\n",
    "\n",
    "#given x-data and y-data\n",
    "def f(x,a,b):\n",
    "    return a*np.sin(x*b)\n",
    "\n",
    "def obj(x):\n",
    "    return np.sum(y-f(x, x[0], x[1])**2)\n",
    "popt, pcov = curve_fit(f, x_data, y_data, [2,2])\n",
    "\n"
   ]
  }
 ],
 "metadata": {
  "kernelspec": {
   "display_name": "Python 2",
   "language": "python",
   "name": "python2"
  },
  "language_info": {
   "codemirror_mode": {
    "name": "ipython",
    "version": 2
   },
   "file_extension": ".py",
   "mimetype": "text/x-python",
   "name": "python",
   "nbconvert_exporter": "python",
   "pygments_lexer": "ipython2",
   "version": "2.7.14"
  }
 },
 "nbformat": 4,
 "nbformat_minor": 2
}
