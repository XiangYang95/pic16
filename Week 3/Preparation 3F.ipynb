{
 "cells": [
  {
   "cell_type": "code",
   "execution_count": 4,
   "metadata": {},
   "outputs": [
    {
     "name": "stdout",
     "output_type": "stream",
     "text": [
      "m\n",
      "a\n",
      "p\n",
      "s\n"
     ]
    }
   ],
   "source": [
    "class Reverse:\n",
    "    \"\"\"Iterator for looping over a sequence backwards.\"\"\"\n",
    "    def __init__(self, data):\n",
    "        self.data = data\n",
    "\n",
    "    def __iter__(self):\n",
    "        return ReverseIterator(self)\n",
    "    \n",
    "class ReverseIterator:\n",
    "    def __init__(self, reverseObject):\n",
    "        self.index = len(reverseObject.data)\n",
    "        self.r = reverseObject\n",
    "        \n",
    "    def next(self):\n",
    "        if self.index == 0:\n",
    "            raise StopIteration\n",
    "        self.index = self.index - 1\n",
    "        return self.r.data[self.index]\n",
    "    \n",
    "rev = Reverse('spam')\n",
    "for char in rev: \n",
    "    print char;\n"
   ]
  },
  {
   "cell_type": "code",
   "execution_count": 6,
   "metadata": {},
   "outputs": [
    {
     "name": "stdout",
     "output_type": "stream",
     "text": [
      "s p r a i r g l s i e p a i o i u\n"
     ]
    }
   ],
   "source": [
    "def every_other(data):\n",
    "    for index in range(0,len(data),2):\n",
    "        yield data[index]\n",
    "        \n",
    "for char in every_other(\"supercalifragilisticexpialidocious\"):\n",
    "    print char,\n"
   ]
  },
  {
   "cell_type": "code",
   "execution_count": 10,
   "metadata": {},
   "outputs": [
    {
     "name": "stdout",
     "output_type": "stream",
     "text": [
      "s p r a i r g l s i e p a i o i u \n",
      "s p r a i r g l s i e p a i o i u\n"
     ]
    }
   ],
   "source": [
    "every_other2 = lambda data: (char for char in data[::2])\n",
    "for char in every_other2(\"supercalifragilisticexpialidocious\"):\n",
    "    print char,\n",
    "\n",
    "print \"\"\n",
    "\n",
    "# a more memory-efficient solution\n",
    "every_other3 = lambda data: (data[index] for index in xrange(0,len(data),2)) # range would work, too\n",
    "for char in every_other3(\"supercalifragilisticexpialidocious\"):\n",
    "    print char,"
   ]
  },
  {
   "cell_type": "code",
   "execution_count": null,
   "metadata": {
    "collapsed": true
   },
   "outputs": [],
   "source": []
  }
 ],
 "metadata": {
  "kernelspec": {
   "display_name": "Python 2",
   "language": "python",
   "name": "python2"
  },
  "language_info": {
   "codemirror_mode": {
    "name": "ipython",
    "version": 2
   },
   "file_extension": ".py",
   "mimetype": "text/x-python",
   "name": "python",
   "nbconvert_exporter": "python",
   "pygments_lexer": "ipython2",
   "version": "2.7.14"
  }
 },
 "nbformat": 4,
 "nbformat_minor": 1
}
