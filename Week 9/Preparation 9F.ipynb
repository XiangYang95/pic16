{
 "cells": [
  {
   "cell_type": "code",
   "execution_count": 2,
   "metadata": {
    "collapsed": true
   },
   "outputs": [],
   "source": [
    "import cv2 as cv\n",
    "import numpy as np"
   ]
  },
  {
   "cell_type": "code",
   "execution_count": 3,
   "metadata": {},
   "outputs": [],
   "source": [
    "cap = cv.VideoCapture(0)\n",
    "# Define the codec and create VideoWriter object\n",
    "fourcc = cv.VideoWriter_fourcc(*'DIVX')\n",
    "out = cv.VideoWriter('output.avi',fourcc, 20.0, (640,480))\n",
    "while(cap.isOpened()):\n",
    "    ret, frame = cap.read()\n",
    "    if ret==True:\n",
    "        #frame = cv.flip(frame,0)\n",
    "        #flip the frame horizontally\n",
    "        frame = frame[:,::-1,:]\n",
    "\n",
    "        # write the flipped frame\n",
    "        out.write(frame)\n",
    "        cv.imshow('frame',frame)\n",
    "        if cv.waitKey(1) & 0xFF == ord('q'):\n",
    "            break\n",
    "    else:\n",
    "        break\n",
    "# Release everything if job is finished\n",
    "cap.release()\n",
    "out.release()\n",
    "cv.destroyAllWindows()"
   ]
  },
  {
   "cell_type": "code",
   "execution_count": 4,
   "metadata": {
    "collapsed": true
   },
   "outputs": [],
   "source": [
    "cap = cv.VideoCapture(\"ballbounce.mp4\")\n",
    "\n",
    "while True:\n",
    "    ret, frame = cap.read()\n",
    "    \n",
    "    hsv = cv.cvtColor(frame, cv.COLOR_BGR2HSV)\n",
    "    \n",
    "    #define green color in HSV\n",
    "    green = np.uint8([65, 208, 121])\n",
    "    #define range of green color in HSV\n",
    "    lower_green = np.array([green[0]-10, 50, 50])\n",
    "    upper_green = np.array([green[0]+10, 255, 255])\n",
    "    \n",
    "    greenMask = cv.inRange(hsv, lower_green, upper_green)\n",
    "    \n",
    "    #define red color in HSV\n",
    "    red = np.uint8([0, 240, 84])\n",
    "    \n",
    "    #define range of red color in HSV\n",
    "    lower_red = np.array([red[0], 50, 50])\n",
    "    upper_red = np.array([red[0]+10, 255, 255])\n",
    "    \n",
    "    redMask = cv.inRange(hsv, lower_red, upper_red)\n",
    "    \n",
    "    mask = cv.bitwise_or(redMask, greenMask)\n",
    "    res = cv.bitwise_and(frame, frame, mask = mask)\n",
    "    \n",
    "    cv.imshow(\"frame\", res)\n",
    "    \n",
    "    if cv.waitKey(1) == ord(\"q\"):\n",
    "        break\n",
    "        \n",
    "cap.release\n",
    "cv.destroyAllWindows()"
   ]
  },
  {
   "cell_type": "code",
   "execution_count": null,
   "metadata": {
    "collapsed": true
   },
   "outputs": [],
   "source": [
    "img = cv.imread(\"balls2.png\")\n",
    "\n",
    "\n",
    "hsv = cv.cvtColor(img, cv.COLOR_BGR2HSV)\n",
    "\n",
    "#define green color in HSV\n",
    "green = np.uint8([65, 208, 121])\n",
    "#define range of green color in HSV\n",
    "lower_green = np.array([green[0]-10, 50, 50])\n",
    "upper_green = np.array([green[0]+10, 255, 255])\n",
    "\n",
    "greenMask = cv.inRange(hsv, lower_green, upper_green)\n",
    "cv.imshow(\"image\", greenMask)\n",
    "cv.waitKey(0)\n",
    "cv.destroyAllWindows()\n",
    "\n",
    "im2, contours, hierarchy = cv.findContours(greenMask,cv2.RETR_TREE,cv2.CHAIN_APPROX_SIMPLE)\n",
    "cv.drawContours(img, contours, -1, (0,0,255), 3)\n",
    "cv.imshow('image',img)\n",
    "cv.waitKey(0)\n",
    "cv.destroyAllWindows()\n",
    "\n",
    "cap.release\n",
    "cv.destroyAllWindows()"
   ]
  }
 ],
 "metadata": {
  "kernelspec": {
   "display_name": "Python 2",
   "language": "python",
   "name": "python2"
  },
  "language_info": {
   "codemirror_mode": {
    "name": "ipython",
    "version": 2
   },
   "file_extension": ".py",
   "mimetype": "text/x-python",
   "name": "python",
   "nbconvert_exporter": "python",
   "pygments_lexer": "ipython2",
   "version": "2.7.14"
  }
 },
 "nbformat": 4,
 "nbformat_minor": 2
}
