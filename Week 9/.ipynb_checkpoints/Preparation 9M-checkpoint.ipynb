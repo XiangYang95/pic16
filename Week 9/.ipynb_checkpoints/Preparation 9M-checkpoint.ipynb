{
 "cells": [
  {
   "cell_type": "code",
   "execution_count": 1,
   "metadata": {},
   "outputs": [],
   "source": [
    "import sympy as sp\n",
    "sp.init_printing(use_latex = \"mathjax\")"
   ]
  },
  {
   "cell_type": "code",
   "execution_count": 3,
   "metadata": {},
   "outputs": [
    {
     "name": "stdout",
     "output_type": "stream",
     "text": [
      "Integral(x**x, (x, 0, 4))\n"
     ]
    }
   ],
   "source": [
    "x = sp.Symbol(\"x\")\n",
    "print sp.integrate(x**x, (x, 0,4))"
   ]
  },
  {
   "cell_type": "code",
   "execution_count": 4,
   "metadata": {},
   "outputs": [
    {
     "name": "stdout",
     "output_type": "stream",
     "text": [
      "114.119062194 2.19806395307e-09\n"
     ]
    }
   ],
   "source": [
    "import scipy.integrate as sci\n",
    "def f(x):\n",
    "    return x**x\n",
    "result, err = sci.quad(f, 0, 4)\n",
    "print result, err"
   ]
  }
 ],
 "metadata": {
  "kernelspec": {
   "display_name": "Python 2",
   "language": "python",
   "name": "python2"
  },
  "language_info": {
   "codemirror_mode": {
    "name": "ipython",
    "version": 2
   },
   "file_extension": ".py",
   "mimetype": "text/x-python",
   "name": "python",
   "nbconvert_exporter": "python",
   "pygments_lexer": "ipython2",
   "version": "2.7.14"
  }
 },
 "nbformat": 4,
 "nbformat_minor": 2
}
