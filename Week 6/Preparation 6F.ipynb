{
 "cells": [
  {
   "cell_type": "code",
   "execution_count": 3,
   "metadata": {
    "scrolled": false
   },
   "outputs": [
    {
     "name": "stdout",
     "output_type": "stream",
     "text": [
      "[list([3, 1, 3]) list([2, 0, 3]) list([2, 3])]\n",
      "(3L,) 1 3\n"
     ]
    }
   ],
   "source": [
    "import numpy as np\n",
    "a = np.array([[3,1, 3], [2,0, 3], [2,3]])\n",
    "print a\n",
    "print a.shape, a.ndim, len(a)\n",
    "\n"
   ]
  },
  {
   "cell_type": "code",
   "execution_count": 21,
   "metadata": {
    "scrolled": true
   },
   "outputs": [
    {
     "name": "stdout",
     "output_type": "stream",
     "text": [
      "[1 4 7]\n",
      "[ 10.          13.33333333  16.66666667]\n",
      "[[  1.           4.           7.        ]\n",
      " [ 10.          13.33333333  16.66666667]]\n"
     ]
    }
   ],
   "source": [
    "b = np.arange(1, 10, 3)\n",
    "print b\n",
    "\n",
    "c= np.linspace(10, 20, 3, endpoint = False)\n",
    "print c\n",
    "\n",
    "d = np.array([b, c])\n",
    "print d"
   ]
  },
  {
   "cell_type": "code",
   "execution_count": 265,
   "metadata": {
    "scrolled": true
   },
   "outputs": [
    {
     "ename": "TypeError",
     "evalue": "data type not understood",
     "output_type": "error",
     "traceback": [
      "\u001b[1;31m---------------------------------------------------------------------------\u001b[0m",
      "\u001b[1;31mTypeError\u001b[0m                                 Traceback (most recent call last)",
      "\u001b[1;32m<ipython-input-265-9dc286cc4aba>\u001b[0m in \u001b[0;36m<module>\u001b[1;34m()\u001b[0m\n\u001b[1;32m----> 1\u001b[1;33m \u001b[0me\u001b[0m \u001b[1;33m=\u001b[0m \u001b[0mnp\u001b[0m\u001b[1;33m.\u001b[0m\u001b[0mones\u001b[0m\u001b[1;33m(\u001b[0m\u001b[1;33m(\u001b[0m\u001b[1;36m2\u001b[0m\u001b[1;33m,\u001b[0m\u001b[1;36m2\u001b[0m\u001b[1;33m,\u001b[0m\u001b[1;36m2\u001b[0m\u001b[1;33m,\u001b[0m\u001b[1;36m2\u001b[0m\u001b[1;33m)\u001b[0m\u001b[1;33m,\u001b[0m\u001b[1;36m1\u001b[0m\u001b[1;33m)\u001b[0m\u001b[1;33m\u001b[0m\u001b[0m\n\u001b[0m\u001b[0;32m      2\u001b[0m \u001b[1;32mprint\u001b[0m \u001b[0me\u001b[0m\u001b[1;33m\u001b[0m\u001b[0m\n\u001b[0;32m      3\u001b[0m \u001b[1;33m\u001b[0m\u001b[0m\n\u001b[0;32m      4\u001b[0m \u001b[0mf\u001b[0m \u001b[1;33m=\u001b[0m \u001b[0mnp\u001b[0m\u001b[1;33m.\u001b[0m\u001b[0mzeros\u001b[0m\u001b[1;33m(\u001b[0m\u001b[1;33m(\u001b[0m\u001b[1;36m2\u001b[0m\u001b[1;33m,\u001b[0m\u001b[1;36m2\u001b[0m\u001b[1;33m,\u001b[0m\u001b[1;36m2\u001b[0m\u001b[1;33m,\u001b[0m\u001b[1;36m2\u001b[0m\u001b[1;33m)\u001b[0m\u001b[1;33m)\u001b[0m\u001b[1;33m\u001b[0m\u001b[0m\n\u001b[0;32m      5\u001b[0m \u001b[1;32mprint\u001b[0m \u001b[0mf\u001b[0m\u001b[1;33m\u001b[0m\u001b[0m\n",
      "\u001b[1;32mC:\\Users\\Lenovo\\Anaconda2\\lib\\site-packages\\numpy\\core\\numeric.pyc\u001b[0m in \u001b[0;36mones\u001b[1;34m(shape, dtype, order)\u001b[0m\n\u001b[0;32m    190\u001b[0m \u001b[1;33m\u001b[0m\u001b[0m\n\u001b[0;32m    191\u001b[0m     \"\"\"\n\u001b[1;32m--> 192\u001b[1;33m     \u001b[0ma\u001b[0m \u001b[1;33m=\u001b[0m \u001b[0mempty\u001b[0m\u001b[1;33m(\u001b[0m\u001b[0mshape\u001b[0m\u001b[1;33m,\u001b[0m \u001b[0mdtype\u001b[0m\u001b[1;33m,\u001b[0m \u001b[0morder\u001b[0m\u001b[1;33m)\u001b[0m\u001b[1;33m\u001b[0m\u001b[0m\n\u001b[0m\u001b[0;32m    193\u001b[0m     \u001b[0mmultiarray\u001b[0m\u001b[1;33m.\u001b[0m\u001b[0mcopyto\u001b[0m\u001b[1;33m(\u001b[0m\u001b[0ma\u001b[0m\u001b[1;33m,\u001b[0m \u001b[1;36m1\u001b[0m\u001b[1;33m,\u001b[0m \u001b[0mcasting\u001b[0m\u001b[1;33m=\u001b[0m\u001b[1;34m'unsafe'\u001b[0m\u001b[1;33m)\u001b[0m\u001b[1;33m\u001b[0m\u001b[0m\n\u001b[0;32m    194\u001b[0m     \u001b[1;32mreturn\u001b[0m \u001b[0ma\u001b[0m\u001b[1;33m\u001b[0m\u001b[0m\n",
      "\u001b[1;31mTypeError\u001b[0m: data type not understood"
     ]
    }
   ],
   "source": [
    "e = np.ones((2,2,2,2))\n",
    "print e\n",
    "\n",
    "f = np.zeros((2,2,2,2))\n",
    "print f"
   ]
  },
  {
   "cell_type": "code",
   "execution_count": 54,
   "metadata": {
    "scrolled": true
   },
   "outputs": [
    {
     "name": "stdout",
     "output_type": "stream",
     "text": [
      "[[ 0.  0.  0.  0.  0.]\n",
      " [ 1.  0.  0.  0.  0.]\n",
      " [ 0.  1.  0.  0.  0.]\n",
      " [ 0.  0.  1.  0.  0.]\n",
      " [ 0.  0.  0.  1.  0.]]\n",
      "[[0 0 0 0 0]\n",
      " [1 0 0 0 0]\n",
      " [0 2 0 0 0]\n",
      " [0 0 3 0 0]\n",
      " [0 0 0 4 0]]\n"
     ]
    }
   ],
   "source": [
    "f = np.eye(5,5,-1)\n",
    "print f\n",
    "\n",
    "g = np.diag(np.array([1,2,3,4]),-1)\n",
    "print g"
   ]
  },
  {
   "cell_type": "code",
   "execution_count": 173,
   "metadata": {
    "scrolled": true
   },
   "outputs": [
    {
     "name": "stdout",
     "output_type": "stream",
     "text": [
      "[[ 0.89742533  0.00887086]\n",
      " [ 0.71343856  0.48844141]]\n",
      "[[ 0.17904183  0.22158984  1.81631959]\n",
      " [-1.54251531 -0.67009936  1.91185253]\n",
      " [-1.59041649 -0.62572043 -0.72854831]]\n",
      "[[ 0.33273884  0.38383797]\n",
      " [ 0.99168132  0.19422578]]\n"
     ]
    }
   ],
   "source": [
    "h = np.random.rand(2,2)\n",
    "print h\n",
    "\n",
    "i = np.random.randn(3,3)\n",
    "print i\n",
    "\n",
    "np.random.seed(1000005)#can be commented out to check\n",
    "k = np.random.rand(2,2)\n",
    "print k"
   ]
  },
  {
   "cell_type": "code",
   "execution_count": 186,
   "metadata": {
    "scrolled": true
   },
   "outputs": [
    {
     "name": "stdout",
     "output_type": "stream",
     "text": [
      "[[ 0.33273884  0.38383797]\n",
      " [ 0.99168132  0.19422578]]\n"
     ]
    }
   ],
   "source": [
    "l = np.empty((2,2))\n",
    "print l\n",
    "\n"
   ]
  },
  {
   "cell_type": "code",
   "execution_count": 191,
   "metadata": {
    "scrolled": true
   },
   "outputs": [
    {
     "data": {
      "image/png": "[encoded data removed]",
      "text/plain": [
       "<matplotlib.figure.Figure at 0xa1f1a20>"
      ]
     },
     "metadata": {},
     "output_type": "display_data"
    }
   ],
   "source": [
    "import matplotlib.pyplot as plp\n",
    "x = np.linspace(1,10,9)\n",
    "y = np.arange(1,18,2)\n",
    "plp.plot(x,y)\n",
    "plp.plot(x,y, 'o')\n",
    "plp.show()"
   ]
  },
  {
   "cell_type": "code",
   "execution_count": 196,
   "metadata": {},
   "outputs": [
    {
     "name": "stdout",
     "output_type": "stream",
     "text": [
      "[[ 10.   9.   8.   7.   6.   5.   4.   3.   2.   1.]\n",
      " [  1.   2.   3.   4.   5.   6.   7.   8.   9.  10.]]\n"
     ]
    }
   ],
   "source": [
    "p1 = np.linspace(1,10,10)\n",
    "p1[::-1]\n",
    "p = np.array([p1[::-1],p1])\n",
    "print p"
   ]
  },
  {
   "cell_type": "code",
   "execution_count": 201,
   "metadata": {
    "scrolled": true
   },
   "outputs": [
    {
     "name": "stdout",
     "output_type": "stream",
     "text": [
      "[[ 0  1  2  3  4  5]\n",
      " [10 11 12 13 14 15]\n",
      " [20 21 22 23 24 25]\n",
      " [30 31 32 33 34 35]\n",
      " [40 41 42 43 44 45]\n",
      " [50 51 52 53 54 55]]\n",
      "[3 4]\n",
      "[ 2 12 22 32 42 52]\n",
      "[[20 22 24]\n",
      " [40 42 44]]\n",
      "[[44 45]\n",
      " [54 55]]\n"
     ]
    }
   ],
   "source": [
    "k = np.arange(6) + np.arange(0, 51, 10)[:,np.newaxis]\n",
    "print k\n",
    "\n",
    "print k[0,3:5]\n",
    "print k[:,2]\n",
    "print k[2::2, ::2]\n",
    "print k[4:,4:]"
   ]
  },
  {
   "cell_type": "code",
   "execution_count": 209,
   "metadata": {
    "scrolled": true
   },
   "outputs": [
    {
     "name": "stdout",
     "output_type": "stream",
     "text": [
      "[[ 1.  1.  1.  1.]\n",
      " [ 1.  1.  1.  1.]\n",
      " [ 1.  1.  1.  2.]\n",
      " [ 1.  6.  1.  1.]]\n",
      "[[ 1.  1.  1.  1.]\n",
      " [ 1.  1.  1.  1.]\n",
      " [ 1.  1.  1.  2.]\n",
      " [ 1.  6.  1.  1.]]\n",
      "[[ 1.  1.  1.  1.]\n",
      " [ 1.  1.  1.  1.]\n",
      " [ 1.  1.  1.  2.]\n",
      " [ 1.  6.  1.  1.]]\n"
     ]
    }
   ],
   "source": [
    "l = np.ones((4,4))\n",
    "l[3,1] = 6\n",
    "l[2,3] = 2\n",
    "print l\n",
    "\n",
    "l = np.ones((4,4))\n",
    "l[3][1] = 6\n",
    "l[2][3] = 2\n",
    "print l\n",
    "\n",
    "l = np.zeros((4,4)) + 1\n",
    "l[3,1] = 6\n",
    "l[2,3] = 2\n",
    "print l"
   ]
  },
  {
   "cell_type": "code",
   "execution_count": 222,
   "metadata": {
    "scrolled": false
   },
   "outputs": [
    {
     "name": "stdout",
     "output_type": "stream",
     "text": [
      "[[ 0.  0.  0.  0.  0.  0.]\n",
      " [ 2.  0.  0.  0.  0.  0.]\n",
      " [ 0.  3.  0.  0.  0.  0.]\n",
      " [ 0.  0.  4.  0.  0.  0.]\n",
      " [ 0.  0.  0.  5.  0.  0.]\n",
      " [ 0.  0.  0.  0.  6.  0.]]\n",
      "[[ 0.  0.  0.  0.  0.  0.]\n",
      " [ 2.  0.  0.  0.  0.  0.]\n",
      " [ 0.  3.  0.  0.  0.  0.]\n",
      " [ 0.  0.  4.  0.  0.  0.]\n",
      " [ 0.  0.  0.  5.  0.  0.]\n",
      " [ 0.  0.  0.  0.  6.  0.]]\n",
      "[[ 0.  0.  0.  0.  0.  0.]\n",
      " [ 2.  0.  0.  0.  0.  0.]\n",
      " [ 0.  3.  0.  0.  0.  0.]\n",
      " [ 0.  0.  4.  0.  0.  0.]\n",
      " [ 0.  0.  0.  5.  0.  0.]\n",
      " [ 0.  0.  0.  0.  6.  0.]]\n"
     ]
    }
   ],
   "source": [
    "k = np.array(np.diag(np.array([2,3,4,5,6]), -1), dtype = \"float\")\n",
    "print k\n",
    "\n",
    "k = np.zeros((6,6))\n",
    "j = 0\n",
    "for i in range(2,7):\n",
    "    global j\n",
    "    k[i-1, j] = i\n",
    "    j += 1\n",
    "print k\n",
    "\n",
    "k = np.eye(6,6,-1) + np.diag(np.array([i for i in range(1,6)]), -1)\n",
    "print k"
   ]
  },
  {
   "cell_type": "code",
   "execution_count": 228,
   "metadata": {
    "scrolled": true
   },
   "outputs": [
    {
     "name": "stdout",
     "output_type": "stream",
     "text": [
      "[[4 3 4 3 4 3]\n",
      " [2 1 2 1 2 1]\n",
      " [4 3 4 3 4 3]\n",
      " [2 1 2 1 2 1]]\n"
     ]
    }
   ],
   "source": [
    "a = np.array([[4,3],[2,1]])\n",
    "b = np.tile(a, (2,3))\n",
    "print b"
   ]
  },
  {
   "cell_type": "code",
   "execution_count": 246,
   "metadata": {
    "scrolled": true
   },
   "outputs": [
    {
     "name": "stdout",
     "output_type": "stream",
     "text": [
      "[[ 0  1  2  3  4  5]\n",
      " [10 11 12 13 14 15]\n",
      " [20 21 22 23 24 25]\n",
      " [30 31 32 33 34 35]\n",
      " [40 41 42 43 44 45]\n",
      " [50 51 52 53 54 55]]\n",
      "[11 22 33 44 55]\n",
      "[[30 32 35]\n",
      " [40 42 45]\n",
      " [50 52 55]]\n",
      "[ 2 22 52]\n",
      "[10 25]\n"
     ]
    }
   ],
   "source": [
    "k = np.arange(6) + np.arange(0, 51, 10)[:,np.newaxis]\n",
    "print k\n",
    "\n",
    "print k[(1,2,3,4,5),(1,2,3,4,5)]\n",
    "print k[3:,(0,2,5)]\n",
    "mask = np.array([1,0,1,0,0,5], dtype = \"bool\")\n",
    "print k[mask,2]\n",
    "print k[(1,2),np.array([1,0,0,0,0,1], dtype = \"bool\")]"
   ]
  },
  {
   "cell_type": "code",
   "execution_count": 249,
   "metadata": {
    "scrolled": true
   },
   "outputs": [
    {
     "ename": "TypeError",
     "evalue": "can only concatenate list (not \"int\") to list",
     "output_type": "error",
     "traceback": [
      "\u001b[1;31m---------------------------------------------------------------------------\u001b[0m",
      "\u001b[1;31mTypeError\u001b[0m                                 Traceback (most recent call last)",
      "\u001b[1;32m<ipython-input-249-3d7da25b4cbe>\u001b[0m in \u001b[0;36m<module>\u001b[1;34m()\u001b[0m\n\u001b[1;32m----> 1\u001b[1;33m \u001b[1;33m[\u001b[0m\u001b[1;36m1\u001b[0m\u001b[1;33m,\u001b[0m\u001b[1;36m2\u001b[0m\u001b[1;33m]\u001b[0m \u001b[1;33m+\u001b[0m \u001b[1;36m1\u001b[0m\u001b[1;33m\u001b[0m\u001b[0m\n\u001b[0m",
      "\u001b[1;31mTypeError\u001b[0m: can only concatenate list (not \"int\") to list"
     ]
    }
   ],
   "source": [
    "[1,2] + 1\n"
   ]
  },
  {
   "cell_type": "code",
   "execution_count": 251,
   "metadata": {
    "scrolled": true
   },
   "outputs": [
    {
     "data": {
      "text/plain": [
       "array([[ 3, 10, 18],\n",
       "       [14, 24, 36]])"
      ]
     },
     "execution_count": 251,
     "metadata": {},
     "output_type": "execute_result"
    }
   ],
   "source": [
    "np.array([[1,2,3],[2,3,4]]) * np.array([[3,5,6],[7,8,9]])"
   ]
  },
  {
   "cell_type": "code",
   "execution_count": 253,
   "metadata": {
    "scrolled": true
   },
   "outputs": [
    {
     "name": "stdout",
     "output_type": "stream",
     "text": [
      "10000 loops, best of 3: 71.4 µs per loop\n",
      "100 loops, best of 3: 2.28 ms per loop\n"
     ]
    }
   ],
   "source": [
    "%timeit np.arange(0, 100000, 3) + 1\n",
    "%timeit [i+1 for i in range(0, 100000, 3)]"
   ]
  },
  {
   "cell_type": "code",
   "execution_count": 255,
   "metadata": {
    "scrolled": true
   },
   "outputs": [
    {
     "name": "stdout",
     "output_type": "stream",
     "text": [
      "[  3  14  61 252]\n"
     ]
    }
   ],
   "source": [
    "j = np.array([1,2,3,4])\n",
    "a_j = 2**(2*j) - j\n",
    "print a_j"
   ]
  },
  {
   "cell_type": "code",
   "execution_count": 256,
   "metadata": {
    "collapsed": true
   },
   "outputs": [],
   "source": [
    "np.triu?"
   ]
  },
  {
   "cell_type": "code",
   "execution_count": 259,
   "metadata": {
    "collapsed": true
   },
   "outputs": [],
   "source": [
    "np.allclose?"
   ]
  },
  {
   "cell_type": "code",
   "execution_count": 258,
   "metadata": {
    "collapsed": true
   },
   "outputs": [],
   "source": [
    "np.tril?"
   ]
  },
  {
   "cell_type": "code",
   "execution_count": 263,
   "metadata": {
    "scrolled": false
   },
   "outputs": [
    {
     "name": "stdout",
     "output_type": "stream",
     "text": [
      "[0 0 0 0]\n",
      "[ 1  4  9 16]\n"
     ]
    }
   ],
   "source": [
    "k = np.array([1,2,3,4])\n",
    "print np.subtract(k,k)\n",
    "print np.multiply(k,k)"
   ]
  },
  {
   "cell_type": "code",
   "execution_count": 266,
   "metadata": {
    "collapsed": true
   },
   "outputs": [],
   "source": [
    "np.cumsum?\n"
   ]
  },
  {
   "cell_type": "code",
   "execution_count": 269,
   "metadata": {
    "scrolled": true
   },
   "outputs": [
    {
     "name": "stdout",
     "output_type": "stream",
     "text": [
      "[ 0 10 20 30]\n",
      "[[ 0]\n",
      " [10]\n",
      " [20]\n",
      " [30]]\n",
      "[[ 0 10 20 30]\n",
      " [10 20 30 40]\n",
      " [20 30 40 50]\n",
      " [30 40 50 60]]\n"
     ]
    }
   ],
   "source": [
    "a = np.arange(0, 40, 10)\n",
    "print a\n",
    "a.shape\n",
    "b = a[:, np.newaxis]  # adds a new axis -> 2D array\n",
    "b.shape\n",
    "print b\n",
    "\n",
    "print a + b\n"
   ]
  },
  {
   "cell_type": "code",
   "execution_count": 271,
   "metadata": {
    "collapsed": true
   },
   "outputs": [],
   "source": [
    "np.reshape?"
   ]
  },
  {
   "cell_type": "code",
   "execution_count": 273,
   "metadata": {
    "scrolled": true
   },
   "outputs": [
    {
     "data": {
      "text/plain": [
       "array([[2, 3, 4],\n",
       "       [3, 4, 5],\n",
       "       [4, 5, 6]])"
      ]
     },
     "execution_count": 273,
     "metadata": {},
     "output_type": "execute_result"
    }
   ],
   "source": [
    "a = np.array([[1,2,3],[1,2,3],[1,2,3]])\n",
    "a.T + a"
   ]
  },
  {
   "cell_type": "code",
   "execution_count": 276,
   "metadata": {
    "scrolled": true
   },
   "outputs": [
    {
     "name": "stdout",
     "output_type": "stream",
     "text": [
      "(4L, 3L, 2L)\n",
      "[[[ 0  1]\n",
      "  [ 2  3]\n",
      "  [ 4  5]]\n",
      "\n",
      " [[ 6  7]\n",
      "  [ 8  9]\n",
      "  [10 11]]\n",
      "\n",
      " [[12 13]\n",
      "  [14 15]\n",
      "  [16 17]]\n",
      "\n",
      " [[18 19]\n",
      "  [20 21]\n",
      "  [22 23]]]\n",
      "5\n",
      "(3L, 2L, 4L)\n",
      "[[[ 0  6 12 18]\n",
      "  [ 1  7 13 19]]\n",
      "\n",
      " [[ 2  8 14 20]\n",
      "  [ 3  9 15 21]]\n",
      "\n",
      " [[ 4 10 16 22]\n",
      "  [ 5 11 17 23]]]\n",
      "5\n"
     ]
    }
   ],
   "source": [
    "a = np.arange(4*3*2).reshape(4, 3, 2)\n",
    "print a.shape\n",
    "print a\n",
    "print a[0, 2, 1]\n",
    "b = a.transpose(1, 2, 0)\n",
    "print b.shape\n",
    "print b\n",
    "print b[2, 1, 0]"
   ]
  },
  {
   "cell_type": "code",
   "execution_count": 277,
   "metadata": {
    "collapsed": true
   },
   "outputs": [],
   "source": [
    "np.resize?"
   ]
  },
  {
   "cell_type": "code",
   "execution_count": 289,
   "metadata": {},
   "outputs": [],
   "source": [
    "np.ravel?"
   ]
  },
  {
   "cell_type": "code",
   "execution_count": 290,
   "metadata": {
    "collapsed": true
   },
   "outputs": [],
   "source": [
    "np.ndarray.flatten?"
   ]
  },
  {
   "cell_type": "code",
   "execution_count": 309,
   "metadata": {
    "collapsed": true
   },
   "outputs": [],
   "source": [
    "np.transpose?"
   ]
  },
  {
   "cell_type": "code",
   "execution_count": 308,
   "metadata": {
    "scrolled": true
   },
   "outputs": [
    {
     "name": "stdout",
     "output_type": "stream",
     "text": [
      "[[0 1 2]\n",
      " [3 4 5]\n",
      " [6 7 8]]\n"
     ]
    },
    {
     "ename": "AxisError",
     "evalue": "axis 2 is out of bounds for array of dimension 2",
     "output_type": "error",
     "traceback": [
      "\u001b[1;31m---------------------------------------------------------------------------\u001b[0m",
      "\u001b[1;31mAxisError\u001b[0m                                 Traceback (most recent call last)",
      "\u001b[1;32m<ipython-input-308-dd2c7b046900>\u001b[0m in \u001b[0;36m<module>\u001b[1;34m()\u001b[0m\n\u001b[0;32m      2\u001b[0m \u001b[1;32mprint\u001b[0m \u001b[0my\u001b[0m\u001b[1;33m\u001b[0m\u001b[0m\n\u001b[0;32m      3\u001b[0m \u001b[1;33m\u001b[0m\u001b[0m\n\u001b[1;32m----> 4\u001b[1;33m \u001b[1;32mprint\u001b[0m \u001b[0my\u001b[0m\u001b[1;33m.\u001b[0m\u001b[0mtranspose\u001b[0m\u001b[1;33m(\u001b[0m\u001b[1;36m1\u001b[0m\u001b[1;33m,\u001b[0m\u001b[1;36m2\u001b[0m\u001b[1;33m)\u001b[0m\u001b[1;33m\u001b[0m\u001b[0m\n\u001b[0m",
      "\u001b[1;31mAxisError\u001b[0m: axis 2 is out of bounds for array of dimension 2"
     ]
    }
   ],
   "source": [
    "y = np.array([i for i in range(9)]).reshape((3,3))\n",
    "print y\n",
    "\n",
    "print y.transpose(1,2)"
   ]
  },
  {
   "cell_type": "code",
   "execution_count": 310,
   "metadata": {
    "scrolled": true
   },
   "outputs": [
    {
     "name": "stdout",
     "output_type": "stream",
     "text": [
      "[[[ 1.  1.  1.]\n",
      "  [ 1.  1.  1.]]]\n",
      "[[[ 1.  1.  1.]]\n",
      "\n",
      " [[ 1.  1.  1.]]]\n"
     ]
    }
   ],
   "source": [
    "x= np.ones((1,2,3))\n",
    "print x\n",
    "print np.transpose(x, (1,0,2))"
   ]
  },
  {
   "cell_type": "code",
   "execution_count": 319,
   "metadata": {
    "scrolled": true
   },
   "outputs": [
    {
     "name": "stdout",
     "output_type": "stream",
     "text": [
      "[[  1 100   3]\n",
      " [  2   5   3]]\n",
      "[[  1   3 100]\n",
      " [  2   3   5]]\n",
      "[[  1 100   3]\n",
      " [  2   5   3]]\n",
      "[[  1   3 100]\n",
      " [  2   3   5]]\n"
     ]
    }
   ],
   "source": [
    "x = np.array([[1,100,3],[2,5,3]])\n",
    "print x\n",
    "print np.sort(x, axis = 1)\n",
    "print x\n",
    "x.sort(axis = 1)\n",
    "print x"
   ]
  },
  {
   "cell_type": "code",
   "execution_count": 327,
   "metadata": {
    "scrolled": true
   },
   "outputs": [
    {
     "name": "stdout",
     "output_type": "stream",
     "text": [
      "[[False False  True]\n",
      " [False  True  True]]\n",
      "False\n",
      "[['a' 'k' 'z']\n",
      " ['A' 'K' 'a']]\n",
      "False\n"
     ]
    },
    {
     "name": "stderr",
     "output_type": "stream",
     "text": [
      "C:\\Users\\Lenovo\\Anaconda2\\lib\\site-packages\\numpy\\core\\numeric.py:2604: FutureWarning: elementwise comparison failed; returning scalar instead, but in the future will perform elementwise comparison\n",
      "  return bool(asarray(a1 == a2).all())\n"
     ]
    }
   ],
   "source": [
    "o = np.array([[0, 1, 0],[0,1,1]], dtype = \"bool\")\n",
    "print np.sort(o, axis = 1)\n",
    "print np.array_equal(o, np.sort(o, axis = 1))\n",
    "\n",
    "o = np.array([['a', 'z', 'k'],['A','a','K']], dtype = \"string\")\n",
    "print np.sort(o, axis = 1)\n",
    "print np.array_equal(o, np.sort(x, axis = 1))"
   ]
  },
  {
   "cell_type": "code",
   "execution_count": 328,
   "metadata": {
    "collapsed": true
   },
   "outputs": [],
   "source": [
    "np.random.shuffle?"
   ]
  },
  {
   "cell_type": "code",
   "execution_count": 347,
   "metadata": {
    "scrolled": true
   },
   "outputs": [
    {
     "name": "stdout",
     "output_type": "stream",
     "text": [
      "[[0 2 0 0 0]\n",
      " [0 0 3 0 0]\n",
      " [0 0 0 5 0]\n",
      " [0 0 0 0 6]\n",
      " [0 0 0 0 0]]\n",
      "[[0 0 0 0 6]\n",
      " [0 0 0 5 0]\n",
      " [0 2 0 0 0]\n",
      " [0 0 3 0 0]\n",
      " [0 0 0 0 0]]\n"
     ]
    }
   ],
   "source": [
    "a = np.diag(np.array([2,3,5,6]), 1)\n",
    "print a\n",
    "np.random.shuffle(a)\n",
    "print a"
   ]
  },
  {
   "cell_type": "code",
   "execution_count": 380,
   "metadata": {},
   "outputs": [
    {
     "name": "stdout",
     "output_type": "stream",
     "text": [
      "[[ 0.53462084  0.49793755  0.26357631  0.97800413]\n",
      " [ 0.72174369  0.7150267   0.50775209  0.98902444]]\n",
      "[[ 0.53462084  0.49793755  0.26357631  0.97800413]\n",
      " [ 0.72174369  0.7150267   0.50775209  0.98902444]]\n"
     ]
    }
   ],
   "source": [
    "b = np.random.rand(2,4)\n",
    "print b\n",
    "\n",
    "c = b.ravel().reshape(8,1)\n",
    "# print c\n",
    "# c.sort(axis = 1)\n",
    "# print c\n",
    "b.ravel().reshape(8,1).sort(axis = 1)\n",
    "print b"
   ]
  },
  {
   "cell_type": "code",
   "execution_count": 386,
   "metadata": {},
   "outputs": [
    {
     "name": "stdout",
     "output_type": "stream",
     "text": [
      "[ 1  2 34  1  2 34]\n",
      "[ 1  2 34  0  0  0]\n"
     ]
    }
   ],
   "source": [
    "a = np.array([1,2,34])\n",
    "print np.resize(a, 6)\n",
    "a.resize(6)\n",
    "print a"
   ]
  },
  {
   "cell_type": "code",
   "execution_count": 382,
   "metadata": {
    "collapsed": true
   },
   "outputs": [],
   "source": [
    "np.resize?"
   ]
  }
 ],
 "metadata": {
  "kernelspec": {
   "display_name": "Python 2",
   "language": "python",
   "name": "python2"
  },
  "language_info": {
   "codemirror_mode": {
    "name": "ipython",
    "version": 2
   },
   "file_extension": ".py",
   "mimetype": "text/x-python",
   "name": "python",
   "nbconvert_exporter": "python",
   "pygments_lexer": "ipython2",
   "version": "2.7.14"
  }
 },
 "nbformat": 4,
 "nbformat_minor": 2
}
