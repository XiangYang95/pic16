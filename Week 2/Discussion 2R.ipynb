{
 "cells": [
  {
   "cell_type": "markdown",
   "metadata": {},
   "source": [
    "# PIC 16 - Discussion 2R\n",
    "# 01/18/2018 Thursday"
   ]
  },
  {
   "cell_type": "markdown",
   "metadata": {},
   "source": [
    "# MS 2330\n",
    "# T 12 - 1\n",
    "# R 1 - 2"
   ]
  },
  {
   "cell_type": "markdown",
   "metadata": {},
   "source": [
    "# Questions in the last discussion"
   ]
  },
  {
   "cell_type": "code",
   "execution_count": 2,
   "metadata": {
    "collapsed": true
   },
   "outputs": [],
   "source": [
    "dic = {\"PIC 16\": 1, \"Hello\": 2, \"MATH 1\": 3, \"aaa\": 4, \"efee\": 5}"
   ]
  },
  {
   "cell_type": "code",
   "execution_count": 3,
   "metadata": {},
   "outputs": [
    {
     "name": "stdout",
     "output_type": "stream",
     "text": [
      "PIC 16 : 1\n",
      "aaa : 4\n",
      "Hello : 2\n",
      "efee : 5\n",
      "MATH 1 : 3\n",
      "\n",
      "PIC 16 : 1\n",
      "Hello : 2\n",
      "MATH 1 : 3\n",
      "aaa : 4\n",
      "efee : 5\n"
     ]
    }
   ],
   "source": [
    "for key in dic:\n",
    "    print key,\":\",dic[key]\n",
    "\n",
    "print\n",
    "\n",
    "# This is how you sort the dictionary\n",
    "for key in sorted(dic, key=dic.__getitem__):\n",
    "    print key,\":\",dic[key]"
   ]
  },
  {
   "cell_type": "code",
   "execution_count": 4,
   "metadata": {},
   "outputs": [
    {
     "name": "stdout",
     "output_type": "stream",
     "text": [
      "PIC 16: 1989161435\n",
      "Hello: 1127225053\n",
      "MATH 1: 37225821\n",
      "aaa: -1599925404\n",
      "efee: 1980679899\n",
      "\n",
      "[37225821, 1127225053, -1599925404, 1980679899, 1989161435]\n"
     ]
    }
   ],
   "source": [
    "print \"PIC 16:\", hash(\"PIC 16\")\n",
    "print \"Hello:\", hash(\"Hello\")\n",
    "print \"MATH 1:\", hash(\"MATH 1\")\n",
    "print \"aaa:\", hash(\"aaa\")\n",
    "print \"efee:\", hash(\"efee\")\n",
    "\n",
    "print \n",
    "\n",
    "sort_dic = map(hash, [\"PIC 16\", \"Hello\", \"MATH 1\", \"aaa\", \"efee\"])\n",
    "\n",
    "print sorted(sort_dic, key = lambda x: abs(x))"
   ]
  },
  {
   "cell_type": "code",
   "execution_count": 5,
   "metadata": {},
   "outputs": [
    {
     "name": "stdout",
     "output_type": "stream",
     "text": [
      "4db1a0851414775fc1f16255c45dcd4a\n",
      "8b1a9953c4611296a827abf8c47804d7\n",
      "65571aa0536447fb1cf47a2b5a98954b\n",
      "47bce5c74f589f4867dbd57e9ca9f808\n",
      "ffc9f11de71bfa4ae448b31b085a33b9\n"
     ]
    }
   ],
   "source": [
    "import hashlib\n",
    "print hashlib.md5('PIC 16').hexdigest()\n",
    "print hashlib.md5('Hello').hexdigest()\n",
    "print hashlib.md5('MATH').hexdigest()\n",
    "print hashlib.md5('aaa').hexdigest()\n",
    "print hashlib.md5('efee').hexdigest()"
   ]
  },
  {
   "cell_type": "markdown",
   "metadata": {},
   "source": [
    "---\n",
    "## List Comprehension"
   ]
  },
  {
   "cell_type": "code",
   "execution_count": 6,
   "metadata": {},
   "outputs": [
    {
     "name": "stdout",
     "output_type": "stream",
     "text": [
      "[1, 9, 25]\n"
     ]
    }
   ],
   "source": [
    "numbers = [1,2,3,4,5]\n",
    "\n",
    "a = []\n",
    "for n in numbers:\n",
    "    if n % 2 == 1:\n",
    "        a.append(n ** 2)\n",
    "\n",
    "print a"
   ]
  },
  {
   "cell_type": "code",
   "execution_count": 7,
   "metadata": {},
   "outputs": [
    {
     "name": "stdout",
     "output_type": "stream",
     "text": [
      "[1, 9, 25]\n"
     ]
    }
   ],
   "source": [
    "a = map(lambda n: n ** 2, filter(lambda n: n % 2 == 1, numbers))\n",
    "print a"
   ]
  },
  {
   "cell_type": "code",
   "execution_count": 8,
   "metadata": {},
   "outputs": [
    {
     "name": "stdout",
     "output_type": "stream",
     "text": [
      "[1, 9, 25]\n"
     ]
    }
   ],
   "source": [
    "a = [n ** 2 for n in numbers if n % 2 == 1]\n",
    "print a"
   ]
  },
  {
   "cell_type": "code",
   "execution_count": 9,
   "metadata": {},
   "outputs": [
    {
     "name": "stdout",
     "output_type": "stream",
     "text": [
      "[('red', 'car'), ('red', 'pen'), ('red', 'desk'), ('red', 'chair'), ('blue', 'car'), ('blue', 'pen'), ('blue', 'desk'), ('blue', 'chair'), ('green', 'car'), ('green', 'pen'), ('green', 'desk'), ('green', 'chair')]\n"
     ]
    }
   ],
   "source": [
    "colors = [\"red\", \"blue\", \"green\"]\n",
    "objects = [\"car\", \"pen\", \"desk\", \"chair\"]\n",
    "\n",
    "arr = []\n",
    "\n",
    "for color in colors:\n",
    "    for object in objects:\n",
    "        arr.append((color, object))\n",
    "        \n",
    "print arr"
   ]
  },
  {
   "cell_type": "code",
   "execution_count": 10,
   "metadata": {
    "scrolled": true
   },
   "outputs": [
    {
     "name": "stdout",
     "output_type": "stream",
     "text": [
      "[('red', 'car'), ('red', 'pen'), ('red', 'desk'), ('red', 'chair'), ('blue', 'car'), ('blue', 'pen'), ('blue', 'desk'), ('blue', 'chair'), ('green', 'car'), ('green', 'pen'), ('green', 'desk'), ('green', 'chair')]\n"
     ]
    }
   ],
   "source": [
    "print [(color, obj) for color in colors for obj in objects]"
   ]
  },
  {
   "cell_type": "markdown",
   "metadata": {},
   "source": [
    "## Problem\n",
    "\n",
    "Make list comprehension that creates the Pythagorean triples\n",
    "\n",
    "Output\n",
    "```\n",
    "(3, 4, 5), (5, 12, 13), (6, 8, 10), ...\n",
    "```\n",
    "All values are from 1 to 30"
   ]
  },
  {
   "cell_type": "code",
   "execution_count": 16,
   "metadata": {
    "scrolled": true
   },
   "outputs": [
    {
     "name": "stdout",
     "output_type": "stream",
     "text": [
      "[5, 10, 17, 26, 37, 50, 65, 82, 101, 122, 145, 170, 197, 226, 257, 290, 325, 362, 401, 442, 485, 530, 577, 626, 677, 730, 785, 842, 901, 13, 20, 29, 40, 53, 68, 85, 104, 125, 148, 173, 200, 229, 260, 293, 328, 365, 404, 445, 488, 533, 580, 629, 680, 733, 788, 845, 904, 25, 34, 45, 58, 73, 90, 109, 130, 153, 178, 205, 234, 265, 298, 333, 370, 409, 450, 493, 538, 585, 634, 685, 738, 793, 850, 909, 41, 52, 65, 80, 97, 116, 137, 160, 185, 212, 241, 272, 305, 340, 377, 416, 457, 500, 545, 592, 641, 692, 745, 800, 857, 916, 61, 74, 89, 106, 125, 146, 169, 194, 221, 250, 281, 314, 349, 386, 425, 466, 509, 554, 601, 650, 701, 754, 809, 866, 925, 85, 100, 117, 136, 157, 180, 205, 232, 261, 292, 325, 360, 397, 436, 477, 520, 565, 612, 661, 712, 765, 820, 877, 936, 113, 130, 149, 170, 193, 218, 245, 274, 305, 338, 373, 410, 449, 490, 533, 578, 625, 674, 725, 778, 833, 890, 949, 145, 164, 185, 208, 233, 260, 289, 320, 353, 388, 425, 464, 505, 548, 593, 640, 689, 740, 793, 848, 905, 964, 181, 202, 225, 250, 277, 306, 337, 370, 405, 442, 481, 522, 565, 610, 657, 706, 757, 810, 865, 922, 981, 221, 244, 269, 296, 325, 356, 389, 424, 461, 500, 541, 584, 629, 676, 725, 776, 829, 884, 941, 1000, 265, 290, 317, 346, 377, 410, 445, 482, 521, 562, 605, 650, 697, 746, 797, 850, 905, 962, 1021, 313, 340, 369, 400, 433, 468, 505, 544, 585, 628, 673, 720, 769, 820, 873, 928, 985, 1044, 365, 394, 425, 458, 493, 530, 569, 610, 653, 698, 745, 794, 845, 898, 953, 1010, 1069, 421, 452, 485, 520, 557, 596, 637, 680, 725, 772, 821, 872, 925, 980, 1037, 1096, 481, 514, 549, 586, 625, 666, 709, 754, 801, 850, 901, 954, 1009, 1066, 1125, 545, 580, 617, 656, 697, 740, 785, 832, 881, 932, 985, 1040, 1097, 1156, 613, 650, 689, 730, 773, 818, 865, 914, 965, 1018, 1073, 1130, 1189, 685, 724, 765, 808, 853, 900, 949, 1000, 1053, 1108, 1165, 1224, 761, 802, 845, 890, 937, 986, 1037, 1090, 1145, 1202, 1261, 841, 884, 929, 976, 1025, 1076, 1129, 1184, 1241, 1300, 925, 970, 1017, 1066, 1117, 1170, 1225, 1282, 1341, 1013, 1060, 1109, 1160, 1213, 1268, 1325, 1384, 1105, 1154, 1205, 1258, 1313, 1370, 1429, 1201, 1252, 1305, 1360, 1417, 1476, 1301, 1354, 1409, 1466, 1525, 1405, 1460, 1517, 1576, 1513, 1570, 1629, 1625, 1684, 1741]\n"
     ]
    }
   ],
   "source": [
    "b = []\n",
    "for i in range(1,31):\n",
    "    for j in range(i+1,31):\n",
    "        if isinstance(i**2+j**2, int):\n",
    "            b.append(i**2+j**2)\n",
    "            \n",
    "print b"
   ]
  },
  {
   "cell_type": "code",
   "execution_count": 19,
   "metadata": {},
   "outputs": [
    {
     "data": {
      "text/plain": [
       "[(3, 4, 5),\n",
       " (5, 12, 13),\n",
       " (6, 8, 10),\n",
       " (7, 24, 25),\n",
       " (8, 15, 17),\n",
       " (9, 12, 15),\n",
       " (10, 24, 26),\n",
       " (12, 16, 20),\n",
       " (15, 20, 25),\n",
       " (18, 24, 30),\n",
       " (20, 21, 29)]"
      ]
     },
     "execution_count": 19,
     "metadata": {},
     "output_type": "execute_result"
    }
   ],
   "source": [
    "[(a,b,c) for a in range(1,31) for b in range (a,31) for c in range (b,31) if a**2 + b**2 == c**2]"
   ]
  },
  {
   "cell_type": "markdown",
   "metadata": {},
   "source": [
    "## Problem\n",
    "\n",
    "Make list comprehension that creates a list of primes\n",
    "\n",
    "Output: \n",
    "```\n",
    "2, 3, 5, 7, ... , 97\n",
    "```\n",
    "\n",
    "Hint: Eliminate non primes"
   ]
  },
  {
   "cell_type": "code",
   "execution_count": 22,
   "metadata": {},
   "outputs": [
    {
     "name": "stdout",
     "output_type": "stream",
     "text": [
      "[1, 2, 3, 4, 5, 6, 7, 8, 9, 10, 11, 12, 13, 14, 15, 16, 17, 18, 19, 20, 21, 22, 23, 24, 25, 26, 27, 28, 29, 30, 31, 32, 33, 34, 35, 36, 37, 38, 39, 40, 41, 42, 43, 44, 45, 46, 47, 48, 49, 50, 51, 52, 53, 54, 55, 56, 57, 58, 59, 60, 61, 62, 63, 64, 65, 66, 67, 68, 69, 70, 71, 72, 73, 74, 75, 76, 77, 78, 79, 80, 81, 82, 83, 84, 85, 86, 87, 88, 89, 90, 91, 92, 93, 94, 95, 96, 97, 98, 99]\n"
     ]
    }
   ],
   "source": [
    "a = range(1,100)\n",
    "print a\n"
   ]
  },
  {
   "cell_type": "code",
   "execution_count": 24,
   "metadata": {},
   "outputs": [],
   "source": [
    "nonprimes = [j for i in range(2,8) for j in range(i*2, 101, i)]\n",
    "\n",
    "primes = [i for i in range(2,101) if i not in nonprimes]"
   ]
  },
  {
   "cell_type": "markdown",
   "metadata": {},
   "source": [
    "---\n",
    "## Map"
   ]
  },
  {
   "cell_type": "code",
   "execution_count": 25,
   "metadata": {},
   "outputs": [
    {
     "name": "stdout",
     "output_type": "stream",
     "text": [
      "[3, 4, 5, 6, 7, 8]\n",
      "[3, 6, 9, 12, 15, 18]\n"
     ]
    }
   ],
   "source": [
    "def add_by_2(n):\n",
    "    return n + 2\n",
    "\n",
    "def multiply_by_3(n):\n",
    "    return n * 3\n",
    "\n",
    "numbers = [1,2,3,4,5,6]\n",
    "\n",
    "add = map(add_by_2, numbers)\n",
    "mul = map(multiply_by_3, numbers)\n",
    "\n",
    "print add\n",
    "print mul"
   ]
  },
  {
   "cell_type": "code",
   "execution_count": 26,
   "metadata": {
    "collapsed": true
   },
   "outputs": [],
   "source": [
    "a = [1,2,3,4,5]\n",
    "b = [16,13,23,62,1]\n",
    "c = [17,15,26,66,6]"
   ]
  },
  {
   "cell_type": "code",
   "execution_count": 27,
   "metadata": {},
   "outputs": [
    {
     "name": "stdout",
     "output_type": "stream",
     "text": [
      "[-15, -11, -20, -58, 4]\n"
     ]
    }
   ],
   "source": [
    "a_minus_b = map(lambda x,y: x-y, a,b)\n",
    "print a_minus_b"
   ]
  },
  {
   "cell_type": "markdown",
   "metadata": {},
   "source": [
    "## Problem\n",
    "\n",
    "Do the same thing with lambda"
   ]
  },
  {
   "cell_type": "code",
   "execution_count": 28,
   "metadata": {},
   "outputs": [
    {
     "name": "stdout",
     "output_type": "stream",
     "text": [
      "[3, 4, 5, 6, 7, 8]\n",
      "[3, 6, 9, 12, 15, 18]\n"
     ]
    }
   ],
   "source": [
    "numbers = [1,2,3,4,5,6]\n",
    "add = map(lambda x: x+2, numbers)\n",
    "mul = map(lambda x: x*3, numbers)\n",
    "\n",
    "print add\n",
    "print mul"
   ]
  },
  {
   "cell_type": "markdown",
   "metadata": {},
   "source": [
    "## Problem\n",
    "\n",
    "Create a list for **a + b - c** using map"
   ]
  },
  {
   "cell_type": "code",
   "execution_count": 29,
   "metadata": {},
   "outputs": [
    {
     "name": "stdout",
     "output_type": "stream",
     "text": [
      "[5, 12, 6, 60, -10]\n"
     ]
    }
   ],
   "source": [
    "a = [1,2,3,4,5]\n",
    "b = [16,13,23,62,1]\n",
    "c = [12,3,20,6,16]\n",
    "\n",
    "ans = map(lambda x, y, z: x+y-z, a, b, c)\n",
    "print ans"
   ]
  },
  {
   "cell_type": "markdown",
   "metadata": {},
   "source": [
    "---\n",
    "## Filters"
   ]
  },
  {
   "cell_type": "code",
   "execution_count": 30,
   "metadata": {},
   "outputs": [
    {
     "name": "stdout",
     "output_type": "stream",
     "text": [
      "[0, 1, 2, 3, 4, 5, 6, 7, 8, 9, 10, 11, 12, 13, 14, 15, 16, 17, 18, 19, 20, 21, 22, 23, 24, 25, 26, 27, 28, 29, 30, 31, 32, 33, 34, 35, 36, 37, 38, 39, 40, 41, 42, 43, 44, 45, 46, 47, 48, 49, 50, 51, 52, 53, 54, 55, 56, 57, 58, 59, 60, 61, 62, 63, 64, 65, 66, 67, 68, 69, 70, 71, 72, 73, 74, 75, 76, 77, 78, 79, 80, 81, 82, 83, 84, 85, 86, 87, 88, 89, 90, 91, 92, 93, 94, 95, 96, 97, 98, 99]\n"
     ]
    }
   ],
   "source": [
    "numbers = range(100)\n",
    "print numbers"
   ]
  },
  {
   "cell_type": "code",
   "execution_count": 31,
   "metadata": {},
   "outputs": [
    {
     "name": "stdout",
     "output_type": "stream",
     "text": [
      "[1, 3, 5, 7, 9, 11, 13, 15, 17, 19, 21, 23, 25, 27, 29, 31, 33, 35, 37, 39, 41, 43, 45, 47, 49, 51, 53, 55, 57, 59, 61, 63, 65, 67, 69, 71, 73, 75, 77, 79, 81, 83, 85, 87, 89, 91, 93, 95, 97, 99]\n"
     ]
    }
   ],
   "source": [
    "odd = filter(lambda x: x % 2, numbers)\n",
    "print odd"
   ]
  },
  {
   "cell_type": "code",
   "execution_count": 32,
   "metadata": {},
   "outputs": [
    {
     "name": "stdout",
     "output_type": "stream",
     "text": [
      "[1, 3, 5, 7, 9, 11, 13, 15, 17, 19, 21, 23, 25, 27, 29, 31, 33, 35, 37, 39, 41, 43, 45, 47, 49, 51, 53, 55, 57, 59, 61, 63, 65, 67, 69, 71, 73, 75, 77, 79, 81, 83, 85, 87, 89, 91, 93, 95, 97, 99]\n"
     ]
    }
   ],
   "source": [
    "odd = filter(lambda x: x % 2 != 0, numbers)\n",
    "print odd"
   ]
  },
  {
   "cell_type": "markdown",
   "metadata": {},
   "source": [
    "## Problem\n",
    "\n",
    "Create a list of even numbers using filter"
   ]
  },
  {
   "cell_type": "code",
   "execution_count": 33,
   "metadata": {
    "scrolled": true
   },
   "outputs": [
    {
     "name": "stdout",
     "output_type": "stream",
     "text": [
      "[0, 2, 4, 6, 8, 10, 12, 14, 16, 18, 20, 22, 24, 26, 28, 30, 32, 34, 36, 38, 40, 42, 44, 46, 48, 50, 52, 54, 56, 58, 60, 62, 64, 66, 68, 70, 72, 74, 76, 78, 80, 82, 84, 86, 88, 90, 92, 94, 96, 98]\n"
     ]
    }
   ],
   "source": [
    "even = filter(lambda x: x%2 == 0, numbers)\n",
    "print even"
   ]
  },
  {
   "cell_type": "markdown",
   "metadata": {},
   "source": [
    "## Problem\n",
    "\n",
    "Filters out multiples of 3 and 5\n",
    "\n",
    "Output\n",
    "\n",
    "```\n",
    "1, 2, 4, 7, 8, 11, ...\n",
    "```"
   ]
  },
  {
   "cell_type": "code",
   "execution_count": 35,
   "metadata": {},
   "outputs": [
    {
     "name": "stdout",
     "output_type": "stream",
     "text": [
      "[1, 2, 4, 7, 8, 11, 13, 14, 16, 17, 19, 22, 23, 26, 28, 29, 31, 32, 34, 37, 38, 41, 43, 44, 46, 47, 49, 52, 53, 56, 58, 59, 61, 62, 64, 67, 68, 71, 73, 74, 76, 77, 79, 82, 83, 86, 88, 89, 91, 92, 94, 97, 98]\n"
     ]
    }
   ],
   "source": [
    "numbers = range(100)\n",
    "\n",
    "num = filter(lambda x: x%3 and x%5, numbers)\n",
    "print num"
   ]
  },
  {
   "cell_type": "markdown",
   "metadata": {},
   "source": [
    "---\n",
    "## Reduce\n",
    "\n",
    "**Reduce** returns a single value"
   ]
  },
  {
   "cell_type": "code",
   "execution_count": 36,
   "metadata": {
    "collapsed": true
   },
   "outputs": [],
   "source": [
    "arr = [47,11,42,13]"
   ]
  },
  {
   "cell_type": "code",
   "execution_count": 37,
   "metadata": {},
   "outputs": [
    {
     "data": {
      "text/plain": [
       "113"
      ]
     },
     "execution_count": 37,
     "metadata": {},
     "output_type": "execute_result"
    }
   ],
   "source": [
    "reduce(lambda x,y: x+y, arr)"
   ]
  },
  {
   "cell_type": "code",
   "execution_count": 38,
   "metadata": {},
   "outputs": [
    {
     "data": {
      "text/plain": [
       "-19"
      ]
     },
     "execution_count": 38,
     "metadata": {},
     "output_type": "execute_result"
    }
   ],
   "source": [
    "reduce(lambda x,y: x-y, arr)"
   ]
  },
  {
   "cell_type": "code",
   "execution_count": 39,
   "metadata": {},
   "outputs": [
    {
     "name": "stdout",
     "output_type": "stream",
     "text": [
      "-19\n"
     ]
    }
   ],
   "source": [
    "ans = arr[0]\n",
    "for i in range(1,4):\n",
    "    ans -= arr[i]\n",
    "    \n",
    "print ans"
   ]
  },
  {
   "cell_type": "markdown",
   "metadata": {},
   "source": [
    "## Problem\n",
    "\n",
    "Use reduce to add from 1 through 100\n",
    "\n",
    "Use reduce to multiply from 1 through 100"
   ]
  },
  {
   "cell_type": "code",
   "execution_count": 40,
   "metadata": {},
   "outputs": [
    {
     "data": {
      "text/plain": [
       "5050"
      ]
     },
     "execution_count": 40,
     "metadata": {},
     "output_type": "execute_result"
    }
   ],
   "source": [
    "reduce(lambda x,y:x+y, range(1,101))"
   ]
  },
  {
   "cell_type": "code",
   "execution_count": 44,
   "metadata": {},
   "outputs": [
    {
     "name": "stdout",
     "output_type": "stream",
     "text": [
      "5051\n"
     ]
    }
   ],
   "source": [
    "arr = range(1,101)\n",
    "ans = arr[0]\n",
    "for i in range(1,101):\n",
    "    ans += i\n",
    "    \n",
    "print ans"
   ]
  },
  {
   "cell_type": "code",
   "execution_count": 41,
   "metadata": {},
   "outputs": [
    {
     "data": {
      "text/plain": [
       "93326215443944152681699238856266700490715968264381621468592963895217599993229915608941463976156518286253697920827223758251185210916864000000000000000000000000L"
      ]
     },
     "execution_count": 41,
     "metadata": {},
     "output_type": "execute_result"
    }
   ],
   "source": [
    "reduce(lambda x,y:x*y, range(1,101))"
   ]
  },
  {
   "cell_type": "markdown",
   "metadata": {},
   "source": [
    "## Problem\n",
    "\n",
    "Complete the **max_function** so that the output is **47**."
   ]
  },
  {
   "cell_type": "code",
   "execution_count": 45,
   "metadata": {},
   "outputs": [
    {
     "name": "stdout",
     "output_type": "stream",
     "text": [
      "47\n"
     ]
    }
   ],
   "source": [
    "arr = [47,11,42,13]\n",
    "\n",
    "# Finding max\n",
    "def max_function(x, y):\n",
    "    if x>y:\n",
    "        return x\n",
    "    \n",
    "# Don't modify below\n",
    "result = reduce(max_function, arr)\n",
    "print result"
   ]
  },
  {
   "cell_type": "markdown",
   "metadata": {},
   "source": [
    "## Problem\n",
    "\n",
    "Do the same thing with reduce and lambda"
   ]
  },
  {
   "cell_type": "code",
   "execution_count": 52,
   "metadata": {},
   "outputs": [
    {
     "name": "stdout",
     "output_type": "stream",
     "text": [
      "47\n"
     ]
    }
   ],
   "source": [
    "result = reduce(lambda x,y: x if x>y else y, arr)\n",
    "print result"
   ]
  },
  {
   "cell_type": "code",
   "execution_count": null,
   "metadata": {
    "collapsed": true
   },
   "outputs": [],
   "source": []
  }
 ],
 "metadata": {
  "anaconda-cloud": {},
  "kernelspec": {
   "display_name": "Python 2",
   "language": "python",
   "name": "python2"
  },
  "language_info": {
   "codemirror_mode": {
    "name": "ipython",
    "version": 2
   },
   "file_extension": ".py",
   "mimetype": "text/x-python",
   "name": "python",
   "nbconvert_exporter": "python",
   "pygments_lexer": "ipython2",
   "version": "2.7.14"
  }
 },
 "nbformat": 4,
 "nbformat_minor": 1
}
