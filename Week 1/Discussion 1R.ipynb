{
 "cells": [
  {
   "cell_type": "markdown",
   "metadata": {},
   "source": [
    "# PIC 16: Python with Applications\n",
    "# Discussion 2R\n",
    "# 01/11/2018 Thursday"
   ]
  },
  {
   "cell_type": "markdown",
   "metadata": {},
   "source": [
    "---\n",
    "## Problem\n",
    "\n",
    "Print the length of **x** and **y**"
   ]
  },
  {
   "cell_type": "code",
   "execution_count": 3,
   "metadata": {},
   "outputs": [
    {
     "name": "stdout",
     "output_type": "stream",
     "text": [
      "5\n",
      "7\n"
     ]
    }
   ],
   "source": [
    "x = \"hello\"\n",
    "y = [0,1,2,3,4,5,6]\n",
    "\n",
    "# Write your codes here\n",
    "print len(x)\n",
    "print len(y)"
   ]
  },
  {
   "cell_type": "markdown",
   "metadata": {},
   "source": [
    "## Problem\n",
    "\n",
    "Calculate $9^3$."
   ]
  },
  {
   "cell_type": "code",
   "execution_count": 4,
   "metadata": {},
   "outputs": [
    {
     "name": "stdout",
     "output_type": "stream",
     "text": [
      "729\n"
     ]
    }
   ],
   "source": [
    "# Write your codes here\n",
    "print 9**3"
   ]
  },
  {
   "cell_type": "markdown",
   "metadata": {},
   "source": [
    "## Python Strings Are Immutable (Bool, Int, Float, Tupl)"
   ]
  },
  {
   "cell_type": "code",
   "execution_count": 5,
   "metadata": {},
   "outputs": [
    {
     "name": "stdout",
     "output_type": "stream",
     "text": [
      "hello world\n"
     ]
    }
   ],
   "source": [
    "s = \"hello world\"\n",
    "\n",
    "print s"
   ]
  },
  {
   "cell_type": "code",
   "execution_count": 6,
   "metadata": {},
   "outputs": [
    {
     "ename": "TypeError",
     "evalue": "'str' object does not support item assignment",
     "output_type": "error",
     "traceback": [
      "\u001b[1;31m---------------------------------------------------------------------------\u001b[0m",
      "\u001b[1;31mTypeError\u001b[0m                                 Traceback (most recent call last)",
      "\u001b[1;32m<ipython-input-6-611af53651d1>\u001b[0m in \u001b[0;36m<module>\u001b[1;34m()\u001b[0m\n\u001b[1;32m----> 1\u001b[1;33m \u001b[0ms\u001b[0m\u001b[1;33m[\u001b[0m\u001b[1;36m0\u001b[0m\u001b[1;33m]\u001b[0m \u001b[1;33m=\u001b[0m \u001b[1;34m\"b\"\u001b[0m\u001b[1;33m\u001b[0m\u001b[0m\n\u001b[0m\u001b[0;32m      2\u001b[0m \u001b[1;33m\u001b[0m\u001b[0m\n\u001b[0;32m      3\u001b[0m \u001b[1;32mprint\u001b[0m \u001b[0ms\u001b[0m\u001b[1;33m\u001b[0m\u001b[0m\n",
      "\u001b[1;31mTypeError\u001b[0m: 'str' object does not support item assignment"
     ]
    }
   ],
   "source": [
    "s[0] = \"b\"\n",
    "\n",
    "print s"
   ]
  },
  {
   "cell_type": "code",
   "execution_count": 7,
   "metadata": {},
   "outputs": [
    {
     "name": "stdout",
     "output_type": "stream",
     "text": [
      "bello world\n"
     ]
    }
   ],
   "source": [
    "new_s = \"b\" + s[1:]\n",
    "\n",
    "print new_s"
   ]
  },
  {
   "cell_type": "markdown",
   "metadata": {},
   "source": [
    "## Python Lists are Mutable (Dict)"
   ]
  },
  {
   "cell_type": "code",
   "execution_count": 8,
   "metadata": {},
   "outputs": [
    {
     "name": "stdout",
     "output_type": "stream",
     "text": [
      "[1, 2, 3, 4]\n"
     ]
    }
   ],
   "source": [
    "s = [1,2,3,4]\n",
    "\n",
    "print s"
   ]
  },
  {
   "cell_type": "code",
   "execution_count": 9,
   "metadata": {},
   "outputs": [
    {
     "name": "stdout",
     "output_type": "stream",
     "text": [
      "[0, 2, 3, 4]\n"
     ]
    }
   ],
   "source": [
    "s[0] = 0\n",
    "\n",
    "print s"
   ]
  },
  {
   "cell_type": "code",
   "execution_count": 10,
   "metadata": {},
   "outputs": [
    {
     "name": "stdout",
     "output_type": "stream",
     "text": [
      "[1, 2, 3, 'b', 'e']\n"
     ]
    }
   ],
   "source": [
    "x = [1,2,3, 'b', 'e']\n",
    "\n",
    "print x"
   ]
  },
  {
   "cell_type": "markdown",
   "metadata": {},
   "source": [
    "## Problem\n",
    "\n",
    "Print **12** through **22** using **range** function"
   ]
  },
  {
   "cell_type": "code",
   "execution_count": 19,
   "metadata": {},
   "outputs": [
    {
     "name": "stdout",
     "output_type": "stream",
     "text": [
      "[22, 21, 20, 19, 18, 17, 16, 15, 14, 13, 12, 11]\n"
     ]
    }
   ],
   "source": [
    "# Write your codes here\n",
    "print range(22,10,-1)"
   ]
  },
  {
   "cell_type": "markdown",
   "metadata": {},
   "source": [
    "## Problem\n",
    "Print **1** through **10** using **for loop**."
   ]
  },
  {
   "cell_type": "code",
   "execution_count": 20,
   "metadata": {},
   "outputs": [
    {
     "name": "stdout",
     "output_type": "stream",
     "text": [
      "1\n",
      "2\n",
      "3\n",
      "4\n",
      "5\n",
      "6\n",
      "7\n",
      "8\n",
      "9\n",
      "10\n"
     ]
    }
   ],
   "source": [
    "# Write your codes here\n",
    "for i in range(1,11):\n",
    "    print i"
   ]
  },
  {
   "cell_type": "markdown",
   "metadata": {},
   "source": [
    "\n",
    "## Problem\n",
    "\n",
    "Slice **x** and print the following outputs\n",
    "\n",
    "```\n",
    "hello\n",
    "world\n",
    "llo\n",
    "rld\n",
    "```"
   ]
  },
  {
   "cell_type": "code",
   "execution_count": 27,
   "metadata": {},
   "outputs": [
    {
     "name": "stdout",
     "output_type": "stream",
     "text": [
      "hello\n",
      "world\n",
      "llo\n",
      "rld\n"
     ]
    }
   ],
   "source": [
    "x = \"hello world\"\n",
    "\n",
    "# Write your codes here\n",
    "print x[:5]\n",
    "print x[-5:]\n",
    "print x[2:5]\n",
    "print x[-3:]"
   ]
  },
  {
   "cell_type": "markdown",
   "metadata": {},
   "source": [
    "## Problem\n",
    "\n",
    "Print **Siggi's Icelandic \"skyr\"**\n",
    "\n",
    "Output:\n",
    "```\n",
    "Siggi's Icelandic \"skyr\"\n",
    "```"
   ]
  },
  {
   "cell_type": "code",
   "execution_count": 25,
   "metadata": {},
   "outputs": [
    {
     "name": "stdout",
     "output_type": "stream",
     "text": [
      "Siggi's Icelandic \"skyr\"\n"
     ]
    }
   ],
   "source": [
    "# Write your codes here\n",
    "print 'Siggi\\'s Icelandic \"skyr\"'"
   ]
  },
  {
   "cell_type": "markdown",
   "metadata": {
    "collapsed": true
   },
   "source": [
    "## Problem\n",
    "\n",
    "Modify the code below to print\n",
    "\n",
    "```\n",
    "a: [0,1,2,3,4]\n",
    "b: [10,1,2,3,4]\n",
    "```"
   ]
  },
  {
   "cell_type": "code",
   "execution_count": 26,
   "metadata": {},
   "outputs": [
    {
     "name": "stdout",
     "output_type": "stream",
     "text": [
      "a: [0, 1, 2, 3, 4]\n",
      "b: [10, 1, 2, 3, 4]\n"
     ]
    }
   ],
   "source": [
    "a = [0,1,2,3,4]\n",
    "b = a[:]\n",
    "b[0] = 10\n",
    "\n",
    "print \"a:\", a\n",
    "print \"b:\", b"
   ]
  },
  {
   "cell_type": "markdown",
   "metadata": {},
   "source": [
    "## Problem\n",
    "\n",
    "Write down if statement code.\n",
    "\n",
    "If a < b, then prints out “a is smaller”\n",
    "\n",
    "if a > b, then prints out “b is smaller”\n",
    "\n",
    "If a == b, then prints out “same”\n"
   ]
  },
  {
   "cell_type": "code",
   "execution_count": 39,
   "metadata": {},
   "outputs": [
    {
     "name": "stdout",
     "output_type": "stream",
     "text": [
      "a is bigger\n"
     ]
    }
   ],
   "source": [
    "a = 3\n",
    "b = 1\n",
    "\n",
    "# Write your codes here\n",
    "if a<b:\n",
    "    print \"a is smaller\"\n",
    "elif a>b:\n",
    "    print \"a is bigger\"\n",
    "else:\n",
    "    print \"same\""
   ]
  },
  {
   "cell_type": "markdown",
   "metadata": {},
   "source": [
    "## Problem\n",
    "\n",
    "Write down for loop code.\n",
    "\n",
    "Output:\n",
    "\n",
    "1\n",
    "\n",
    "10\n",
    "\n",
    "100\n",
    "\n",
    "1000\n",
    "\n",
    "10000\n"
   ]
  },
  {
   "cell_type": "code",
   "execution_count": 34,
   "metadata": {},
   "outputs": [
    {
     "name": "stdout",
     "output_type": "stream",
     "text": [
      "1\n",
      "\n",
      "10\n",
      "\n",
      "100\n",
      "\n",
      "1000\n",
      "\n",
      "10000\n",
      "\n"
     ]
    }
   ],
   "source": [
    "# Write your codes here\n",
    "for i in range(5):\n",
    "    print 10**i\n",
    "    print "
   ]
  },
  {
   "cell_type": "markdown",
   "metadata": {},
   "source": [
    "## Problem\n",
    "\n",
    "Write down a function such that the output of **printProduct(4, 5)** is **\"4 times 5 is 20\"**."
   ]
  },
  {
   "cell_type": "code",
   "execution_count": 2,
   "metadata": {},
   "outputs": [
    {
     "name": "stdout",
     "output_type": "stream",
     "text": [
      "4 times 5 is 20\n",
      "4 times 5 is 20\n",
      "4 times 5 is 20\n"
     ]
    }
   ],
   "source": [
    "def printProduct(a, b):\n",
    "    # Write your codes here\n",
    "    print str(a) + \" times \" + str(b) + \" is \" + str(a*b)\n",
    "    print \"{} times {} is {}\".format (a, b, a*b)\n",
    "    print a, \"times\", b, \"is\", a*b\n",
    "    \n",
    "printProduct(4,5)"
   ]
  },
  {
   "cell_type": "markdown",
   "metadata": {},
   "source": [
    "## Problem\n",
    "Write down a function that returns the index of the item from an array.\n",
    "\n",
    "```\n",
    "print findKey(12, arr)\n",
    "\n",
    "output: 5\n",
    "```"
   ]
  },
  {
   "cell_type": "code",
   "execution_count": 52,
   "metadata": {},
   "outputs": [
    {
     "name": "stdout",
     "output_type": "stream",
     "text": [
      "5\n"
     ]
    }
   ],
   "source": [
    "arr = [123,4,1,51,5,12,124]\n",
    "\n",
    "def findKey(key, arr):\n",
    "    # Write your codes here\n",
    "    N = 0\n",
    "    for i in arr:\n",
    "        if i!=key:\n",
    "            N += 1\n",
    "        else:\n",
    "            break\n",
    "    return N\n",
    "    \n",
    "\n",
    "print findKey(12,arr)"
   ]
  },
  {
   "cell_type": "code",
   "execution_count": null,
   "metadata": {
    "collapsed": true
   },
   "outputs": [],
   "source": []
  }
 ],
 "metadata": {
  "anaconda-cloud": {},
  "kernelspec": {
   "display_name": "Python 2",
   "language": "python",
   "name": "python2"
  },
  "language_info": {
   "codemirror_mode": {
    "name": "ipython",
    "version": 2
   },
   "file_extension": ".py",
   "mimetype": "text/x-python",
   "name": "python",
   "nbconvert_exporter": "python",
   "pygments_lexer": "ipython2",
   "version": "2.7.14"
  }
 },
 "nbformat": 4,
 "nbformat_minor": 1
}
