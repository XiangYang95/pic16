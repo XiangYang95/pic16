{
 "cells": [
  {
   "cell_type": "code",
   "execution_count": 5,
   "metadata": {},
   "outputs": [
    {
     "data": {
      "text/plain": [
       "Text(0,0.5,u'Min and max temperature')"
      ]
     },
     "execution_count": 5,
     "metadata": {},
     "output_type": "execute_result"
    },
    {
     "data": {
      "image/png": "[encoded data removed]",
      "text/plain": [
       "<matplotlib.figure.Figure at 0x8cb60f0>"
      ]
     },
     "metadata": {},
     "output_type": "display_data"
    }
   ],
   "source": [
    "import matplotlib.pyplot as plp\n",
    "import numpy as np\n",
    "%matplotlib inline\n",
    "temp_max = [17, 19, 21, 28, 33, 38, 37, 37, 31, 23, 19, 18]\n",
    "temp_min = [-62, -59, -56, -46, -32, -18, -9, -13, -25, -46, -52, -58]\n",
    "temp_max = np.array(temp_max)\n",
    "temp_min = np.array(temp_min)\n",
    "months = np.arange(12)\n",
    "\n",
    "plp.plot(months, temp_min, 'ro')\n",
    "plp.plot(months, temp_max, 'bo')\n",
    "plp.xlabel('Month')\n",
    "plp.ylabel('Min and max temperature')"
   ]
  },
  {
   "cell_type": "code",
   "execution_count": null,
   "metadata": {
    "collapsed": true
   },
   "outputs": [],
   "source": [
    "from scipy.optimize import minimize as mini\n",
    "def f(x,y):\n",
    "    return (4-2.1*x**2+(x**4)/3)*x**2 + x*y + (4*y**2 -4)*y**2\n",
    "\n",
    "result = mini(f, x0 = (0,0), bounds = ((-2,2),(-1,1))"
   ]
  }
 ],
 "metadata": {
  "kernelspec": {
   "display_name": "Python 2",
   "language": "python",
   "name": "python2"
  },
  "language_info": {
   "codemirror_mode": {
    "name": "ipython",
    "version": 2
   },
   "file_extension": ".py",
   "mimetype": "text/x-python",
   "name": "python",
   "nbconvert_exporter": "python",
   "pygments_lexer": "ipython2",
   "version": "2.7.14"
  }
 },
 "nbformat": 4,
 "nbformat_minor": 2
}
