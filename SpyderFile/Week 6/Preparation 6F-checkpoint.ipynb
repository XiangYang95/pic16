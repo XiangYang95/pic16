{
 "cells": [
  {
   "cell_type": "code",
   "execution_count": 8,
   "metadata": {},
   "outputs": [
    {
     "name": "stdout",
     "output_type": "stream",
     "text": [
      "[list([3, 1, 3]) list([2, 0, 3]) list([2, 3])]\n",
      "(3L,) 1 3\n"
     ]
    }
   ],
   "source": [
    "import numpy as np\n",
    "a = np.array([[3,1, 3], [2,0, 3], [2,3]])\n",
    "print a\n",
    "print a.shape, a.ndim, len(a)\n",
    "\n"
   ]
  }
 ],
 "metadata": {
  "kernelspec": {
   "display_name": "Python 2",
   "language": "python",
   "name": "python2"
  },
  "language_info": {
   "codemirror_mode": {
    "name": "ipython",
    "version": 2
   },
   "file_extension": ".py",
   "mimetype": "text/x-python",
   "name": "python",
   "nbconvert_exporter": "python",
   "pygments_lexer": "ipython2",
   "version": "2.7.14"
  }
 },
 "nbformat": 4,
 "nbformat_minor": 2
}
