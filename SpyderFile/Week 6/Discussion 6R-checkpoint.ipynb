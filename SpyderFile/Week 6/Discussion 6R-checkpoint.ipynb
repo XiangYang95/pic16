{
 "cells": [
  {
   "cell_type": "markdown",
   "metadata": {},
   "source": [
    "# PIC 16 - Discussion 5R\n",
    "# 11/02/2017 Thursday\n",
    "\n",
    "# Today's Office Hour: 1:45 pm - 2:45 pm MS 2330"
   ]
  },
  {
   "cell_type": "markdown",
   "metadata": {},
   "source": [
    "http://docs.sympy.org/latest/tutorial/intro.html#what-is-symbolic-computation"
   ]
  },
  {
   "cell_type": "code",
   "execution_count": 1,
   "metadata": {
    "collapsed": true
   },
   "outputs": [],
   "source": [
    "import json"
   ]
  },
  {
   "cell_type": "code",
   "execution_count": 2,
   "metadata": {
    "collapsed": true
   },
   "outputs": [],
   "source": [
    "j = '{\"hello\": \"world\", \"number1\": 1, \"number2\": 10, \"numbers\": [1,2,5,6]}'"
   ]
  },
  {
   "cell_type": "code",
   "execution_count": 3,
   "metadata": {
    "collapsed": true
   },
   "outputs": [],
   "source": [
    "d = json.loads(j)"
   ]
  },
  {
   "cell_type": "code",
   "execution_count": 4,
   "metadata": {},
   "outputs": [
    {
     "data": {
      "text/plain": [
       "[1, 2, 5, 6]"
      ]
     },
     "execution_count": 4,
     "metadata": {},
     "output_type": "execute_result"
    }
   ],
   "source": [
    "d['numbers']"
   ]
  },
  {
   "cell_type": "code",
   "execution_count": 5,
   "metadata": {},
   "outputs": [
    {
     "data": {
      "text/plain": [
       "u'world'"
      ]
     },
     "execution_count": 5,
     "metadata": {},
     "output_type": "execute_result"
    }
   ],
   "source": [
    "d[\"hello\"]"
   ]
  },
  {
   "cell_type": "code",
   "execution_count": 6,
   "metadata": {},
   "outputs": [
    {
     "data": {
      "text/plain": [
       "[u'numbers', u'number2', u'hello', u'number1']"
      ]
     },
     "execution_count": 6,
     "metadata": {},
     "output_type": "execute_result"
    }
   ],
   "source": [
    "d.keys()"
   ]
  },
  {
   "cell_type": "code",
   "execution_count": 7,
   "metadata": {},
   "outputs": [
    {
     "data": {
      "text/plain": [
       "[[1, 2, 5, 6], 10, u'world', 1]"
      ]
     },
     "execution_count": 7,
     "metadata": {},
     "output_type": "execute_result"
    }
   ],
   "source": [
    "d.values()"
   ]
  },
  {
   "cell_type": "markdown",
   "metadata": {},
   "source": [
    "## Problem\n",
    "\n",
    "Write a json that contains the follwowing information\n",
    "\n",
    "PIC 10A: Introduction to Programming\n",
    "\n",
    "PIC 10B: Intermediate Programming\n",
    "\n",
    "PIC 10C: Advanced Programming\n",
    "\n",
    "PIC 15: Introduction to Lisp and Symbolic Computation\n",
    "\n",
    "PIC 16: Python with Applications"
   ]
  },
  {
   "cell_type": "code",
   "execution_count": null,
   "metadata": {
    "collapsed": true
   },
   "outputs": [],
   "source": []
  },
  {
   "cell_type": "markdown",
   "metadata": {},
   "source": [
    "## Download json file\n",
    "\n",
    "Go to this link and download the json file\n",
    "\n",
    "https://github.com/jdorfman/awesome-json-datasets\n",
    "\n",
    "And save it as **strangerthings.json** in your local machine."
   ]
  },
  {
   "cell_type": "code",
   "execution_count": 9,
   "metadata": {},
   "outputs": [],
   "source": [
    "json_data = open(\"strangerthings.json\").read()"
   ]
  },
  {
   "cell_type": "code",
   "execution_count": 10,
   "metadata": {},
   "outputs": [
    {
     "data": {
      "text/plain": [
       "'{\"id\":2993,\"url\":\"http://www.tvmaze.com/shows/2993/stranger-things\",\"name\":\"Stranger Things\",\"type\":\"Scripted\",\"language\":\"English\",\"genres\":[\"Drama\",\"Science-Fiction\",\"Mystery\"],\"status\":\"Running\",\"runtime\":60,\"premiered\":\"2016-07-15\",\"officialSite\":\"https://www.netflix.com/title/80057281\",\"schedule\":{\"time\":\"\",\"days\":[\"Tuesday\"]},\"rating\":{\"average\":8.8},\"weight\":100,\"network\":null,\"webChannel\":{\"id\":1,\"name\":\"Netflix\",\"country\":null},\"externals\":{\"tvrage\":48493,\"thetvdb\":305288,\"imdb\":\"tt4574334\"},\"image\":{\"medium\":\"http://static.tvmaze.com/uploads/images/medium_portrait/132/330543.jpg\",\"original\":\"http://static.tvmaze.com/uploads/images/original_untouched/132/330543.jpg\"},\"summary\":\"<p>A love letter to the \\'80s classics that captivated a generation, <b>Stranger Things</b> is set in 1983 Indiana, where a young boy vanishes into thin air. As friends, family and local police search for answers, they are drawn into an extraordinary mystery involving top-secret government experiments, terrifying supernatural forces and one very strange little girl.</p>\",\"updated\":1509543477,\"_links\":{\"self\":{\"href\":\"http://api.tvmaze.com/shows/2993\"},\"previousepisode\":{\"href\":\"http://api.tvmaze.com/episodes/909349\"}},\"_embedded\":{\"episodes\":[{\"id\":553946,\"url\":\"http://www.tvmaze.com/episodes/553946/stranger-things-1x01-chapter-one-the-vanishing-of-will-byers\",\"name\":\"Chapter One: The Vanishing of Will Byers\",\"season\":1,\"number\":1,\"airdate\":\"2016-07-15\",\"airtime\":\"\",\"airstamp\":\"2016-07-15T12:00:00+00:00\",\"runtime\":60,\"image\":{\"medium\":\"http://static.tvmaze.com/uploads/images/medium_landscape/67/168918.jpg\",\"original\":\"http://static.tvmaze.com/uploads/images/original_untouched/67/168918.jpg\"},\"summary\":\"<p>A young boy mysteriously disappears, and his panicked mother demands that the police find him. Meanwhile, the boy\\'s friends conduct their own search, and meet a mysterious girl in the forest.</p>\",\"_links\":{\"self\":{\"href\":\"http://api.tvmaze.com/episodes/553946\"}}},{\"id\":578663,\"url\":\"http://www.tvmaze.com/episodes/578663/stranger-things-1x02-chapter-two-the-weirdo-on-maple-street\",\"name\":\"Chapter Two: The Weirdo on Maple Street\",\"season\":1,\"number\":2,\"airdate\":\"2016-07-15\",\"airtime\":\"\",\"airstamp\":\"2016-07-15T12:00:00+00:00\",\"runtime\":60,\"image\":{\"medium\":\"http://static.tvmaze.com/uploads/images/medium_landscape/72/181376.jpg\",\"original\":\"http://static.tvmaze.com/uploads/images/original_untouched/72/181376.jpg\"},\"summary\":\"<p>While the search for the missing Will continues, Joyce tells Jim about a call she apparently received from her son. Meanwhile, Jane warns Mike that there are bad people after her, and he realizes that she knows what happened to Will.</p>\",\"_links\":{\"self\":{\"href\":\"http://api.tvmaze.com/episodes/578663\"}}},{\"id\":578664,\"url\":\"http://www.tvmaze.com/episodes/578664/stranger-things-1x03-chapter-three-holly-jolly\",\"name\":\"Chapter Three: Holly, Jolly\",\"season\":1,\"number\":3,\"airdate\":\"2016-07-15\",\"airtime\":\"\",\"airstamp\":\"2016-07-15T12:00:00+00:00\",\"runtime\":60,\"image\":{\"medium\":\"http://static.tvmaze.com/uploads/images/medium_landscape/67/168920.jpg\",\"original\":\"http://static.tvmaze.com/uploads/images/original_untouched/67/168920.jpg\"},\"summary\":\"<p>While Nancy looks for a missing Barbara and realizes that Jonathan may have been the last person to see her, Mike and his friends go out with Jane to find the missing Will. Meanwhile, Jim tracks Will to the lab.</p>\",\"_links\":{\"self\":{\"href\":\"http://api.tvmaze.com/episodes/578664\"}}},{\"id\":578665,\"url\":\"http://www.tvmaze.com/episodes/578665/stranger-things-1x04-chapter-four-the-body\",\"name\":\"Chapter Four: The Body\",\"season\":1,\"number\":4,\"airdate\":\"2016-07-15\",\"airtime\":\"\",\"airstamp\":\"2016-07-15T12:00:00+00:00\",\"runtime\":60,\"image\":{\"medium\":\"http://static.tvmaze.com/uploads/images/medium_landscape/67/168921.jpg\",\"original\":\"http://static.tvmaze.com/uploads/images/original_untouched/67/168921.jpg\"},\"summary\":\"<p>Jim realizes that the government is covering something up about Will\\'s death and begins a personal investigation. Meanwhile, Nancy discovers that Jonathan has information about Barbara\\'s disappearance, while Mike and his friends smuggle Jane into the school so she can use the ham radio to contact Will.</p>\",\"_links\":{\"self\":{\"href\":\"http://api.tvmaze.com/episodes/578665\"}}},{\"id\":578666,\"url\":\"http://www.tvmaze.com/episodes/578666/stranger-things-1x05-chapter-five-the-flea-and-the-acrobat\",\"name\":\"Chapter Five: The Flea and the Acrobat\",\"season\":1,\"number\":5,\"airdate\":\"2016-07-15\",\"airtime\":\"\",\"airstamp\":\"2016-07-15T12:00:00+00:00\",\"runtime\":60,\"image\":{\"medium\":\"http://static.tvmaze.com/uploads/images/medium_landscape/67/168922.jpg\",\"original\":\"http://static.tvmaze.com/uploads/images/original_untouched/67/168922.jpg\"},\"summary\":\"<p>Jim searches for Will at Hawkins Laboratory, but finds something unexpected. Meanwhile, Lonnie helps Joyce bury Will but reveals an ulterior motive for returning to town, while the boys find a way to locate Will but discover that Jane is opposing them.</p>\",\"_links\":{\"self\":{\"href\":\"http://api.tvmaze.com/episodes/578666\"}}},{\"id\":578667,\"url\":\"http://www.tvmaze.com/episodes/578667/stranger-things-1x06-chapter-six-the-monster\",\"name\":\"Chapter Six: The Monster\",\"season\":1,\"number\":6,\"airdate\":\"2016-07-15\",\"airtime\":\"\",\"airstamp\":\"2016-07-15T12:00:00+00:00\",\"runtime\":60,\"image\":{\"medium\":\"http://static.tvmaze.com/uploads/images/medium_landscape/67/168923.jpg\",\"original\":\"http://static.tvmaze.com/uploads/images/original_untouched/67/168923.jpg\"},\"summary\":\"<p>Jonathan manages to pull Nancy back to the real world from the Upside Down. Meanwhile, Lucas refuses to help with the search for Jane and goes to Hawkins Labs on his own, while Dustin and Mike look for the missing girl.</p>\",\"_links\":{\"self\":{\"href\":\"http://api.tvmaze.com/episodes/578667\"}}},{\"id\":578668,\"url\":\"http://www.tvmaze.com/episodes/578668/stranger-things-1x07-chapter-seven-the-bathtub\",\"name\":\"Chapter Seven: The Bathtub\",\"season\":1,\"number\":7,\"airdate\":\"2016-07-15\",\"airtime\":\"\",\"airstamp\":\"2016-07-15T12:00:00+00:00\",\"runtime\":60,\"image\":{\"medium\":\"http://static.tvmaze.com/uploads/images/medium_landscape/67/168925.jpg\",\"original\":\"http://static.tvmaze.com/uploads/images/original_untouched/67/168925.jpg\"},\"summary\":\"<p>Jim manages to bring everyone together so that they can join forces to reconnect Jane to the Upside Down and find Will. Meanwhile, the government closes in on Jane and the boys.</p>\",\"_links\":{\"self\":{\"href\":\"http://api.tvmaze.com/episodes/578668\"}}},{\"id\":578669,\"url\":\"http://www.tvmaze.com/episodes/578669/stranger-things-1x08-chapter-eight-the-upside-down\",\"name\":\"Chapter Eight: The Upside Down\",\"season\":1,\"number\":8,\"airdate\":\"2016-07-15\",\"airtime\":\"\",\"airstamp\":\"2016-07-15T12:00:00+00:00\",\"runtime\":60,\"image\":{\"medium\":\"http://static.tvmaze.com/uploads/images/medium_landscape/67/168926.jpg\",\"original\":\"http://static.tvmaze.com/uploads/images/original_untouched/67/168926.jpg\"},\"summary\":\"<p>Jim convinces Brenner to let him and Joyce enter the Upside Down to find Will... unaware that Brenner plans to recover Jane no matter what it takes. Meanwhile, Nancy and Jonathan prepare to trap the monster at the Byers house, but receive an unexpected visitor.</p>\",\"_links\":{\"self\":{\"href\":\"http://api.tvmaze.com/episodes/578669\"}}},{\"id\":909340,\"url\":\"http://www.tvmaze.com/episodes/909340/stranger-things-2x01-chapter-one-madmax\",\"name\":\"Chapter One: MADMAX\",\"season\":2,\"number\":1,\"airdate\":\"2017-10-27\",\"airtime\":\"\",\"airstamp\":\"2017-10-27T12:00:00+00:00\",\"runtime\":60,\"image\":{\"medium\":\"http://static.tvmaze.com/uploads/images/medium_landscape/132/331976.jpg\",\"original\":\"http://static.tvmaze.com/uploads/images/original_untouched/132/331976.jpg\"},\"summary\":\"<p>One year after the events with the Upside Down and the Demogorgon, Will meets with a government doctor. The boys discover that there\\'s a new player in town, and Jim pays a visit to El.</p>\",\"_links\":{\"self\":{\"href\":\"http://api.tvmaze.com/episodes/909340\"}}},{\"id\":909342,\"url\":\"http://www.tvmaze.com/episodes/909342/stranger-things-2x02-chapter-two-trick-or-treat-freak\",\"name\":\"Chapter Two: Trick or Treat, Freak\",\"season\":2,\"number\":2,\"airdate\":\"2017-10-27\",\"airtime\":\"\",\"airstamp\":\"2017-10-27T12:00:00+00:00\",\"runtime\":60,\"image\":{\"medium\":\"http://static.tvmaze.com/uploads/images/medium_landscape/132/332034.jpg\",\"original\":\"http://static.tvmaze.com/uploads/images/original_untouched/132/332034.jpg\"},\"summary\":\"<p>After Will sees something terrible on trick-or-treat night, Mike wonders whether Eleven\\'s still out there. Nancy wrestles with the truth about Barb.</p>\",\"_links\":{\"self\":{\"href\":\"http://api.tvmaze.com/episodes/909342\"}}},{\"id\":909343,\"url\":\"http://www.tvmaze.com/episodes/909343/stranger-things-2x03-chapter-three-the-pollywog\",\"name\":\"Chapter Three: The Pollywog\",\"season\":2,\"number\":3,\"airdate\":\"2017-10-27\",\"airtime\":\"\",\"airstamp\":\"2017-10-27T12:00:00+00:00\",\"runtime\":60,\"image\":{\"medium\":\"http://static.tvmaze.com/uploads/images/medium_landscape/132/332039.jpg\",\"original\":\"http://static.tvmaze.com/uploads/images/original_untouched/132/332039.jpg\"},\"summary\":\"<p>Dustin adopts a strange new pet, and Eleven grows increasingly impatient. A well-meaning Bob urges Will to stand up to his fears.</p>\",\"_links\":{\"self\":{\"href\":\"http://api.tvmaze.com/episodes/909343\"}}},{\"id\":909344,\"url\":\"http://www.tvmaze.com/episodes/909344/stranger-things-2x04-chapter-four-will-the-wise\",\"name\":\"Chapter Four: Will the Wise\",\"season\":2,\"number\":4,\"airdate\":\"2017-10-27\",\"airtime\":\"\",\"airstamp\":\"2017-10-27T12:00:00+00:00\",\"runtime\":60,\"image\":{\"medium\":\"http://static.tvmaze.com/uploads/images/medium_landscape/132/332045.jpg\",\"original\":\"http://static.tvmaze.com/uploads/images/original_untouched/132/332045.jpg\"},\"summary\":\"<p>An ailing Will opens up to Joyce -- with disturbing results. While Hopper digs for the truth, Eleven unearths a surprising discovery.</p>\",\"_links\":{\"self\":{\"href\":\"http://api.tvmaze.com/episodes/909344\"}}},{\"id\":909345,\"url\":\"http://www.tvmaze.com/episodes/909345/stranger-things-2x05-chapter-five-dig-dug\",\"name\":\"Chapter Five: Dig Dug\",\"season\":2,\"number\":5,\"airdate\":\"2017-10-27\",\"airtime\":\"\",\"airstamp\":\"2017-10-27T12:00:00+00:00\",\"runtime\":60,\"image\":{\"medium\":\"http://static.tvmaze.com/uploads/images/medium_landscape/132/332050.jpg\",\"original\":\"http://static.tvmaze.com/uploads/images/original_untouched/132/332050.jpg\"},\"summary\":\"<p>Nancy and Jonathan swap conspiracy theories with a new ally as Eleven searches for someone from her past. \\\\\"Bob the Brain\\\\\" tackles a difficult problem.</p>\",\"_links\":{\"self\":{\"href\":\"http://api.tvmaze.com/episodes/909345\"}}},{\"id\":909346,\"url\":\"http://www.tvmaze.com/episodes/909346/stranger-things-2x06-chapter-six-the-spy\",\"name\":\"Chapter Six: The Spy\",\"season\":2,\"number\":6,\"airdate\":\"2017-10-27\",\"airtime\":\"\",\"airstamp\":\"2017-10-27T12:00:00+00:00\",\"runtime\":60,\"image\":{\"medium\":\"http://static.tvmaze.com/uploads/images/medium_landscape/132/332052.jpg\",\"original\":\"http://static.tvmaze.com/uploads/images/original_untouched/132/332052.jpg\"},\"summary\":\"<p>Will\\'s connection to a shadowy evil grows stronger, but no one\\'s quite sure how to stop it. Elsewhere, Dustin and Steve forge an unlikely bond.</p>\",\"_links\":{\"self\":{\"href\":\"http://api.tvmaze.com/episodes/909346\"}}},{\"id\":909347,\"url\":\"http://www.tvmaze.com/episodes/909347/stranger-things-2x07-chapter-seven-the-lost-sister\",\"name\":\"Chapter Seven: The Lost Sister\",\"season\":2,\"number\":7,\"airdate\":\"2017-10-27\",\"airtime\":\"\",\"airstamp\":\"2017-10-27T12:00:00+00:00\",\"runtime\":60,\"image\":{\"medium\":\"http://static.tvmaze.com/uploads/images/medium_landscape/132/332055.jpg\",\"original\":\"http://static.tvmaze.com/uploads/images/original_untouched/132/332055.jpg\"},\"summary\":\"<p>Psychic visions draw Eleven to a band of violent outcasts and an angry girl with a shadowy past.</p>\",\"_links\":{\"self\":{\"href\":\"http://api.tvmaze.com/episodes/909347\"}}},{\"id\":909348,\"url\":\"http://www.tvmaze.com/episodes/909348/stranger-things-2x08-chapter-eight-the-mind-flayer\",\"name\":\"Chapter Eight: The Mind Flayer\",\"season\":2,\"number\":8,\"airdate\":\"2017-10-27\",\"airtime\":\"\",\"airstamp\":\"2017-10-27T12:00:00+00:00\",\"runtime\":60,\"image\":{\"medium\":\"http://static.tvmaze.com/uploads/images/medium_landscape/132/332059.jpg\",\"original\":\"http://static.tvmaze.com/uploads/images/original_untouched/132/332059.jpg\"},\"summary\":\"<p>An unlikely hero steps forward when a deadly development puts the Hawkins Lab on lockdown, trapping Will and several others inside.</p>\",\"_links\":{\"self\":{\"href\":\"http://api.tvmaze.com/episodes/909348\"}}},{\"id\":909349,\"url\":\"http://www.tvmaze.com/episodes/909349/stranger-things-2x09-chapter-nine-the-gate\",\"name\":\"Chapter Nine: The Gate\",\"season\":2,\"number\":9,\"airdate\":\"2017-10-27\",\"airtime\":\"\",\"airstamp\":\"2017-10-27T12:00:00+00:00\",\"runtime\":60,\"image\":{\"medium\":\"http://static.tvmaze.com/uploads/images/medium_landscape/132/332064.jpg\",\"original\":\"http://static.tvmaze.com/uploads/images/original_untouched/132/332064.jpg\"},\"summary\":\"<p>Eleven makes plans to finish what she started while the survivors turn up the heat on the monstrous force that\\'s holding Will hostage.</p>\",\"_links\":{\"self\":{\"href\":\"http://api.tvmaze.com/episodes/909349\"}}}]}}'"
      ]
     },
     "execution_count": 10,
     "metadata": {},
     "output_type": "execute_result"
    }
   ],
   "source": [
    "json_data"
   ]
  },
  {
   "cell_type": "code",
   "execution_count": 11,
   "metadata": {
    "collapsed": true
   },
   "outputs": [],
   "source": [
    "j = json.loads(json_data)"
   ]
  },
  {
   "cell_type": "code",
   "execution_count": 12,
   "metadata": {},
   "outputs": [
    {
     "data": {
      "text/plain": [
       "{u'_embedded': {u'episodes': [{u'_links': {u'self': {u'href': u'http://api.tvmaze.com/episodes/553946'}},\n",
       "    u'airdate': u'2016-07-15',\n",
       "    u'airstamp': u'2016-07-15T12:00:00+00:00',\n",
       "    u'airtime': u'',\n",
       "    u'id': 553946,\n",
       "    u'image': {u'medium': u'http://static.tvmaze.com/uploads/images/medium_landscape/67/168918.jpg',\n",
       "     u'original': u'http://static.tvmaze.com/uploads/images/original_untouched/67/168918.jpg'},\n",
       "    u'name': u'Chapter One: The Vanishing of Will Byers',\n",
       "    u'number': 1,\n",
       "    u'runtime': 60,\n",
       "    u'season': 1,\n",
       "    u'summary': u\"<p>A young boy mysteriously disappears, and his panicked mother demands that the police find him. Meanwhile, the boy's friends conduct their own search, and meet a mysterious girl in the forest.</p>\",\n",
       "    u'url': u'http://www.tvmaze.com/episodes/553946/stranger-things-1x01-chapter-one-the-vanishing-of-will-byers'},\n",
       "   {u'_links': {u'self': {u'href': u'http://api.tvmaze.com/episodes/578663'}},\n",
       "    u'airdate': u'2016-07-15',\n",
       "    u'airstamp': u'2016-07-15T12:00:00+00:00',\n",
       "    u'airtime': u'',\n",
       "    u'id': 578663,\n",
       "    u'image': {u'medium': u'http://static.tvmaze.com/uploads/images/medium_landscape/72/181376.jpg',\n",
       "     u'original': u'http://static.tvmaze.com/uploads/images/original_untouched/72/181376.jpg'},\n",
       "    u'name': u'Chapter Two: The Weirdo on Maple Street',\n",
       "    u'number': 2,\n",
       "    u'runtime': 60,\n",
       "    u'season': 1,\n",
       "    u'summary': u'<p>While the search for the missing Will continues, Joyce tells Jim about a call she apparently received from her son. Meanwhile, Jane warns Mike that there are bad people after her, and he realizes that she knows what happened to Will.</p>',\n",
       "    u'url': u'http://www.tvmaze.com/episodes/578663/stranger-things-1x02-chapter-two-the-weirdo-on-maple-street'},\n",
       "   {u'_links': {u'self': {u'href': u'http://api.tvmaze.com/episodes/578664'}},\n",
       "    u'airdate': u'2016-07-15',\n",
       "    u'airstamp': u'2016-07-15T12:00:00+00:00',\n",
       "    u'airtime': u'',\n",
       "    u'id': 578664,\n",
       "    u'image': {u'medium': u'http://static.tvmaze.com/uploads/images/medium_landscape/67/168920.jpg',\n",
       "     u'original': u'http://static.tvmaze.com/uploads/images/original_untouched/67/168920.jpg'},\n",
       "    u'name': u'Chapter Three: Holly, Jolly',\n",
       "    u'number': 3,\n",
       "    u'runtime': 60,\n",
       "    u'season': 1,\n",
       "    u'summary': u'<p>While Nancy looks for a missing Barbara and realizes that Jonathan may have been the last person to see her, Mike and his friends go out with Jane to find the missing Will. Meanwhile, Jim tracks Will to the lab.</p>',\n",
       "    u'url': u'http://www.tvmaze.com/episodes/578664/stranger-things-1x03-chapter-three-holly-jolly'},\n",
       "   {u'_links': {u'self': {u'href': u'http://api.tvmaze.com/episodes/578665'}},\n",
       "    u'airdate': u'2016-07-15',\n",
       "    u'airstamp': u'2016-07-15T12:00:00+00:00',\n",
       "    u'airtime': u'',\n",
       "    u'id': 578665,\n",
       "    u'image': {u'medium': u'http://static.tvmaze.com/uploads/images/medium_landscape/67/168921.jpg',\n",
       "     u'original': u'http://static.tvmaze.com/uploads/images/original_untouched/67/168921.jpg'},\n",
       "    u'name': u'Chapter Four: The Body',\n",
       "    u'number': 4,\n",
       "    u'runtime': 60,\n",
       "    u'season': 1,\n",
       "    u'summary': u\"<p>Jim realizes that the government is covering something up about Will's death and begins a personal investigation. Meanwhile, Nancy discovers that Jonathan has information about Barbara's disappearance, while Mike and his friends smuggle Jane into the school so she can use the ham radio to contact Will.</p>\",\n",
       "    u'url': u'http://www.tvmaze.com/episodes/578665/stranger-things-1x04-chapter-four-the-body'},\n",
       "   {u'_links': {u'self': {u'href': u'http://api.tvmaze.com/episodes/578666'}},\n",
       "    u'airdate': u'2016-07-15',\n",
       "    u'airstamp': u'2016-07-15T12:00:00+00:00',\n",
       "    u'airtime': u'',\n",
       "    u'id': 578666,\n",
       "    u'image': {u'medium': u'http://static.tvmaze.com/uploads/images/medium_landscape/67/168922.jpg',\n",
       "     u'original': u'http://static.tvmaze.com/uploads/images/original_untouched/67/168922.jpg'},\n",
       "    u'name': u'Chapter Five: The Flea and the Acrobat',\n",
       "    u'number': 5,\n",
       "    u'runtime': 60,\n",
       "    u'season': 1,\n",
       "    u'summary': u'<p>Jim searches for Will at Hawkins Laboratory, but finds something unexpected. Meanwhile, Lonnie helps Joyce bury Will but reveals an ulterior motive for returning to town, while the boys find a way to locate Will but discover that Jane is opposing them.</p>',\n",
       "    u'url': u'http://www.tvmaze.com/episodes/578666/stranger-things-1x05-chapter-five-the-flea-and-the-acrobat'},\n",
       "   {u'_links': {u'self': {u'href': u'http://api.tvmaze.com/episodes/578667'}},\n",
       "    u'airdate': u'2016-07-15',\n",
       "    u'airstamp': u'2016-07-15T12:00:00+00:00',\n",
       "    u'airtime': u'',\n",
       "    u'id': 578667,\n",
       "    u'image': {u'medium': u'http://static.tvmaze.com/uploads/images/medium_landscape/67/168923.jpg',\n",
       "     u'original': u'http://static.tvmaze.com/uploads/images/original_untouched/67/168923.jpg'},\n",
       "    u'name': u'Chapter Six: The Monster',\n",
       "    u'number': 6,\n",
       "    u'runtime': 60,\n",
       "    u'season': 1,\n",
       "    u'summary': u'<p>Jonathan manages to pull Nancy back to the real world from the Upside Down. Meanwhile, Lucas refuses to help with the search for Jane and goes to Hawkins Labs on his own, while Dustin and Mike look for the missing girl.</p>',\n",
       "    u'url': u'http://www.tvmaze.com/episodes/578667/stranger-things-1x06-chapter-six-the-monster'},\n",
       "   {u'_links': {u'self': {u'href': u'http://api.tvmaze.com/episodes/578668'}},\n",
       "    u'airdate': u'2016-07-15',\n",
       "    u'airstamp': u'2016-07-15T12:00:00+00:00',\n",
       "    u'airtime': u'',\n",
       "    u'id': 578668,\n",
       "    u'image': {u'medium': u'http://static.tvmaze.com/uploads/images/medium_landscape/67/168925.jpg',\n",
       "     u'original': u'http://static.tvmaze.com/uploads/images/original_untouched/67/168925.jpg'},\n",
       "    u'name': u'Chapter Seven: The Bathtub',\n",
       "    u'number': 7,\n",
       "    u'runtime': 60,\n",
       "    u'season': 1,\n",
       "    u'summary': u'<p>Jim manages to bring everyone together so that they can join forces to reconnect Jane to the Upside Down and find Will. Meanwhile, the government closes in on Jane and the boys.</p>',\n",
       "    u'url': u'http://www.tvmaze.com/episodes/578668/stranger-things-1x07-chapter-seven-the-bathtub'},\n",
       "   {u'_links': {u'self': {u'href': u'http://api.tvmaze.com/episodes/578669'}},\n",
       "    u'airdate': u'2016-07-15',\n",
       "    u'airstamp': u'2016-07-15T12:00:00+00:00',\n",
       "    u'airtime': u'',\n",
       "    u'id': 578669,\n",
       "    u'image': {u'medium': u'http://static.tvmaze.com/uploads/images/medium_landscape/67/168926.jpg',\n",
       "     u'original': u'http://static.tvmaze.com/uploads/images/original_untouched/67/168926.jpg'},\n",
       "    u'name': u'Chapter Eight: The Upside Down',\n",
       "    u'number': 8,\n",
       "    u'runtime': 60,\n",
       "    u'season': 1,\n",
       "    u'summary': u'<p>Jim convinces Brenner to let him and Joyce enter the Upside Down to find Will... unaware that Brenner plans to recover Jane no matter what it takes. Meanwhile, Nancy and Jonathan prepare to trap the monster at the Byers house, but receive an unexpected visitor.</p>',\n",
       "    u'url': u'http://www.tvmaze.com/episodes/578669/stranger-things-1x08-chapter-eight-the-upside-down'},\n",
       "   {u'_links': {u'self': {u'href': u'http://api.tvmaze.com/episodes/909340'}},\n",
       "    u'airdate': u'2017-10-27',\n",
       "    u'airstamp': u'2017-10-27T12:00:00+00:00',\n",
       "    u'airtime': u'',\n",
       "    u'id': 909340,\n",
       "    u'image': {u'medium': u'http://static.tvmaze.com/uploads/images/medium_landscape/132/331976.jpg',\n",
       "     u'original': u'http://static.tvmaze.com/uploads/images/original_untouched/132/331976.jpg'},\n",
       "    u'name': u'Chapter One: MADMAX',\n",
       "    u'number': 1,\n",
       "    u'runtime': 60,\n",
       "    u'season': 2,\n",
       "    u'summary': u\"<p>One year after the events with the Upside Down and the Demogorgon, Will meets with a government doctor. The boys discover that there's a new player in town, and Jim pays a visit to El.</p>\",\n",
       "    u'url': u'http://www.tvmaze.com/episodes/909340/stranger-things-2x01-chapter-one-madmax'},\n",
       "   {u'_links': {u'self': {u'href': u'http://api.tvmaze.com/episodes/909342'}},\n",
       "    u'airdate': u'2017-10-27',\n",
       "    u'airstamp': u'2017-10-27T12:00:00+00:00',\n",
       "    u'airtime': u'',\n",
       "    u'id': 909342,\n",
       "    u'image': {u'medium': u'http://static.tvmaze.com/uploads/images/medium_landscape/132/332034.jpg',\n",
       "     u'original': u'http://static.tvmaze.com/uploads/images/original_untouched/132/332034.jpg'},\n",
       "    u'name': u'Chapter Two: Trick or Treat, Freak',\n",
       "    u'number': 2,\n",
       "    u'runtime': 60,\n",
       "    u'season': 2,\n",
       "    u'summary': u\"<p>After Will sees something terrible on trick-or-treat night, Mike wonders whether Eleven's still out there. Nancy wrestles with the truth about Barb.</p>\",\n",
       "    u'url': u'http://www.tvmaze.com/episodes/909342/stranger-things-2x02-chapter-two-trick-or-treat-freak'},\n",
       "   {u'_links': {u'self': {u'href': u'http://api.tvmaze.com/episodes/909343'}},\n",
       "    u'airdate': u'2017-10-27',\n",
       "    u'airstamp': u'2017-10-27T12:00:00+00:00',\n",
       "    u'airtime': u'',\n",
       "    u'id': 909343,\n",
       "    u'image': {u'medium': u'http://static.tvmaze.com/uploads/images/medium_landscape/132/332039.jpg',\n",
       "     u'original': u'http://static.tvmaze.com/uploads/images/original_untouched/132/332039.jpg'},\n",
       "    u'name': u'Chapter Three: The Pollywog',\n",
       "    u'number': 3,\n",
       "    u'runtime': 60,\n",
       "    u'season': 2,\n",
       "    u'summary': u'<p>Dustin adopts a strange new pet, and Eleven grows increasingly impatient. A well-meaning Bob urges Will to stand up to his fears.</p>',\n",
       "    u'url': u'http://www.tvmaze.com/episodes/909343/stranger-things-2x03-chapter-three-the-pollywog'},\n",
       "   {u'_links': {u'self': {u'href': u'http://api.tvmaze.com/episodes/909344'}},\n",
       "    u'airdate': u'2017-10-27',\n",
       "    u'airstamp': u'2017-10-27T12:00:00+00:00',\n",
       "    u'airtime': u'',\n",
       "    u'id': 909344,\n",
       "    u'image': {u'medium': u'http://static.tvmaze.com/uploads/images/medium_landscape/132/332045.jpg',\n",
       "     u'original': u'http://static.tvmaze.com/uploads/images/original_untouched/132/332045.jpg'},\n",
       "    u'name': u'Chapter Four: Will the Wise',\n",
       "    u'number': 4,\n",
       "    u'runtime': 60,\n",
       "    u'season': 2,\n",
       "    u'summary': u'<p>An ailing Will opens up to Joyce -- with disturbing results. While Hopper digs for the truth, Eleven unearths a surprising discovery.</p>',\n",
       "    u'url': u'http://www.tvmaze.com/episodes/909344/stranger-things-2x04-chapter-four-will-the-wise'},\n",
       "   {u'_links': {u'self': {u'href': u'http://api.tvmaze.com/episodes/909345'}},\n",
       "    u'airdate': u'2017-10-27',\n",
       "    u'airstamp': u'2017-10-27T12:00:00+00:00',\n",
       "    u'airtime': u'',\n",
       "    u'id': 909345,\n",
       "    u'image': {u'medium': u'http://static.tvmaze.com/uploads/images/medium_landscape/132/332050.jpg',\n",
       "     u'original': u'http://static.tvmaze.com/uploads/images/original_untouched/132/332050.jpg'},\n",
       "    u'name': u'Chapter Five: Dig Dug',\n",
       "    u'number': 5,\n",
       "    u'runtime': 60,\n",
       "    u'season': 2,\n",
       "    u'summary': u'<p>Nancy and Jonathan swap conspiracy theories with a new ally as Eleven searches for someone from her past. \"Bob the Brain\" tackles a difficult problem.</p>',\n",
       "    u'url': u'http://www.tvmaze.com/episodes/909345/stranger-things-2x05-chapter-five-dig-dug'},\n",
       "   {u'_links': {u'self': {u'href': u'http://api.tvmaze.com/episodes/909346'}},\n",
       "    u'airdate': u'2017-10-27',\n",
       "    u'airstamp': u'2017-10-27T12:00:00+00:00',\n",
       "    u'airtime': u'',\n",
       "    u'id': 909346,\n",
       "    u'image': {u'medium': u'http://static.tvmaze.com/uploads/images/medium_landscape/132/332052.jpg',\n",
       "     u'original': u'http://static.tvmaze.com/uploads/images/original_untouched/132/332052.jpg'},\n",
       "    u'name': u'Chapter Six: The Spy',\n",
       "    u'number': 6,\n",
       "    u'runtime': 60,\n",
       "    u'season': 2,\n",
       "    u'summary': u\"<p>Will's connection to a shadowy evil grows stronger, but no one's quite sure how to stop it. Elsewhere, Dustin and Steve forge an unlikely bond.</p>\",\n",
       "    u'url': u'http://www.tvmaze.com/episodes/909346/stranger-things-2x06-chapter-six-the-spy'},\n",
       "   {u'_links': {u'self': {u'href': u'http://api.tvmaze.com/episodes/909347'}},\n",
       "    u'airdate': u'2017-10-27',\n",
       "    u'airstamp': u'2017-10-27T12:00:00+00:00',\n",
       "    u'airtime': u'',\n",
       "    u'id': 909347,\n",
       "    u'image': {u'medium': u'http://static.tvmaze.com/uploads/images/medium_landscape/132/332055.jpg',\n",
       "     u'original': u'http://static.tvmaze.com/uploads/images/original_untouched/132/332055.jpg'},\n",
       "    u'name': u'Chapter Seven: The Lost Sister',\n",
       "    u'number': 7,\n",
       "    u'runtime': 60,\n",
       "    u'season': 2,\n",
       "    u'summary': u'<p>Psychic visions draw Eleven to a band of violent outcasts and an angry girl with a shadowy past.</p>',\n",
       "    u'url': u'http://www.tvmaze.com/episodes/909347/stranger-things-2x07-chapter-seven-the-lost-sister'},\n",
       "   {u'_links': {u'self': {u'href': u'http://api.tvmaze.com/episodes/909348'}},\n",
       "    u'airdate': u'2017-10-27',\n",
       "    u'airstamp': u'2017-10-27T12:00:00+00:00',\n",
       "    u'airtime': u'',\n",
       "    u'id': 909348,\n",
       "    u'image': {u'medium': u'http://static.tvmaze.com/uploads/images/medium_landscape/132/332059.jpg',\n",
       "     u'original': u'http://static.tvmaze.com/uploads/images/original_untouched/132/332059.jpg'},\n",
       "    u'name': u'Chapter Eight: The Mind Flayer',\n",
       "    u'number': 8,\n",
       "    u'runtime': 60,\n",
       "    u'season': 2,\n",
       "    u'summary': u'<p>An unlikely hero steps forward when a deadly development puts the Hawkins Lab on lockdown, trapping Will and several others inside.</p>',\n",
       "    u'url': u'http://www.tvmaze.com/episodes/909348/stranger-things-2x08-chapter-eight-the-mind-flayer'},\n",
       "   {u'_links': {u'self': {u'href': u'http://api.tvmaze.com/episodes/909349'}},\n",
       "    u'airdate': u'2017-10-27',\n",
       "    u'airstamp': u'2017-10-27T12:00:00+00:00',\n",
       "    u'airtime': u'',\n",
       "    u'id': 909349,\n",
       "    u'image': {u'medium': u'http://static.tvmaze.com/uploads/images/medium_landscape/132/332064.jpg',\n",
       "     u'original': u'http://static.tvmaze.com/uploads/images/original_untouched/132/332064.jpg'},\n",
       "    u'name': u'Chapter Nine: The Gate',\n",
       "    u'number': 9,\n",
       "    u'runtime': 60,\n",
       "    u'season': 2,\n",
       "    u'summary': u\"<p>Eleven makes plans to finish what she started while the survivors turn up the heat on the monstrous force that's holding Will hostage.</p>\",\n",
       "    u'url': u'http://www.tvmaze.com/episodes/909349/stranger-things-2x09-chapter-nine-the-gate'}]},\n",
       " u'_links': {u'previousepisode': {u'href': u'http://api.tvmaze.com/episodes/909349'},\n",
       "  u'self': {u'href': u'http://api.tvmaze.com/shows/2993'}},\n",
       " u'externals': {u'imdb': u'tt4574334', u'thetvdb': 305288, u'tvrage': 48493},\n",
       " u'genres': [u'Drama', u'Science-Fiction', u'Mystery'],\n",
       " u'id': 2993,\n",
       " u'image': {u'medium': u'http://static.tvmaze.com/uploads/images/medium_portrait/132/330543.jpg',\n",
       "  u'original': u'http://static.tvmaze.com/uploads/images/original_untouched/132/330543.jpg'},\n",
       " u'language': u'English',\n",
       " u'name': u'Stranger Things',\n",
       " u'network': None,\n",
       " u'officialSite': u'https://www.netflix.com/title/80057281',\n",
       " u'premiered': u'2016-07-15',\n",
       " u'rating': {u'average': 8.8},\n",
       " u'runtime': 60,\n",
       " u'schedule': {u'days': [u'Tuesday'], u'time': u''},\n",
       " u'status': u'Running',\n",
       " u'summary': u\"<p>A love letter to the '80s classics that captivated a generation, <b>Stranger Things</b> is set in 1983 Indiana, where a young boy vanishes into thin air. As friends, family and local police search for answers, they are drawn into an extraordinary mystery involving top-secret government experiments, terrifying supernatural forces and one very strange little girl.</p>\",\n",
       " u'type': u'Scripted',\n",
       " u'updated': 1509543477,\n",
       " u'url': u'http://www.tvmaze.com/shows/2993/stranger-things',\n",
       " u'webChannel': {u'country': None, u'id': 1, u'name': u'Netflix'},\n",
       " u'weight': 100}"
      ]
     },
     "execution_count": 12,
     "metadata": {},
     "output_type": "execute_result"
    }
   ],
   "source": [
    "j"
   ]
  },
  {
   "cell_type": "code",
   "execution_count": 13,
   "metadata": {},
   "outputs": [
    {
     "data": {
      "text/plain": [
       "[u'status',\n",
       " u'rating',\n",
       " u'genres',\n",
       " u'weight',\n",
       " u'updated',\n",
       " u'name',\n",
       " u'language',\n",
       " u'schedule',\n",
       " u'url',\n",
       " u'officialSite',\n",
       " u'externals',\n",
       " u'premiered',\n",
       " u'summary',\n",
       " u'_links',\n",
       " u'image',\n",
       " u'webChannel',\n",
       " u'_embedded',\n",
       " u'runtime',\n",
       " u'type',\n",
       " u'id',\n",
       " u'network']"
      ]
     },
     "execution_count": 13,
     "metadata": {},
     "output_type": "execute_result"
    }
   ],
   "source": [
    "j.keys()"
   ]
  },
  {
   "cell_type": "code",
   "execution_count": 14,
   "metadata": {},
   "outputs": [
    {
     "data": {
      "text/plain": [
       "u'Stranger Things'"
      ]
     },
     "execution_count": 14,
     "metadata": {},
     "output_type": "execute_result"
    }
   ],
   "source": [
    "j['name']"
   ]
  },
  {
   "cell_type": "code",
   "execution_count": 15,
   "metadata": {},
   "outputs": [
    {
     "data": {
      "text/plain": [
       "u\"<p>A love letter to the '80s classics that captivated a generation, <b>Stranger Things</b> is set in 1983 Indiana, where a young boy vanishes into thin air. As friends, family and local police search for answers, they are drawn into an extraordinary mystery involving top-secret government experiments, terrifying supernatural forces and one very strange little girl.</p>\""
      ]
     },
     "execution_count": 15,
     "metadata": {},
     "output_type": "execute_result"
    }
   ],
   "source": [
    "j['summary']"
   ]
  },
  {
   "cell_type": "code",
   "execution_count": 16,
   "metadata": {},
   "outputs": [
    {
     "data": {
      "text/plain": [
       "u'Stranger Things'"
      ]
     },
     "execution_count": 16,
     "metadata": {},
     "output_type": "execute_result"
    }
   ],
   "source": [
    "j['name']"
   ]
  },
  {
   "cell_type": "code",
   "execution_count": null,
   "metadata": {
    "collapsed": true
   },
   "outputs": [],
   "source": [
    "j.values()"
   ]
  },
  {
   "cell_type": "code",
   "execution_count": null,
   "metadata": {
    "collapsed": true
   },
   "outputs": [],
   "source": [
    "for key in j.keys():\n",
    "    print\n",
    "    print key\n",
    "    print j[key]"
   ]
  },
  {
   "cell_type": "code",
   "execution_count": null,
   "metadata": {
    "collapsed": true
   },
   "outputs": [],
   "source": [
    "print json.dumps(j, indent=4, sort_keys=True)"
   ]
  },
  {
   "cell_type": "markdown",
   "metadata": {},
   "source": [
    "## Problem\n",
    "\n",
    "Find title of **Chapter 7**"
   ]
  },
  {
   "cell_type": "code",
   "execution_count": null,
   "metadata": {
    "collapsed": true
   },
   "outputs": [],
   "source": []
  },
  {
   "cell_type": "markdown",
   "metadata": {},
   "source": [
    "## Problem\n",
    "\n",
    "Count the number of **\"Wills\"** appeared from the summary"
   ]
  },
  {
   "cell_type": "code",
   "execution_count": null,
   "metadata": {
    "collapsed": true
   },
   "outputs": [],
   "source": []
  },
  {
   "cell_type": "code",
   "execution_count": null,
   "metadata": {
    "collapsed": true
   },
   "outputs": [],
   "source": []
  }
 ],
 "metadata": {
  "anaconda-cloud": {},
  "kernelspec": {
   "display_name": "Python 2",
   "language": "python",
   "name": "python2"
  },
  "language_info": {
   "codemirror_mode": {
    "name": "ipython",
    "version": 2
   },
   "file_extension": ".py",
   "mimetype": "text/x-python",
   "name": "python",
   "nbconvert_exporter": "python",
   "pygments_lexer": "ipython2",
   "version": "2.7.14"
  }
 },
 "nbformat": 4,
 "nbformat_minor": 1
}
