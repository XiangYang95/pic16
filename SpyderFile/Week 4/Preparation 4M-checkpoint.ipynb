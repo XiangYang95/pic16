{
 "cells": [
  {
   "cell_type": "code",
   "execution_count": 24,
   "metadata": {
    "collapsed": true
   },
   "outputs": [],
   "source": [
    "with open(\"text0.txt\",\"a\") as f:\n",
    "    f.write(\"Hello world!\\n\")"
   ]
  },
  {
   "cell_type": "code",
   "execution_count": null,
   "metadata": {
    "collapsed": true
   },
   "outputs": [],
   "source": [
    "x = {\"Hello\":1, \"Goodbye\": 2}"
   ]
  },
  {
   "cell_type": "code",
   "execution_count": 3,
   "metadata": {},
   "outputs": [
    {
     "name": "stdout",
     "output_type": "stream",
     "text": [
      "{'Hello': 1, 'Goodbye': 2}\n"
     ]
    }
   ],
   "source": [
    "with open(\"test.txt\",\"w\") as f:\n",
    "    f.write(str(x))\n",
    "    \n",
    "with open(\"test.txt\",\"r\") as f:\n",
    "    y = f.read()\n",
    "    \n",
    "print y"
   ]
  },
  {
   "cell_type": "code",
   "execution_count": 6,
   "metadata": {},
   "outputs": [
    {
     "name": "stdout",
     "output_type": "stream",
     "text": [
      "<type 'str'>\n"
     ]
    },
    {
     "ename": "TypeError",
     "evalue": "string indices must be integers, not str",
     "output_type": "error",
     "traceback": [
      "\u001b[0;31m---------------------------------------------------------------------------\u001b[0m",
      "\u001b[0;31mTypeError\u001b[0m                                 Traceback (most recent call last)",
      "\u001b[0;32m<ipython-input-6-8f42c2ad0325>\u001b[0m in \u001b[0;36m<module>\u001b[0;34m()\u001b[0m\n\u001b[1;32m      1\u001b[0m \u001b[0;32mprint\u001b[0m \u001b[0mtype\u001b[0m\u001b[0;34m(\u001b[0m\u001b[0my\u001b[0m\u001b[0;34m)\u001b[0m\u001b[0;34m\u001b[0m\u001b[0m\n\u001b[0;32m----> 2\u001b[0;31m \u001b[0;32mprint\u001b[0m \u001b[0my\u001b[0m\u001b[0;34m[\u001b[0m\u001b[0;34m\"Hello\"\u001b[0m\u001b[0;34m]\u001b[0m \u001b[0;31m# this error is expected, y is a string\u001b[0m\u001b[0;34m\u001b[0m\u001b[0m\n\u001b[0m",
      "\u001b[0;31mTypeError\u001b[0m: string indices must be integers, not str"
     ]
    }
   ],
   "source": [
    "print type(y)\n",
    "print y[\"Hello\"] # this error is expected, y is a string"
   ]
  },
  {
   "cell_type": "code",
   "execution_count": 8,
   "metadata": {},
   "outputs": [
    {
     "name": "stdout",
     "output_type": "stream",
     "text": [
      "{u'Hello': 1, u'Goodbye': 2}\n"
     ]
    }
   ],
   "source": [
    "import json\n",
    "with open(\"test.txt\",\"w\") as f:\n",
    "    json.dump(x,f)\n",
    "    \n",
    "with open(\"test.txt\",\"r\") as f:\n",
    "    y = json.load(f)\n",
    "    \n",
    "print y"
   ]
  },
  {
   "cell_type": "code",
   "execution_count": 9,
   "metadata": {},
   "outputs": [
    {
     "name": "stdout",
     "output_type": "stream",
     "text": [
      "<type 'dict'>\n",
      "1\n"
     ]
    }
   ],
   "source": [
    "print type(y)\n",
    "print y[\"Hello\"]"
   ]
  },
  {
   "cell_type": "code",
   "execution_count": 14,
   "metadata": {},
   "outputs": [
    {
     "name": "stdout",
     "output_type": "stream",
     "text": [
      "Enter math expression:\n",
      "Expression: 1+1\n",
      "Result: 2\n",
      "Expression: 3*2\n",
      "Result: 6\n",
      "Expression: 4**2\n",
      "Result: 16\n",
      "Expression: q\n",
      "Invalid Expression\n"
     ]
    }
   ],
   "source": [
    "from math import *\n",
    "import sys\n",
    "print \"Enter math expression:\"\n",
    "sys.stdout.flush() # notice this? ask me about it\n",
    "flag = True\n",
    "while (flag):\n",
    "    try:\n",
    "        x = input(\"Expression: \")\n",
    "        print \"Result:\", x\n",
    "    except:\n",
    "        print \"Invalid Expression\"\n",
    "        flag = False"
   ]
  },
  {
   "cell_type": "code",
   "execution_count": 6,
   "metadata": {},
   "outputs": [
    {
     "name": "stdout",
     "output_type": "stream",
     "text": [
      "Enter math expression:\n",
      "Expression: 1+1\n",
      "Result: 2\n",
      "Expression: sin(10)\n",
      "Result: -0.544021110889\n",
      "Expression: sin(x)\n",
      "Invalid Expression\n",
      "Expression: \"hello\" + \"world\"\n",
      "That wasn't a math expression!\n",
      "Result: helloworld\n",
      "Expression: QuIt\n"
     ]
    }
   ],
   "source": [
    "from math import *\n",
    "import sys\n",
    "print \"Enter math expression:\"\n",
    "sys.stdout.flush() # notice this? ask me about it\n",
    "flag = True\n",
    "while (flag):\n",
    "    try:\n",
    "        x = raw_input(\"Expression: \")\n",
    "        if x.lower() == \"q\" or x.lower() == \"quit\":\n",
    "            break\n",
    "        y = eval(x)\n",
    "        try:\n",
    "            float(y)\n",
    "        except:\n",
    "            print \"That wasn't a math expression!\"\n",
    "        print \"Result:\", y\n",
    "    except:\n",
    "        print \"Invalid Expression\""
   ]
  },
  {
   "cell_type": "code",
   "execution_count": 7,
   "metadata": {
    "collapsed": true
   },
   "outputs": [],
   "source": [
    "import csv\n",
    "with open(\"simpledata.csv\",\"rb\") as f:\n",
    "    r = csv.reader(f)\n",
    "    t = []\n",
    "    for row in r:\n",
    "        t.append(row)"
   ]
  },
  {
   "cell_type": "code",
   "execution_count": 8,
   "metadata": {},
   "outputs": [
    {
     "name": "stdout",
     "output_type": "stream",
     "text": [
      "[['Name', 'Phone'], ['Ifeoma Rosario', '848-1434'], ['Kylan Clay', '271-3698'], ['Dustin Evans', '583-3803'], ['Kelly Carver', '614-9223']]\n"
     ]
    }
   ],
   "source": [
    "print t"
   ]
  },
  {
   "cell_type": "code",
   "execution_count": 12,
   "metadata": {},
   "outputs": [
    {
     "name": "stdout",
     "output_type": "stream",
     "text": [
      "Name \t\tPhone\n",
      "IFEOMA ROSARIO \t848-1434\n",
      "KYLAN CLAY \t271-3698\n",
      "DUSTIN EVANS \t583-3803\n",
      "KELLY CARVER \t614-9223\n"
     ]
    }
   ],
   "source": [
    "print t[0][0],\"\\t\\t\",t[0][1]\n",
    "for row in t[1:]:\n",
    "    row[0] = row[0].upper()\n",
    "    print row[0],\"\\t\",row[1]"
   ]
  },
  {
   "cell_type": "code",
   "execution_count": 15,
   "metadata": {},
   "outputs": [],
   "source": [
    "with open(\"simpledata2.csv\",\"wb\") as f:\n",
    "    w = csv.writer(f,delimiter = \",\")\n",
    "    for row in t:\n",
    "        w.writerow(row)"
   ]
  }
 ],
 "metadata": {
  "anaconda-cloud": {},
  "kernelspec": {
   "display_name": "Python 2",
   "language": "python",
   "name": "python2"
  },
  "language_info": {
   "codemirror_mode": {
    "name": "ipython",
    "version": 2
   },
   "file_extension": ".py",
   "mimetype": "text/x-python",
   "name": "python",
   "nbconvert_exporter": "python",
   "pygments_lexer": "ipython2",
   "version": "2.7.14"
  }
 },
 "nbformat": 4,
 "nbformat_minor": 1
}
