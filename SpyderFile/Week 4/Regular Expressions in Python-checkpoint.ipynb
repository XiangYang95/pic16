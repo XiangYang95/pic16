{
 "cells": [
  {
   "cell_type": "markdown",
   "metadata": {},
   "source": [
    "Now that we can write regular expressions and test them online (e.g. <a href = \"http://www.pythex.org\">Pythex</a>), let's take a look at some of the functions Python has for working with them.\n",
    "\n",
    "First, import the `re` module,  which is part of the Python standard library. "
   ]
  },
  {
   "cell_type": "code",
   "execution_count": 1,
   "metadata": {
    "collapsed": true
   },
   "outputs": [],
   "source": [
    "import re\n",
    "s = \"Test string with some numbers like 439 and 234 and maybe some others like 19 and 20004\""
   ]
  },
  {
   "cell_type": "markdown",
   "metadata": {},
   "source": [
    "So that we can focus on learning the _Python_, let's use a very simple regular expression that matches simple integers."
   ]
  },
  {
   "cell_type": "code",
   "execution_count": 2,
   "metadata": {
    "collapsed": true
   },
   "outputs": [],
   "source": [
    "regex = r\"\\d+\" # integers (no sign, no commas, etc....)"
   ]
  },
  {
   "cell_type": "markdown",
   "metadata": {},
   "source": [
    "Notice the `r` in front of the string. This means we're entering a _raw_ string and that the computer is to interpret each character in the string literally. Without the preceding `r`, the `\\` is typically interpreted as an _escape character_ that gives special meaning to the following character. For instance, the newline character is written as `\\n`:"
   ]
  },
  {
   "cell_type": "code",
   "execution_count": 3,
   "metadata": {},
   "outputs": [
    {
     "name": "stdout",
     "output_type": "stream",
     "text": [
      "hello\n",
      "world\n"
     ]
    }
   ],
   "source": [
    "print(\"hello\\nworld\")"
   ]
  },
  {
   "cell_type": "markdown",
   "metadata": {},
   "source": [
    "But for a raw string..."
   ]
  },
  {
   "cell_type": "code",
   "execution_count": 4,
   "metadata": {},
   "outputs": [
    {
     "name": "stdout",
     "output_type": "stream",
     "text": [
      "hello\\nworld\n"
     ]
    }
   ],
   "source": [
    "print(r\"hello\\nworld\")"
   ]
  },
  {
   "cell_type": "markdown",
   "metadata": {},
   "source": [
    "We use raw strings with regular expressions because we don't want the core Python language to be interpreting the strings; we want it to pass them exactly as we enter them to the functions of the `re` module."
   ]
  },
  {
   "cell_type": "markdown",
   "metadata": {},
   "source": [
    "<a href = \"https://docs.python.org/2/library/re.html#re.search\">`re.search`</a> is a function that looks for a regular expression in a string. As soon as it finds it once, it returns."
   ]
  },
  {
   "cell_type": "code",
   "execution_count": 5,
   "metadata": {},
   "outputs": [
    {
     "name": "stdout",
     "output_type": "stream",
     "text": [
      "<_sre.SRE_Match object at 0x06DF3288>\n",
      "<type '_sre.SRE_Match'>\n"
     ]
    }
   ],
   "source": [
    "match = re.search(regex, s)\n",
    "print match\n",
    "print type(match)"
   ]
  },
  {
   "cell_type": "markdown",
   "metadata": {},
   "source": [
    "Apparently `re.search` returns a <a href = \"https://docs.python.org/2/library/re.html#re.MatchObject\">_match object_</a>. Here are a few of the useful methods; take a look at the documentation for more."
   ]
  },
  {
   "cell_type": "code",
   "execution_count": 6,
   "metadata": {},
   "outputs": [
    {
     "name": "stdout",
     "output_type": "stream",
     "text": [
      "35\n",
      "38\n",
      "439\n"
     ]
    }
   ],
   "source": [
    "print match.start() # index where the match begins\n",
    "print match.end()   # index where the match ends\n",
    "print match.group() # the part of the string that is matched"
   ]
  },
  {
   "cell_type": "markdown",
   "metadata": {},
   "source": [
    "Actually, the `group` method is for more than that, but to explore its purpose we'll need to use a regular expression with some capture groups. A trivial example is:"
   ]
  },
  {
   "cell_type": "code",
   "execution_count": 7,
   "metadata": {
    "collapsed": true
   },
   "outputs": [],
   "source": [
    "regex = r\"(\\w+) (\\d+)\" # word followed by a number; capture the word and the number separately"
   ]
  },
  {
   "cell_type": "code",
   "execution_count": 8,
   "metadata": {},
   "outputs": [
    {
     "name": "stdout",
     "output_type": "stream",
     "text": [
      "like 439\n",
      "like\n",
      "439\n"
     ]
    }
   ],
   "source": [
    "match = re.search(regex, s)\n",
    "print match.group(0) # the entirety of the string that is matched\n",
    "print match.group(1) # the first capture group\n",
    "print match.group(2) # the second capture group"
   ]
  },
  {
   "cell_type": "markdown",
   "metadata": {},
   "source": [
    "Since `search` only finds one match, it's best for testing regular expressions. More often we'll want to <a href = \"https://docs.python.org/2/library/re.html#re.findall\">`re.findall`</a>."
   ]
  },
  {
   "cell_type": "code",
   "execution_count": 9,
   "metadata": {},
   "outputs": [
    {
     "name": "stdout",
     "output_type": "stream",
     "text": [
      "[('like', '439'), ('and', '234'), ('like', '19'), ('and', '20004')]\n"
     ]
    }
   ],
   "source": [
    "matches = re.findall(regex, s)\n",
    "print matches"
   ]
  },
  {
   "cell_type": "markdown",
   "metadata": {},
   "source": [
    "The `match` object returned by `search` had some handy methods, but `search` only found one `match`. <br>\n",
    "`findall` gives us a list of tuples of _all_ the capture groups, but it doesn't give us where they were found or anything else. <br>\n",
    "To get the best of both worlds we have to use <a  href = \"https://docs.python.org/2/library/re.html#re.finditer\">`re.finditer`</a> function."
   ]
  },
  {
   "cell_type": "code",
   "execution_count": 10,
   "metadata": {},
   "outputs": [
    {
     "name": "stdout",
     "output_type": "stream",
     "text": [
      "<callable-iterator object at 0x06DE8350>\n"
     ]
    }
   ],
   "source": [
    "match_iterator = re.finditer(regex, s)\n",
    "print match_iterator"
   ]
  },
  {
   "cell_type": "markdown",
   "metadata": {},
   "source": [
    "In case you haven't seen Python iterators yet, let's not worry about what that means. Let's just turn that thing into a more familiar `list`. "
   ]
  },
  {
   "cell_type": "code",
   "execution_count": 11,
   "metadata": {},
   "outputs": [
    {
     "data": {
      "text/plain": [
       "[<_sre.SRE_Match at 0x6af6da0>,\n",
       " <_sre.SRE_Match at 0x6dde8d8>,\n",
       " <_sre.SRE_Match at 0x6dde890>,\n",
       " <_sre.SRE_Match at 0x6dde4a0>]"
      ]
     },
     "execution_count": 11,
     "metadata": {},
     "output_type": "execute_result"
    }
   ],
   "source": [
    "matches = list(match_iterator)\n",
    "matches"
   ]
  },
  {
   "cell_type": "code",
   "execution_count": 12,
   "metadata": {},
   "outputs": [
    {
     "name": "stdout",
     "output_type": "stream",
     "text": [
      "The text 'like 439' begins at index 30\n",
      "The text 'and 234' begins at index 39\n",
      "The text 'like 19' begins at index 69\n",
      "The text 'and 20004' begins at index 77\n"
     ]
    }
   ],
   "source": [
    "for match in matches:\n",
    "    print(\"The text '\" + match.group() + \"' begins at index \" + str(match.start()))"
   ]
  },
  {
   "cell_type": "markdown",
   "metadata": {},
   "source": [
    "Finally, besides extracting information from text, another very important use of regular expressions is for _replacing_ text. The `re` module covers that, too, with <a href = \"https://docs.python.org/2/library/re.html#re.sub\">`re.sub`</a>. In another horribly contrived example, we'll flip the order of the number and the preceeding word and enclose them in brackets, just because we can. "
   ]
  },
  {
   "cell_type": "code",
   "execution_count": 13,
   "metadata": {},
   "outputs": [
    {
     "name": "stdout",
     "output_type": "stream",
     "text": [
      "Test string with some numbers [439 like] [234 and] and maybe some others [19 like] [20004 and]\n"
     ]
    }
   ],
   "source": [
    "replace_with = r\"[\\2 \\1]\" # indicate that the capture group 2 is supposed to come before capture group one\n",
    "s2 = re.sub(regex, replace_with, s)\n",
    "print s2"
   ]
  },
  {
   "cell_type": "markdown",
   "metadata": {},
   "source": [
    "Notice that `re.sub` interprets the brackets in the string `replace_with` literally, but interprets the numbers preceeded with backslashes as the capture groups. This allows you to replace matches with a combination of regular text and the text found in the capture groups."
   ]
  },
  {
   "cell_type": "markdown",
   "metadata": {},
   "source": [
    "For more information, see <a href = \"https://regexone.com/references/python\">RegexOne \"Using Regular Expressions in Python\"</a> and the <a href = \"https://docs.python.org/2/library/re.html\">official documentation</a>."
   ]
  }
 ],
 "metadata": {
  "kernelspec": {
   "display_name": "Python 2",
   "language": "python",
   "name": "python2"
  },
  "language_info": {
   "codemirror_mode": {
    "name": "ipython",
    "version": 2
   },
   "file_extension": ".py",
   "mimetype": "text/x-python",
   "name": "python",
   "nbconvert_exporter": "python",
   "pygments_lexer": "ipython2",
   "version": "2.7.14"
  }
 },
 "nbformat": 4,
 "nbformat_minor": 2
}
